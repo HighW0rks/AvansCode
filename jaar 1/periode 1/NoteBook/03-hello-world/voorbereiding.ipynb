{
 "cells": [
  {
   "cell_type": "markdown",
   "id": "2eb6f6e3",
   "metadata": {},
   "source": [
    "In onderstaande video worden de basics van het werken in C# met Visual Studio Code uitgelegd\n",
    "\n",
    "<iframe width=\"560\" height=\"315\" src=\"https://www.youtube.com/embed/3ST-7TP09qk?si=E1FaaMZ-g8yK8NwS\" title=\"YouTube video player\" frameborder=\"0\" allow=\"accelerometer; autoplay; clipboard-write; encrypted-media; gyroscope; picture-in-picture; web-share\" referrerpolicy=\"strict-origin-when-cross-origin\" allowfullscreen></iframe>"
   ]
  },
  {
   "cell_type": "markdown",
   "id": "f5739d53",
   "metadata": {},
   "source": []
  }
 ],
 "metadata": {
  "language_info": {
   "name": "python"
  }
 },
 "nbformat": 4,
 "nbformat_minor": 5
}
