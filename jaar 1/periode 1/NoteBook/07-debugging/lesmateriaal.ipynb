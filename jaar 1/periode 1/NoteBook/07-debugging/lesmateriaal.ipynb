{
    "cells": [
        {
            "cell_type": "markdown",
            "metadata": {},
            "source": [
                "# Debugging\n",
                "\n",
                "In de voorgaande notebooks hebben we ons gericht op het schrijven van code. Nu richten we ons op een even belangrijke vaardigheid: het vinden en oplossen van fouten. Dit proces heet **debugging**. Zelfs de meest ervaren programmeurs schrijven code met bugs; het verschil zit in hoe efficiënt ze die kunnen opsporen en verhelpen. Dit notebook introduceert de fundamentele tools die elke IDE, inclusief Visual Studio Code, biedt om dit proces te ondersteunen."
            ]
        },
        {
            "cell_type": "markdown",
            "metadata": {},
            "source": [
                "## Breakpoints: pauzeer de uitvoering van jouw code\n",
                "\n",
                "De kern van elke effectieve debugsessie is het kunnen **pauzeren** van je programma op specifieke punten. Dit wordt gedaan met behulp van een breakpoint, een markering die aangeeft waar de debugger moet stoppen tijdens runtime.\n",
                "\n",
                "### Wat zijn breakpoints?\n",
                "Een breakpoint is een handleiding voor de debugger om:\n",
                "- De uitvoering te onderbreken op precies het moment dat een regel code wordt **uitgevoerd**\n",
                "- Je te geven de mogelijkheid om variabelen en context te inspecteren\n",
                "- Het programma stil te zetten op kritieke momenten\n",
                "\n",
                "### Hoe werkt het?\n",
                "1. De breakpoint is ingesteld *voor* de regel die moet worden uitgevoerd\n",
                "2. Wanneer dat specifieke punt in de code wordt bereikt, houdt de debugger het programma even voor\n",
                "3. Je hebt dan de kans om:\n",
                "   - De huidige staat van je applicatie te bekijken\n",
                "   - Waarden van variabelen te analyseren \n",
                "   - Het pad te traceren dat tot dit punt geleid heeft"
            ]
        },
        {
            "cell_type": "markdown",
            "metadata": {},
            "source": [
                "## Stepping: Navigeren door code\n",
                "\n",
                "Zodra je programma is gepauzeerd op een breakpoint, wil je niet altijd direct doorgaan. Vaak wil je de code stap voor stap doorlopen om te observeren hoe de staat van je programma verandert. Dit proces heet **stepping**. De controlebalk van de debugger biedt hiervoor de volgende belangrijkste opties:\n",
                "\n",
                "- **Step Over** (`F10`):  \n",
                "  Deze optie gebruik je het vaakst. Hiermee wordt de huidige regel volledig uitgevoerd en pauzeert de debugger op de eerstvolgende regel. Als de regel een methodeaanroep bevat, wordt de *hele methode* uitgevoerd zonder dat je de code binnen die methode ziet. De debugger ‘stapt’ dus over de methode heen.\n",
                "\n",
                "- **Step Into** (`F11`):  \n",
                "  Gebruik **Step Into** als je wilt weten wat er binnen een aangeroepen methode gebeurt. De debugger springt in de betreffende methode en pauzeert op de eerste regel binnen die functie. Dit is handig als je wilt onderzoeken wat er *binnenin* een functie gebeurt.\n",
                "\n",
                "- **Step Out** (`Shift+F11`):  \n",
                "  Ben je met 'Step Into' een methode binnengegaan en wil je weer terug naar het vorige niveau? Met **Step Out** voert de debugger de rest van de huidige methode in één keer uit en pauzeert op de regel direct *na* de oorspronkelijke methodeaanroep. Zo stap je een niveau terug (‘omhoog’) in de call stack.\n",
                "\n",
                "- **Continue** (`F5`):  \n",
                "  Met **Continue** hervat je de normale uitvoering van het programma tot een volgend breakpoint wordt bereikt of het programma eindigt.\n",
                "\n",
                "- **Stop** (`Shift+F5`):  \n",
                "  Beëindigt de gehele debug-sessie."
            ]
        },
        {
            "cell_type": "markdown",
            "metadata": {},
            "source": [
                "## Call Stack: Weten waar je bent\n",
                "\n",
                "_In onderstaande tekst wordt er gewerkt met methodes. Een methode is een stukje code dat hergebruikt kan worden. Op deze manier voorkom je dat bepaalde logica op meerdere plaatsen dient te programmeren. Voor nu is het voldoende om dit te begrijpen, later gaan we zelf methodes schrijven._\n",
                "\n",
                "Wanneer programma's complexer worden met meerdere functies die elkaar aanroepen, kan het lastig zijn om te onthouden hoe de code op een bepaald punt is terechtgekomen. De **Call Stack** (aanroepstack) lost dit op. Het is een lijst die laat zien welke functies momenteel actief zijn.\n",
                "\n",
                "Elke keer als een functie wordt aangeroepen, wordt deze bovenop de stack geplaatst. Wanneer een functie eindigt (met een `return` of aan het einde van de functie), wordt deze van de stack gehaald. De functie die nu bovenop staat, is weer de actieve functie.\n",
                "\n",
                "Bekijk de volgende code:\n",
                "```csharp\n",
                "void PrintSquare(int n) {\n",
                "    int squared = Square(n); // Aanroep 2\n",
                "    Console.WriteLine(squared);\n",
                "}\n",
                "int Square(int n) {\n",
                "    return Multiply(n, n);   // Aanroep 3\n",
                "}\n",
                "int Multiply(int a, int b) {\n",
                "    return a * b;            // Hier staat de breakpoint\n",
                "}\n",
                "\n",
                "PrintSquare(5); // Aanroep 1\n",
                "```\n",
                "\n",
                "Als je een breakpoint in de `Multiply` functie plaatst, zal de Call Stack er zo uitzien:\n",
                "\n",
                "| Methode  | Regel      |\n",
                "|----------|------------|\n",
                "| Multiply | `main.cs:9`  |\n",
                "| Square   | `main.cs:6`  |\n",
                "| PrintSquare| `main.cs:2`  |\n",
                "| Main     | `main.cs:12` |\n",
                "\n",
                "Je leest de stack van boven naar beneden: `Multiply` is de huidige functie, die werd aangeroepen door `Square`, die weer werd aangeroepen door `PrintSquare`, etc. Dit is een onmisbaar hulpmiddel om de programmastroom te begrijpen, vooral bij het debuggen van recursieve functies."
            ]
        },
        {
            "cell_type": "markdown",
            "metadata": {},
            "source": [
                "## Watches: Variabelen en expressies inspecteren\n",
                "\n",
                "Terwijl je door de code stapt, wil je de waarden van variabelen in de gaten houden. Het 'Variables' venster toont de lokale variabelen, maar soms wil je meer.\n",
                "\n",
                "Het **Watch**-venster is een handige tool waarin je specifieke variabelen of zelfs complete expressies kunt invoeren. De debugger evalueert deze expressies continu na elke stap en toont je de actuele waarde. Dit is nuttig om:\n",
                "\n",
                "- Een specifieke variabele te volgen die diep in een object genest is.\n",
                "- De waarde van een complexe expressie te controleren, bijvoorbeeld `items.Count > 10 && currentUser.IsAdmin`.\n",
                "- Te zien hoe de waarde van een variabele verandert gedurende een lus.\n",
                "\n",
                "Je kunt items toevoegen aan het Watch-venster door in het venster te klikken en de naam van een variabele of een expressie in te typen. Dit geeft je gerichte informatie, los van de vele lokale variabelen die soms zichtbaar zijn."
            ]
        },
        {
            "cell_type": "markdown",
            "metadata": {},
            "source": [
                "# Vragen\n",
                "\n",
                "De volgende vragen helpen je om de concepten van debugging te toetsen. Denk goed na over de toepassing van de tools in de gegeven scenario's."
            ]
        },
        {
            "cell_type": "markdown",
            "metadata": {},
            "source": [
                "### Vraag 1: Breakpoint plaatsing\n",
                "Je hebt een `if-else if-else` keten die een verkeerde tak van de code lijkt uit te voeren. Op welke regel code plaats je een breakpoint om de oorzaak het meest efficiënt te onderzoeken en waarom juist daar?"
            ]
        },
        {
            "cell_type": "code",
            "execution_count": null,
            "metadata": {
                "polyglot_notebook": {
                    "kernelName": "csharp"
                }
            },
            "outputs": [],
            "source": []
        },
        {
            "cell_type": "markdown",
            "metadata": {},
            "source": [
                "### Vraag 2: Step Over vs. Step Into\n",
                "Je staat gepauzeerd op een regel die een zelfgeschreven functie `BerekenTotaalprijs()` aanroept. Beschrijf wat er gebeurt als je 'Step Over' gebruikt en wat er gebeurt als je 'Step Into' gebruikt."
            ]
        },
        {
            "cell_type": "code",
            "execution_count": null,
            "metadata": {
                "polyglot_notebook": {
                    "kernelName": "csharp"
                }
            },
            "outputs": [],
            "source": []
        },
        {
            "cell_type": "markdown",
            "metadata": {},
            "source": [
                "### Vraag 3: Call Stack analyse\n",
                "Gegeven de volgende code, wat staat er in de Call Stack (in de juiste volgorde) wanneer het programma pauzeert op de regel `// Breakpoint hier`?\n",
                "```csharp\n",
                "void Start() { VerwerkData(); }\n",
                "void VerwerkData() { string s = FormatteerString(\"test\"); }\n",
                "string FormatteerString(string input) { \n",
                "    // Breakpoint hier\n",
                "    return input.ToUpper();\n",
                "}\n",
                "```"
            ]
        },
        {
            "cell_type": "code",
            "execution_count": null,
            "metadata": {
                "polyglot_notebook": {
                    "kernelName": "csharp"
                }
            },
            "outputs": [],
            "source": []
        },
        {
            "cell_type": "markdown",
            "metadata": {},
            "source": [
                "### Vraag 4: Een `for`-lus debuggen\n",
                "Een `for`-lus die de som van een lijst getallen berekent, geeft een onjuist eindresultaat. Welke twee variabelen zou je in het 'Watch'-venster plaatsen om het probleem te vinden en waarom?"
            ]
        },
        {
            "cell_type": "code",
            "execution_count": null,
            "metadata": {
                "polyglot_notebook": {
                    "kernelName": "csharp"
                }
            },
            "outputs": [],
            "source": []
        },
        {
            "cell_type": "markdown",
            "metadata": {},
            "source": [
                "### Vraag 5: Efficiënt uit een functie stappen\n",
                "Je bent met 'Step Into' per ongeluk in een lange, complexe functie beland waarvan je weet dat deze correct werkt. Je wilt de rest van deze functie overslaan en terugkeren naar de plek waar hij werd aangeroepen. Welke 'stepping'-actie gebruik je?"
            ]
        },
        {
            "cell_type": "code",
            "execution_count": null,
            "metadata": {
                "polyglot_notebook": {
                    "kernelName": "csharp"
                }
            },
            "outputs": [],
            "source": []
        },
        {
            "cell_type": "markdown",
            "metadata": {},
            "source": [
                "### Vraag 6: Call Stack bij recursie\n",
                "Wat is het nut van de 'Call Stack' bij het debuggen van een recursieve functie? Wat gebeurt er met de Call Stack bij elke recursieve aanroep?"
            ]
        },
        {
            "cell_type": "code",
            "execution_count": null,
            "metadata": {
                "polyglot_notebook": {
                    "kernelName": "csharp"
                }
            },
            "outputs": [],
            "source": []
        },
        {
            "cell_type": "markdown",
            "metadata": {},
            "source": [
                "# Uitdagingen"
            ]
        },
        {
            "cell_type": "markdown",
            "metadata": {},
            "source": [
                "### Uitdaging 1: De \"Off-by-One\" fout\n",
                "De code in het onderstaande blok zou de som van de getallen 1 tot en met 5 moeten berekenen (wat 15 is), maar geeft een verkeerd antwoord. Gebruik de debug-tools om te achterhalen waarom. Beschrijf:\n",
                "1. Waar je een breakpoint plaatst.\n",
                "2. Welke variabelen je in de 'Watch' zet.\n",
                "3. Op welke iteratie de logica fout gaat en wat de uiteindelijke oplossing is."
            ]
        },
        {
            "cell_type": "code",
            "execution_count": null,
            "metadata": {
                "polyglot_notebook": {
                    "kernelName": "csharp"
                }
            },
            "outputs": [],
            "source": [
                "int som = 0;\n",
                "for (int i = 1; i < 5; i++)\n",
                "{\n",
                "    som += i;\n",
                "}\n",
                "Console.WriteLine(\"De berekende som is: \" + som);"
            ]
        },
        {
            "cell_type": "markdown",
            "metadata": {},
            "source": [
                "### Uitdaging 2: De verdwaalde recursie\n",
                "De recursieve functie in het onderstaande blok is bedoeld om af te tellen van `n` naar 0, maar veroorzaakt een `StackOverflowException` (het crasht). Gebruik de debugger en de Call Stack om uit te leggen waarom dit gebeurt. Wat is het fundamentele probleem in de logica?"
            ]
        },
        {
            "cell_type": "code",
            "execution_count": null,
            "metadata": {
                "polyglot_notebook": {
                    "kernelName": "csharp"
                }
            },
            "outputs": [],
            "source": [
                "void TelAf(int n)\n",
                "{\n",
                "    Console.WriteLine(n);\n",
                "    TelAf(n - 1); // Fout: er is geen basisgeval om te stoppen\n",
                "}\n",
                "\n",
                "// Roep de functie aan om de fout te veroorzaken:\n",
                "// TelAf(5);"
            ]
        },
        {
            "cell_type": "markdown",
            "metadata": {},
            "source": [
                "### Uitdaging 3: Complexe data inspecteren\n",
                "De code hieronder crasht met een `NullReferenceException` omdat een van de `Product`-objecten in de lijst `null` is. Het is onpraktisch om door een lange lijst te stappen. Hoe kun je een **conditional breakpoint** instellen om het programma *alleen* te pauzeren op de iteratie waar het probleem zich voordoet? Beschrijf de conditie die je zou instellen."
            ]
        },
        {
            "cell_type": "code",
            "execution_count": null,
            "metadata": {
                "polyglot_notebook": {
                    "kernelName": "csharp"
                }
            },
            "outputs": [],
            "source": [
                "public class Product \n",
                "{ \n",
                "    public string Naam { get; set; } \n",
                "    public decimal Prijs { get; set; } \n",
                "}\n",
                "\n",
                "List<Product> producten = new List<Product>\n",
                "{\n",
                "    new Product { Naam = \"Laptop\", Prijs = 1200 },\n",
                "    new Product { Naam = \"Muis\", Prijs = 25 },\n",
                "    null, // Dit is het probleemgeval\n",
                "    new Product { Naam = \"Toetsenbord\", Prijs = 75 }\n",
                "};\n",
                "\n",
                "decimal totaal = 0;\n",
                "foreach (var product in producten)\n",
                "{\n",
                "    totaal += product.Prijs; // Deze regel veroorzaakt de crash\n",
                "}"
            ]
        }
    ],
    "metadata": {
        "kernelspec": {
            "display_name": ".NET (C#)",
            "language": "C#",
            "name": ".net-csharp"
        },
        "language_info": {
            "name": "polyglot-notebook"
        },
        "polyglot_notebook": {
            "kernelInfo": {
                "defaultKernelName": "csharp",
                "items": [
                    {
                        "aliases": [],
                        "name": "csharp"
                    }
                ]
            }
        }
    },
    "nbformat": 4,
    "nbformat_minor": 2
}
