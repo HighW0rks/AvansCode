{
 "cells": [
  {
   "cell_type": "markdown",
   "id": "0bf819a1",
   "metadata": {},
   "source": [
    "# Voorbereiding op de Les\n",
    "\n",
    "Dit document bevat de links naar de kennisclips en aanvullende documentatie die je kunt doornemen als voorbereiding op de les."
   ]
  },
  {
   "cell_type": "markdown",
   "id": "ff6e3a4b",
   "metadata": {},
   "source": [
    "### Kennisclips\n",
    "\n",
    "Bekijk de volgende video's om een visuele introductie te krijgen tot de basisconcepten.\n",
    "\n",
    "**1. Wat zijn variabelen?**\n",
    "> In deze kennisclip wordt uitgelegd wat variabelen zijn en waarom we die in algoritmen nodig hebben.\n",
    "\n",
    "<iframe id=\"kaltura_player\" type=\"text/javascript\"  src='https://api.de.kaltura.com/p/10066/embedPlaykitJs/uiconf_id/23452529?iframeembed=true&entry_id=0_wj1d9f1k&config[provider]={\"widgetId\":\"0_j9icvpmu\"}'  style=\"width: 608px;height: 402px;border: 0;\" allowfullscreen webkitallowfullscreen mozAllowFullScreen allow=\"autoplay *; fullscreen *; encrypted-media *\" sandbox=\"allow-forms allow-same-origin allow-scripts allow-top-navigation allow-pointer-lock allow-popups allow-modals allow-orientation-lock allow-popups-to-escape-sandbox allow-presentation allow-top-navigation-by-user-activation\" title=\"Kaltura Player\"></iframe>"
   ]
  },
  {
   "cell_type": "markdown",
   "id": "f9fc186d",
   "metadata": {},
   "source": [
    "**2. Strings**\n",
    "> Deze video geeft een overzicht van hoe strings (tekst) werken in C#.\n",
    "\n",
    "<iframe width=\"560\" height=\"315\" src=\"https://www.youtube.com/embed/lXheKhL6dDA?si=njnNH2OnEHzWRYR3\" title=\"YouTube video player\" frameborder=\"0\" allow=\"accelerometer; autoplay; clipboard-write; encrypted-media; gyroscope; picture-in-picture; web-share\" referrerpolicy=\"strict-origin-when-cross-origin\" allowfullscreen></iframe>"
   ]
  },
  {
   "cell_type": "markdown",
   "id": "e729103c",
   "metadata": {},
   "source": [
    "### Aanvullende Documentatie\n",
    "\n",
    "De volgende links verwijzen naar de officiële Microsoft-documentatie en andere nuttige bronnen. Gebruik deze als naslagwerk."
   ]
  },
  {
   "cell_type": "markdown",
   "id": "8cc00954",
   "metadata": {},
   "source": [
    "**Algemeen**\n",
    "\n",
    "* [Markdown Gids](https://www.markdownguide.org/) - Voor het opmaken van tekst in de notebooks.\n",
    "* [Mermaid.js](https://mermaid.js.org/#/) - Voor het maken van diagrammen in tekstvorm."
   ]
  },
  {
   "cell_type": "markdown",
   "id": "17abbaf3",
   "metadata": {},
   "source": [
    "**Variabelen & Naamgeving**\n",
    "\n",
    "* [C# Referentie: Variabelen](https://learn.microsoft.com/en-us/dotnet/csharp/language-reference/language-specification/variables)\n",
    "* [C# Referentie: Variabele-declaraties](https://learn.microsoft.com/en-us/dotnet/csharp/language-reference/statements/declarations)\n",
    "* [C# Naamgevingsconventies](https://learn.microsoft.com/en-us/dotnet/csharp/fundamentals/coding-style/identifier-names)\n",
    "* [W3Schools: C# Variables](https://www.w3schools.com/cs/cs_variables.php)"
   ]
  },
  {
   "cell_type": "markdown",
   "id": "edf791e4",
   "metadata": {},
   "source": [
    "**Datatypes**\n",
    "\n",
    "* [Microsoft Docs: Ingebouwde C# types (alle)](https://learn.microsoft.com/en-us/dotnet/csharp/language-reference/builtin-types/built-in-types)\n",
    "* [Microsoft Docs: Numerieke types voor gehele getallen (Integers)](https://learn.microsoft.com/en-us/dotnet/csharp/language-reference/builtin-types/integral-numeric-types)\n",
    "* [Microsoft Docs: Integer literals](https://learn.microsoft.com/en-us/dotnet/csharp/language-reference/builtin-types/integral-numeric-types#integer-literals)\n",
    "* [Wikipedia: Zwevendekommagetal](https://nl.wikipedia.org/wiki/Zwevendekommagetal) - Uitleg over de (on)nauwkeurigheid van floating point getallen."
   ]
  }
 ],
 "metadata": {
  "kernelspec": {
   "display_name": ".NET (C#)",
   "language": "C#",
   "name": ".net-csharp"
  },
  "language_info": {
   "name": "csharp"
  },
  "polyglot_notebook": {
   "kernelInfo": {
    "defaultKernelName": "csharp",
    "items": [
     {
      "aliases": [],
      "name": "csharp"
     }
    ]
   }
  }
 },
 "nbformat": 4,
 "nbformat_minor": 5
}
