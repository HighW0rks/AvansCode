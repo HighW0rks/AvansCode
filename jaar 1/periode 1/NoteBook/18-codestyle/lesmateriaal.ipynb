{
 "cells": [
  {
   "cell_type": "markdown",
   "metadata": {},
   "source": [
    "# Coding Standards - De Kunst van Leesbare Code\n",
    "\n",
    "Goedendag. Tot nu toe lag de focus op het schrijven van code die *werkt*. Vanaf nu voegen we daar een cruciale dimensie aan toe: het schrijven van code die ook **leesbaar, begrijpelijk en onderhoudbaar** is. De computer maakt het niet uit hoe je code eruitziet, maar je collega's (en jijzelf over een paar weken) wel. Code wordt vaker gelezen dan geschreven.\n",
    "\n",
    "In deze les behandelen we de basisprincipes van professionele C#-code, ook wel **Coding Standards** genoemd. We kijken naar naamgeving, de layout van je code en het effectieve gebruik van commentaar."
   ]
  },
  {
   "cell_type": "markdown",
   "metadata": {},
   "source": [
    "## Naamgeving: Duidelijkheid boven alles\n",
    "\n",
    "De namen die je kiest voor variabelen, methodes en klassen zijn de belangrijkste vorm van documentatie. Goede namen maken de code grotendeels zelfverklarend. Slechte namen zorgen voor verwarring en fouten.\n",
    "\n",
    "### Waarom zijn goede namen belangrijk?\n",
    "\n",
    "Bekijk onderstaande kennisclip die uitlegt waarom het kiezen van duidelijke namen essentieel is.\n",
    "\n",
    "<iframe id=\"kaltura_player\" type=\"text/javascript\"  src='https://api.de.kaltura.com/p/10066/embedPlaykitJs/uiconf_id/23452529?iframeembed=true&entry_id=0_of7qm6xm&config[provider]={\"widgetId\":\"0_fs9z713l\"}'  style=\"width: 608px;height: 402px;border: 0;\" allowfullscreen webkitallowfullscreen mozAllowFullScreen allow=\"autoplay *; fullscreen *; encrypted-media *\" sandbox=\"allow-forms allow-same-origin allow-scripts allow-top-navigation allow-pointer-lock allow-popups allow-modals allow-orientation-lock allow-popups-to-escape-sandbox allow-presentation allow-top-navigation-by-user-activation\" title=\"Kaltura Player\"></iframe>\n",
    "\n",
    "### Naamgevingsconventies in C#\n",
    "\n",
    "Softwareontwikkeling is een teamsport. Daarom volgen we binnen de C#-gemeenschap een set van naamgevingsconventies voor consistentie en leesbaarheid. De twee belangrijkste stijlen zijn **PascalCase** en **camelCase**.\n",
    "\n",
    "- **PascalCase**: Elk woord begint met een hoofdletter. (`VoorbeeldNaam`)\n",
    "- **camelCase**: Het eerste woord begint met een kleine letter, elk volgend woord met een hoofdletter. (`voorbeeldNaam`)\n",
    "\n",
    "| Type                 | Regel                                     | Voorbeelden                                     |\n",
    "|----------------------|-------------------------------------------|-------------------------------------------------|\n",
    "| Klasse & Enum        | PascalCase                                | `public class Student` / `public enum DagVanDeWeek` |\n",
    "| Methode              | PascalCase                                | `public void BerekenTotaal()`                   |\n",
    "| Property & Constante | PascalCase                                | `public int AantalStudenten` / `const double Pi`  |\n",
    "| Lokale Variabele     | camelCase                                 | `string voornaam;` / `int teller = 0;`            |\n",
    "| Methode Parameter    | camelCase                                 | `void SetNaam(string nieuweNaam)`                 |\n",
    "| Interface            | PascalCase, beginnend met een 'I'         | `public interface IKanVliegen`                  |\n",
    "\n",
    "**Algemene tips:**\n",
    "- **Wees beschrijvend:** `aantalStudenten` is beter dan `a`.\n",
    "- **Vermijd afkortingen:** `gebruikersInvoer` is beter dan `usrInp`.\n",
    "- **Gebruik geen underscores** (behalve voor private fields, een conventie die je later zult zien).\n",
    "- **Wees consistent!**"
   ]
  },
  {
   "cell_type": "markdown",
   "metadata": {},
   "source": [
    "## Commentaar: Het 'waarom' uitleggen\n",
    "\n",
    "Goede code is grotendeels zelfdocumenterend, maar soms is extra uitleg nodig. **Commentaar** is tekst in je code die door de compiler wordt genegeerd. Het doel is niet om uit te leggen *wat* de code doet (dat moet de code zelf duidelijk maken), maar *waarom* je een bepaalde keuze hebt gemaakt.\n",
    "\n",
    "### Soorten commentaar\n",
    "\n",
    "In C# zijn er twee manieren om commentaar te schrijven:\n",
    "\n",
    "- **Single-line commentaar (`//`)**: Alles na de `//` op dezelfde regel is commentaar.\n",
    "- **Multi-line commentaar (`/* ... */`)**: Alles tussen `/*` en `*/` is commentaar, ook over meerdere regels heen.\n",
    "\n",
    "```csharp\n",
    "// Dit is een single-line commentaar.\n",
    "int getal = 42; // Commentaar kan ook achter een regel code staan.\n",
    "\n",
    "/* \n",
    "   Dit is een multi-line commentaar.\n",
    "   Handig voor langere stukken uitleg.\n",
    "*/\n",
    "```\n",
    "\n",
    "### Toepassingen van commentaar\n",
    "\n",
    "1.  **Uitleggen van complexe logica**: Leg uit *waarom* een complex algoritme of een ongebruikelijke berekening nodig is.\n",
    "2.  **Documentatie genereren (XML Comments)**: Met `///` kun je speciale commentaren boven methodes en klassen schrijven. Tools zoals Visual Studio gebruiken dit om IntelliSense-informatie te tonen en documentatie te genereren.\n",
    "3.  **Code tijdelijk uitschakelen**: Tijdens het debuggen kun je snel een regel code 'uitcommentariëren' om te testen wat er gebeurt zonder die regel.\n",
    "4.  **TODO-notities**: Laat een herinnering voor jezelf of collega's achter. Veel IDE's herkennen `// TODO:` en tonen dit in een speciale takenlijst."
   ]
  },
  {
   "cell_type": "code",
   "execution_count": null,
   "metadata": {
    "polyglot_notebook": {
     "kernelName": "csharp"
    }
   },
   "outputs": [],
   "source": [
    "/// <summary>\n",
    "/// Berekent de som van twee getallen.\n",
    "/// </summary>\n",
    "/// <param name=\"a\">Het eerste getal.</param>\n",
    "/// <param name=\"b\">Het tweede getal.</param>\n",
    "/// <returns>De som van de twee getallen.</returns>\n",
    "public int Som(int a, int b)\n",
    "{\n",
    "    // TODO: Voeg controle toe voor overflow bij grote getallen.\n",
    "    return a + b;\n",
    "}"
   ]
  },
  {
   "cell_type": "markdown",
   "metadata": {},
   "source": [
    "## Uitlijning en layout: structuur voor leesbaarheid\n",
    "\n",
    "Een consistente layout maakt de structuur van je code direct zichtbaar. De belangrijkste regel is het correct gebruiken van **inspringing** (indentation).\n",
    "\n",
    "Elk codeblok dat binnen een ander blok valt (bv. de body van een `if`-statement, `for`-lus of methode), moet een niveau inspringen. Dit wordt meestal automatisch gedaan door je IDE, doorgaans met een tab of vier spaties.\n",
    "\n",
    "**Slecht voorbeeld:**\n",
    "```csharp\n",
    "if(x>10){\n",
    "Console.WriteLine(\"Groter dan 10\");\n",
    "for(int i=0;i<5;i++){\n",
    "Console.WriteLine(i);\n",
    "}\n",
    "}\n",
    "```\n",
    "\n",
    "**Goed voorbeeld:**\n",
    "```csharp\n",
    "if (x > 10)\n",
    "{\n",
    "    Console.WriteLine(\"Groter dan 10\");\n",
    "    \n",
    "    for (int i = 0; i < 5; i++)\n",
    "    {\n",
    "        Console.WriteLine(i);\n",
    "    }\n",
    "}\n",
    "```\n",
    "Door de correcte uitlijning zie je in één oogopslag welke code bij welk blok hoort. Dit is onmisbaar bij het lezen van complexe, geneste structuren."
   ]
  },
  {
   "cell_type": "markdown",
   "metadata": {},
   "source": [
    "# Vragen"
   ]
  },
  {
   "cell_type": "markdown",
   "metadata": {},
   "source": [
    "### Vraag 1: Naamgeving corrigeren\n",
    "De onderstaande code werkt, maar volgt de C# naamgevingsconventies niet. Herschrijf de code zodat alle namen correct zijn."
   ]
  },
  {
   "cell_type": "code",
   "execution_count": null,
   "metadata": {
    "polyglot_notebook": {
     "kernelName": "csharp"
    }
   },
   "outputs": [],
   "source": [
    "public class PERSON\n",
    "{\n",
    "    public string FULLNAME { get; set; }\n",
    "    public void GREET(string name_to_greet)\n",
    "    {\n",
    "        Console.WriteLine($\"{FULLNAME} greets {name_to_greet}\");\n",
    "    }\n",
    "}"
   ]
  },
  {
   "cell_type": "markdown",
   "metadata": {},
   "source": [
    "### Vraag 2: Commentaar toevoegen\n",
    "Voeg aan de onderstaande methode commentaar toe dat het doel ervan uitlegt. Gebruik een single-line comment voor een korte toelichting en een TODO-commentaar om aan te geven dat de 'magic number' 0.21 een naam zou moeten krijgen."
   ]
  },
  {
   "cell_type": "code",
   "execution_count": null,
   "metadata": {
    "polyglot_notebook": {
     "kernelName": "csharp"
    }
   },
   "outputs": [],
   "source": [
    "public decimal CalculateVat(decimal amount)\n",
    "{\n",
    "    return amount * 0.21m;\n",
    "}"
   ]
  },
  {
   "cell_type": "markdown",
   "metadata": {},
   "source": [
    "### Vraag 3: Code uitschakelen\n",
    "In de onderstaande code staat een `Console.WriteLine` die alleen voor debugging bedoeld was. Zorg ervoor dat deze regel niet meer wordt uitgevoerd door er commentaar van te maken, zonder de regel te verwijderen."
   ]
  },
  {
   "cell_type": "code",
   "execution_count": null,
   "metadata": {
    "polyglot_notebook": {
     "kernelName": "csharp"
    }
   },
   "outputs": [],
   "source": [
    "int GebruikersInvoer(string vraag)\n",
    "{\n",
    "    Console.WriteLine(vraag);\n",
    "    string input = Console.ReadLine();\n",
    "    Console.WriteLine(\"Debug: gebruiker typte '\" + input + \"'\");\n",
    "    return int.Parse(input);\n",
    "}"
   ]
  },
  {
   "cell_type": "markdown",
   "metadata": {},
   "source": [
    "### Vraag 4: Foute uitlijning\n",
    "De onderstaande code is functioneel, maar zeer slecht leesbaar door de foute uitlijning. Formatteer de code correct."
   ]
  },
  {
   "cell_type": "code",
   "execution_count": null,
   "metadata": {
    "polyglot_notebook": {
     "kernelName": "csharp"
    }
   },
   "outputs": [],
   "source": [
    "for(int i=0;i<5;i++){ Console.WriteLine(\"Buitenste lus\");\n",
    "for(int j=0;j<2;j++){Console.WriteLine(\"  Binnenste lus\");}\n",
    "}"
   ]
  },
  {
   "cell_type": "markdown",
   "metadata": {},
   "source": [
    "### Vraag 5: XML Documentatie\n",
    "Voeg volledige XML-documentatie (`///`) toe aan de onderstaande methode, inclusief een beschrijving voor de methode zelf, de parameter en de return-waarde."
   ]
  },
  {
   "cell_type": "code",
   "execution_count": null,
   "metadata": {
    "polyglot_notebook": {
     "kernelName": "csharp"
    }
   },
   "outputs": [],
   "source": [
    "public double CelsiusToFahrenheit(double celsius)\n",
    "{\n",
    "    return (celsius * 9 / 5) + 32;\n",
    "}"
   ]
  },
  {
   "cell_type": "markdown",
   "metadata": {},
   "source": [
    "### Vraag 6: Welk commentaar?\n",
    "Je wilt een lange, gedetailleerde uitleg geven over een complex algoritme dat meerdere regels beslaat. Welk type commentaar (`//` of `/* ... */`) is hiervoor het meest geschikt en waarom?"
   ]
  },
  {
   "cell_type": "code",
   "execution_count": null,
   "metadata": {
    "polyglot_notebook": {
     "kernelName": "csharp"
    }
   },
   "outputs": [],
   "source": []
  },
  {
   "cell_type": "markdown",
   "metadata": {},
   "source": [
    "### Vraag 7: Constante Naamgeving\n",
    "Wat is volgens de C#-conventies de juiste naam voor een constante die het maximale aantal pogingen (een `int`) in een spel bijhoudt?"
   ]
  },
  {
   "cell_type": "code",
   "execution_count": null,
   "metadata": {
    "polyglot_notebook": {
     "kernelName": "csharp"
    }
   },
   "outputs": [],
   "source": []
  },
  {
   "cell_type": "markdown",
   "metadata": {},
   "source": [
    "### Vraag 8: Interface naam\n",
    "Je ontwerpt een interface voor objecten die kunnen bewegen. Wat is, volgens de conventies, een goede naam voor deze interface?"
   ]
  },
  {
   "cell_type": "code",
   "execution_count": null,
   "metadata": {
    "polyglot_notebook": {
     "kernelName": "csharp"
    }
   },
   "outputs": [],
   "source": []
  },
  {
   "cell_type": "markdown",
   "metadata": {},
   "source": [
    "# Uitdagingen"
   ]
  },
  {
   "cell_type": "markdown",
   "metadata": {},
   "source": [
    "### Uitdaging 1: Refactor een complete klasse\n",
    "De onderstaande klasse `user` is een rommeltje: slechte naamgeving, geen commentaar en foute layout. Herschrijf de volledige klasse zodat deze voldoet aan professionele coding standards. Voeg ook XML-documentatie toe voor de klasse en haar publieke leden."
   ]
  },
  {
   "cell_type": "code",
   "execution_count": null,
   "metadata": {
    "polyglot_notebook": {
     "kernelName": "csharp"
    }
   },
   "outputs": [],
   "source": [
    "public class user {\n",
    "public string a; public int b;\n",
    "public user(string c, int d){a=c;b=d;}\n",
    "public void GREET() { Console.WriteLine(\"hallo \" + a); }\n",
    "}"
   ]
  },
  {
   "cell_type": "markdown",
   "metadata": {},
   "source": [
    "### Uitdaging 2: Zelfreflecterend commentaar\n",
    "Neem een van de complexere uitdagingen uit een vorig lesmateriaal (bijv. de priemgetal-checker of de Fibonacci-reeks) en voeg er commentaar aan toe. Focus hierbij niet op *wat* de code doet, maar leg in het commentaar de *strategie* of de *wiskundige logica* achter de code uit."
   ]
  },
  {
   "cell_type": "code",
   "execution_count": null,
   "metadata": {
    "polyglot_notebook": {
     "kernelName": "csharp"
    }
   },
   "outputs": [],
   "source": []
  },
  {
   "cell_type": "markdown",
   "metadata": {},
   "source": [
    "### Uitdaging 3: Een kleine Style Guide\n",
    "Stel je voor dat je een klein teamproject start. Schrijf in een multi-line commentaar een korte 'style guide' (een set regels) voor je team. Definieer hierin jullie afspraken voor:\n",
    "1. De naamgeving van private fields (bijv. met of zonder underscore).\n",
    "2. De plaatsing van de openende accolade `{` (op dezelfde regel of een nieuwe regel).\n",
    "3. Hoe jullie omgaan met TODO-commentaar (bijv. moet altijd een naam en datum bevatten)."
   ]
  },
  {
   "cell_type": "code",
   "execution_count": null,
   "metadata": {
    "polyglot_notebook": {
     "kernelName": "csharp"
    }
   },
   "outputs": [],
   "source": []
  },
  {
   "cell_type": "markdown",
   "metadata": {},
   "source": [
    "### Uitdaging 4: Debug-code conditioneel uitvoeren\n",
    "In de onderstaande methode willen we de `Console.WriteLine` alleen uitvoeren tijdens het ontwikkelen, niet in de uiteindelijke applicatie. Gebruik een `bool` variabele `debugMode` bovenaan je programma. Pas de methode zo aan dat het debug-bericht alleen wordt getoond als `debugMode` op `true` staat. Voeg een commentaar toe dat uitlegt waarom dit handig is."
   ]
  },
  {
   "cell_type": "code",
   "execution_count": null,
   "metadata": {
    "polyglot_notebook": {
     "kernelName": "csharp"
    }
   },
   "outputs": [],
   "source": [
    "int BerekenBonus(int score)\n",
    "{\n",
    "    Console.WriteLine($\"DEBUG: Score is {score}\");\n",
    "    return score > 100 ? 50 : 10;\n",
    "}"
   ]
  },
  {
   "cell_type": "markdown",
   "metadata": {},
   "source": [
    "### Uitdaging 5: Code opruimen\n",
    "Analyseer de onderstaande, rommelige code. Identificeer alle overtredingen van de besproken coding standards (naamgeving, layout, commentaar) en lijst deze op in een multi-line commentaar. Herschrijf vervolgens de code naar een nette, professionele versie."
   ]
  },
  {
   "cell_type": "code",
   "execution_count": null,
   "metadata": {
    "polyglot_notebook": {
     "kernelName": "csharp"
    }
   },
   "outputs": [],
   "source": [
    "// dit programma berekent de prijs\n",
    "    public int calculate(int aantal,int PRICE_PER_ITEM){\n",
    "    int total_price = aantal * PRICE_PER_ITEM; // berekening\n",
    "        if(aantal > 10) {\n",
    "        total_price = total_price - 5; // 5 euro korting\n",
    "        }\n",
    "return total_price;}"
   ]
  }
 ],
 "metadata": {
  "kernelspec": {
   "display_name": ".NET (C#)",
   "language": "C#",
   "name": ".net-csharp"
  },
  "language_info": {
   "name": "polyglot-notebook"
  },
  "polyglot_notebook": {
   "kernelInfo": {
    "defaultKernelName": "csharp",
    "items": [
     {
      "aliases": [],
      "name": "csharp"
     }
    ]
   }
  }
 },
 "nbformat": 4,
 "nbformat_minor": 2
}
