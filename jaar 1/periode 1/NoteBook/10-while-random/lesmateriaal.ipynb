{
 "cells": [
  {
   "cell_type": "markdown",
   "metadata": {},
   "source": [
    "# De while-lus en dynamische herhaling\n",
    "\n",
    "In het vorige lesmateriaal hebben we de basis van herhalingsstructuren behandeld, met een focus op de `for`- en `foreach`-lus. Die zijn ideaal als je werkt met collecties of als je van tevoren precies weet hoe vaak een actie moet worden herhaald. \n",
    "\n",
    "In dit notebook duiken we dieper in op een flexibelere, maar ook krachtigere herhalingsstructuur: de **`while`-lus**. Deze lus is essentieel voor situaties waarin het aantal iteraties niet van tevoren vaststaat, maar afhangt van een conditie die tijdens de uitvoering van het programma verandert."
   ]
  },
  {
   "cell_type": "markdown",
   "metadata": {},
   "source": [
    "## De `while`-lus: herhalen zolang het moet\n",
    "\n",
    "De `while`-lus is een herhalingsstructuur die een blok code blijft uitvoeren **zolang** een gespecificeerde conditie `true` is. De conditie wordt *voorafgaand* aan elke iteratie geëvalueerd. Dit betekent dat als de conditie bij de eerste controle al `false` is, de code binnen de lus nooit zal worden uitgevoerd.\n",
    "\n",
    "**Syntax:**\n",
    "\n",
    "```csharp\n",
    "while (conditie)\n",
    "{\n",
    "    // Code die wordt uitgevoerd zolang de conditie waar is\n",
    "}\n",
    "```\n",
    "\n",
    "Omdat de `while`-lus generieker is dan een `for`-lus, kun je er in principe elke `for`-lus mee nabootsen. Het gevaar is echter groter dat je per ongeluk een **eindeloze lus** creëert. Het is daarom een best practice om een `for`-lus te gebruiken als het aantal iteraties bekend is, en een `while`-lus voor alle andere situaties.\n",
    "\n",
    "Een praktisch voorbeeld is het ontleden van een getal, cijfer voor cijfer. We weten niet vooraf hoeveel cijfers het getal heeft, maar we weten wel dat we moeten stoppen als het getal 0 is geworden."
   ]
  },
  {
   "cell_type": "code",
   "execution_count": null,
   "metadata": {
    "polyglot_notebook": {
     "kernelName": "csharp"
    }
   },
   "outputs": [],
   "source": [
    "// Dit programma print elk cijfer van een getal op een nieuwe regel.\n",
    "int getal = 1337;\n",
    "while (getal > 0)\n",
    "{\n",
    "    Console.WriteLine(\"Huidige getal: \" + getal);\n",
    "    // De conditie wordt beïnvloed: het getal wordt steeds kleiner.\n",
    "    getal = getal / 10; \n",
    "}"
   ]
  },
  {
   "cell_type": "markdown",
   "metadata": {},
   "source": [
    "### Flowchart van een `while`-lus\n",
    "\n",
    "In een flowchart wordt een `while`-lus weergegeven met een conditiesymbool (een ruit of zeshoek), waarbij de 'true'-tak door de lus-body loopt en daarna terugkeert naar de conditie. De 'false'-tak verlaat de lus.\n",
    "\n",
    "```mermaid\n",
    "flowchart TD\n",
    "    A[int getal = 1337] --> B\n",
    "    B{{\"getal > 0\"}} --true--> C(Print getal)\n",
    "    C --> D[getal = getal / 10]\n",
    "    D --> B\n",
    "    B --false--> E(Klaar)\n",
    "```\n",
    "\n",
    "### Gevaar: eindeloze lussen\n",
    "\n",
    "Een klassieke fout bij het gebruik van `while`-lussen is het vergeten om de variabele(n) in de conditie aan te passen *binnen* de lus. Als de conditie nooit verandert, zal deze (als hij eenmaal `true` is) altijd `true` blijven, en zal het programma vastlopen in een eindeloze lus.\n",
    "\n",
    "```csharp\n",
    "// WAARSCHUWING: DIT IS EEN EINDELOZE LUS\n",
    "int i = 0;\n",
    "while (i < 10)\n",
    "{\n",
    "    Console.WriteLine(\"Deze boodschap zal voor altijd verschijnen...\");\n",
    "    // Fout: 'i' wordt nooit verhoogd en zal dus altijd kleiner dan 10 blijven.\n",
    "}\n",
    "```\n",
    "\n",
    "## De `do-while` lus: Minimaal één keer uitvoeren\n",
    "\n",
    "De `do-while` lus is een variant van de `while`-lus die garandeert dat het codeblok minstens één keer wordt uitgevoerd, voordat de conditie wordt gecontroleerd. Dit is handig in situaties waarbij je altijd een actie wilt uitvoeren en daarna pas beslist of je doorgaat met herhalen.\n",
    "\n",
    "**Syntax:**\n",
    "\n",
    "```csharp\n",
    "do\n",
    "{\n",
    "    // Code die minimaal één keer wordt uitgevoerd\n",
    "} while (conditie);\n",
    "```\n",
    "\n",
    "Het cruciale verschil met de `while`-lus is de plaats van de conditiecontrole. Bij een `while`-lus wordt de conditie *vooraf* gecontroleerd, wat betekent dat de lus helemaal niet wordt uitgevoerd als de conditie direct `false` is. Bij een `do-while` lus wordt de code *eerst* uitgevoerd en pas daarna wordt de conditie gecontroleerd. Als de conditie dan `true` is, herhaalt de lus; anders stopt hij.\n",
    "\n",
    "**Voorbeeld:**\n",
    "\n",
    "Stel je wilt de gebruiker om input vragen totdat een positief getal wordt ingevoerd:\n",
    "\n",
    "```csharp\n",
    "int getal;\n",
    "do\n",
    "{\n",
    "    Console.Write(\"Voer een positief getal in: \");\n",
    "    getal = int.Parse(Console.ReadLine()); \n",
    "} while (getal <= 0);\n",
    "\n",
    "Console.WriteLine(\"Je hebt het positieve getal: \" + getal + \" ingevoerd.\");\n",
    "```\n",
    "\n",
    "In dit voorbeeld wordt de vraag om een getal altijd minstens één keer gesteld, zelfs als de gebruiker de eerste keer direct een positief getal invoert.\n",
    "\n",
    "### Flowchart van een `do-while`-lus\n",
    "\n",
    "```mermaid\n",
    "flowchart TD\n",
    "    A[Start] --> B(Voer code uit)\n",
    "    B --> C{Conditie?}\n",
    "    C --true--> B\n",
    "    C --false--> D[Einde]\n",
    "```\n",
    "\n",
    "### Een random getal met: `System.Random`\n",
    "In C# is het erg eenvoudig een random getal te genereren. Onderstaande code geeft een voorbeeld. Later komen we hier wat uitgebreider op terug.\n",
    "```csharp\n",
    "// Voor een willekeurig getal tussen 1 en 100 (inclusief):\n",
    "int willekeurigGetal = Random.Shared.Next(1, 101); \n",
    " ```\n"
   ]
  },
  {
   "cell_type": "markdown",
   "metadata": {},
   "source": [
    "# Vragen"
   ]
  },
  {
   "cell_type": "markdown",
   "metadata": {},
   "source": [
    "### Vraag 1: Raad het getal\n",
    "Genereer een willekeurig getal tussen 1 en 100. Gebruik een `while`-lus om de gebruiker net zo lang te laten raden totdat het juiste getal is ingevoerd. Geef na elke foute gok een hint of het getal hoger of lager is."
   ]
  },
  {
   "cell_type": "code",
   "execution_count": null,
   "metadata": {
    "polyglot_notebook": {
     "kernelName": "csharp"
    }
   },
   "outputs": [],
   "source": []
  },
  {
   "cell_type": "markdown",
   "metadata": {},
   "source": [
    "### Vraag 2: Saldo opvragen\n",
    "Simuleer een bankrekening. Begin met een saldo van €1000. Blijf de gebruiker met een `do-while`-lus vragen hoeveel geld hij/zij wil opnemen. De lus stopt als het saldo onder de €0 komt. Toon na elke opname het nieuwe saldo."
   ]
  },
  {
   "cell_type": "code",
   "execution_count": null,
   "metadata": {
    "polyglot_notebook": {
     "kernelName": "csharp"
    }
   },
   "outputs": [],
   "source": []
  },
  {
   "cell_type": "markdown",
   "metadata": {},
   "source": [
    "### Vraag 3: Aantal cijfers tellen\n",
    "Vraag de gebruiker om een (groot) getal. Gebruik een `while`-lus om te tellen uit hoeveel cijfers dit getal bestaat. Tip: je kunt dit doen door het getal herhaaldelijk door 10 te delen totdat het 0 is."
   ]
  },
  {
   "cell_type": "code",
   "execution_count": null,
   "metadata": {
    "polyglot_notebook": {
     "kernelName": "csharp"
    }
   },
   "outputs": [],
   "source": []
  },
  {
   "cell_type": "markdown",
   "metadata": {},
   "source": [
    "### Vraag 4: Menukeuze met 'while'\n",
    "Maak een menu met de opties 1, 2 en 3. Gebruik een `while`-lus om de gebruiker om een keuze te blijven vragen, totdat een geldige optie (1, 2 of 3) wordt ingevoerd. Zodra een geldige keuze is gemaakt, print je deze en stopt de lus."
   ]
  },
  {
   "cell_type": "code",
   "execution_count": null,
   "metadata": {
    "polyglot_notebook": {
     "kernelName": "csharp"
    }
   },
   "outputs": [],
   "source": []
  },
  {
   "cell_type": "markdown",
   "metadata": {},
   "source": [
    "# Uitdagingen"
   ]
  },
  {
   "cell_type": "markdown",
   "metadata": {},
   "source": [
    "### Uitdaging 1: Hoger/Lager (computer raadt)\n",
    "Draai de rollen van Vraag 1 om. De gebruiker neemt een getal tussen 1 en 100 in gedachten. De computer doet een gok (beginnend bij 50). De gebruiker geeft aan of het antwoord 'hoger', 'lager' of 'correct' is. Het programma past zijn volgende gok aan op basis van de input (binary search principe) en blijft gokken met een `while`-lus totdat het getal geraden is."
   ]
  },
  {
   "cell_type": "code",
   "execution_count": null,
   "metadata": {
    "polyglot_notebook": {
     "kernelName": "csharp"
    }
   },
   "outputs": [],
   "source": []
  },
  {
   "cell_type": "markdown",
   "metadata": {},
   "source": [
    "### Uitdaging 2: Grootste Gemene Deler (GGD)\n",
    "Implementeer het [Algoritme van Euclides](https://nl.wikipedia.org/wiki/Algoritme_van_Euclides) met een `while`-lus om de Grootste Gemene Deler van twee getallen te vinden. Het algoritme werkt als volgt: zolang `b` niet 0 is, wordt `a` de oude waarde van `b`, en wordt `b` de rest van de deling `a % b`."
   ]
  },
  {
   "cell_type": "code",
   "execution_count": null,
   "metadata": {
    "polyglot_notebook": {
     "kernelName": "csharp"
    }
   },
   "outputs": [],
   "source": []
  }
 ],
 "metadata": {
  "kernelspec": {
   "display_name": ".NET (C#)",
   "language": "C#",
   "name": ".net-csharp"
  },
  "language_info": {
   "name": "polyglot-notebook"
  },
  "polyglot_notebook": {
   "kernelInfo": {
    "defaultKernelName": "csharp",
    "items": [
     {
      "aliases": [],
      "name": "csharp"
     }
    ]
   }
  }
 },
 "nbformat": 4,
 "nbformat_minor": 2
}
