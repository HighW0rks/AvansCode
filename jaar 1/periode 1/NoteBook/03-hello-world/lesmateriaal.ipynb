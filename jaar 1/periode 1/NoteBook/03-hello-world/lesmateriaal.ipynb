{
 "cells": [
  {
   "cell_type": "markdown",
   "metadata": {},
   "source": [
    "In de opdracht van vorige les heb je een Console applicatie gemaakt. Een consoleapplicatie is een eenvoudig computerprogramma dat werkt via een tekstgebaseerde interface, ook wel de console of het commando-venster genoemd. In plaats van grafische knoppen of vensters, gebruikt de gebruiker alleen tekst om met het programma te communiceren."
   ]
  },
  {
   "cell_type": "markdown",
   "metadata": {},
   "source": [
    "# Console Output\n",
    "\n",
    "Een van de basis-acties die een programma kan doen is laten zien van tekst. In hedendaagse applicaties gebeurt dit meestal via een GUI of een webpagina, maar in de basis van ieder operating system zit de `Console`. Een console is een manier om tekst naar een applicatie te sturen (input), en een manier voor de applicatie om tekst naar de gebruiker te sturen (output). In het OS zijn deze consoles voor de gebruiker grotendeels verborgen, maar voor softwareontwikkelaars zijn er manieren om deze zichtbaar te maken en te gebruiken. Doordat het gemakkelijk is iets op de console te zetten, wordt deze vaak gebruikt om te laten zien wat de applicatie aan het doen is, en wat de inhoud van bepaalde variabelen zijn. In deze module staat de console centraal, en zal er gefocust worden op het maken van console-applicaties.\n",
    "\n",
    "De basis van de console-output is `Console.WriteLine()`. Met dit commando kan er een waarde naar de console geschreven worden. Door bijvoorbeeld\n",
    "```csharp\n",
    "Console.WriteLine(\"Avans\");\n",
    "```\n",
    "te schrijven, zal de tekst `Avans` in de console afgedrukt worden. Dit commando zal daarna de cursor op de volgende regel zetten, zodat de volgende `Console.WriteLine` onder de tekst `Avans` komt te staan.\n",
    "\n",
    "Bij het maken van een flowchart kan er ook naar de console geschreven worden. Hier gebruiken we een rechthoek met afgeronde hoeken voor. De code die hierboven staat, kan in de volgende flowchart gezet worden.\n",
    "\n",
    "```mermaid\n",
    "flowchart\n",
    "  A([\"#quot;Avans#quot;\"])\n",
    "```\n",
    "\n",
    "> ℹ️ Wie zegt dat Console-applicaties saai zijn heeft heeft het mis. C# geeft ons zelfs de mogelijkheid om de kleur van de tekst aan te passen. `Console.ForegroundColor = ConsoleColor.Red;` maakt alle tekst die **na** deze regel wordt geprint naar de console rood. Helaas wordt het gebruik van kleuren niet door alle consoles ondersteund 🤷‍♂️\n",
    "\n",
    "---\n"
   ]
  },
  {
   "cell_type": "markdown",
   "metadata": {},
   "source": [
    "# Console Input\n",
    "\n",
    "In een console kan een gebruiker ook informatie invoeren. Met `Console.ReadLine()` kan er een regel tekst uitgelezen worden. De inhoud van deze tekst moet natuurlijk opgeslagen worden. Met onderstaande code wordt de gebruiker om een input gevraagd, waarna deze input weer uitgeprint wordt.\n",
    "\n",
    "```csharp\n",
    "Console.WriteLine(\"Voer een stukje tekst in: \");\n",
    "string input = Console.ReadLine();\n",
    "Console.WriteLine(input);\n",
    "```\n",
    "\n"
   ]
  },
  {
   "cell_type": "markdown",
   "metadata": {},
   "source": [
    "Als opdracht in de vorige les heb je een console applicatie gemaakt. Een consoleapplicatie is een eenvoudig computerprogramma dat werkt via een tekstgebaseerde interface, ook wel de console of het commando-venster genoemd. In plaats van grafische knoppen of vensters, gebruikt de gebruiker alleen tekst om met het programma te communiceren.\n"
   ]
  },
  {
   "cell_type": "markdown",
   "metadata": {},
   "source": [
    "## Combineren van regels\n",
    "\n",
    "Naast `Console.WriteLine` die een regel afdrukt, is er ook `Console.Write`. Met `Console.Write` kan een stukje tekst in de console gezet worden, maar blijft de cursor op dezelfde regel. Dit kun je gebruiken om dynamisch meerdere dingen op een regel te zetten, wat niet altijd kan met `Console.WriteLine`. Dit is vooral handig als er herhalingen gebruikt worden (dit concept wordt later behandeld).\n",
    "\n",
    "```csharp\n",
    "for(int i = 0; i < 10; i++)\n",
    "{\n",
    "    Console.Write(\"*\");\n",
    "}\n",
    "Console.WriteLine();\n",
    "```\n",
    "Dit stukje code zal 10 sterretjes op de console zetten, en daarna een nieuwe regel hier achter zetten.\n",
    "  \n",
    "Daarnaast is dit ook handig om te gebruiken bij gebruikersinvoer voor een console-applicatie\n",
    "\n",
    "```csharp\n",
    "Console.Write(\"Voer je naam in: \");\n",
    "string naam = Console.ReadLine();\n",
    "```\n",
    "hierbij zal de invoer achter de regel 'Voer je naam in' komen\n",
    "\n",
    "Door middel van de `Console.Write` is het dus mogelijk om een tekstregel in de console met meerdere regels code op te bouwen. Hierdoor is het ook handig in het gebruik bij het opbouwen van een tekstregel met veel variabelen erin\n",
    "\n",
    "```csharp\n",
    "Console.Write(\"A: \" + a + \", \");\n",
    "Console.Write(\"B: \" + b + \", \");\n",
    "Console.Write(\"C: \" + c + \", \");\n",
    "Console.Write(\"D: \" + d + \", \");\n",
    "Console.Write(\"E: \" + e + \", \");\n",
    "Console.Write(\"F: \" + f);\n",
    "Console.WriteLine();\n",
    "```\n",
    "> ℹ️ Met C# kun je op verschillende manieren werken met tekst (`string`). Een alternatief voor bovenstaande uitwerking is het gebruiken van `interpolated strings` waarbij de variabele (bijvoorbeeld `a`) direct in de string wordt geplaatst. 👉 `Console.WriteLine($\"A: {a}, \");`\n",
    "\n",
    "---"
   ]
  },
  {
   "cell_type": "markdown",
   "metadata": {},
   "source": [
    "# Opdrachten & Uitdagingen \n",
    "\n",
    "## Opdracht 1\n",
    "\n",
    "Schrijf stuk code dat je naam uitprint."
   ]
  },
  {
   "cell_type": "markdown",
   "metadata": {},
   "source": [
    "## Opdracht 2\n",
    "\n",
    "Schrijf een algoritme dat de gebruiker om een naam vraagt, en dat hierna de gebruiker groet inclusief naam. "
   ]
  },
  {
   "cell_type": "markdown",
   "metadata": {},
   "source": [
    "## Opdracht 3\n",
    "Schrijf een stuk code dat een vierkant van 5 bij 5 van sterretjes afdrukt zoals in onderstaande blok output.\n",
    "\n",
    "```output\n",
    "*****\n",
    "*   *\n",
    "*   *\n",
    "*   *\n",
    "*****\n",
    "```\n",
    "\n",
    "---"
   ]
  },
  {
   "cell_type": "markdown",
   "metadata": {},
   "source": [
    "Voor deze uitdaingen zul je `keywords` en `datatypes` moeten gebruiken die nog niet zijn behandeld zoals `for`-loops en `integers`. Raadpleeg hiervoor externe bronnen of kijk vooruit in het lesmateriaal.\n",
    "\n",
    "## Uitdaging 1\n",
    "\n",
    "Maak een programma dat een rechthoek van sterretjes kan weergeven in de console, op basis van 2 parameters, de hoogte en de breedte. Een vierkant van 4 breed en 3 hoog is bijvoorbeeld\n",
    "```\n",
    "****\n",
    "****\n",
    "****\n",
    "```\n",
    "zorg dat als de variabelen hoogte en breedte aangepast worden, de uitgeprinte rechthoek ook de juiste afmetingen heeft.\n",
    "\n",
    "```csharp\n",
    "int hoogte = 3;\n",
    "int breedte = 4;\n",
    "//TODO: schrijf je code hier om een rechthoek af te drukken\n",
    "```"
   ]
  },
  {
   "cell_type": "markdown",
   "metadata": {},
   "source": [
    "## Uitdaging 2\n",
    "\n",
    "Maak een programma dat een pyramide van sterretjes kan weergeven in de console, op basis van 1 parameter, de hoogte. Een pyramide met hoogte 3 is hierbij 5 sterretjes breed\n",
    "```\n",
    "  *\n",
    " ***\n",
    "*****\n",
    "```\n",
    "Om de formules af te leiden, kun je een aantal voorbeelden bekijken.\n",
    "| hoogte | max breedte |\n",
    "| -------|-------------|\n",
    "| 1      | 1           |\n",
    "| 2      | 3           |\n",
    "| 3      | 5           |\n",
    "| 4      | 7           |\n",
    "| 5      | 9           |\n",
    "\n",
    "zie je hier het verband tussen de hoogte en de maximale breedte? Daarnaast zullen ook het aantal spaties voor een regel berekend moeten worden. Deze kun je berekenen op basis van de hoogte, en de regel die je op dit moment aan het afdrukken bent. Het kan helpen om hier in klad ook een tabelletje van waarden te maken, om een formule af te leiden. Hier alvast een start:\n",
    "\n",
    "```csharp\n",
    "int hoogte = 4;\n",
    "//TODO: pyramide maken\n",
    "```"
   ]
  },
  {
   "cell_type": "markdown",
   "metadata": {},
   "source": [
    "## Uitdaging 3\n",
    "\n",
    "Schrijf een algoritme dat de gebruiker om een jaartal vraagt, en dat hierna de leeftijd in de console schrijft. Je kunt van het huidige jaartal uitgaan, en dat de persoon al jarig is geweest."
   ]
  }
 ],
 "metadata": {
  "language_info": {
   "name": "python"
  }
 },
 "nbformat": 4,
 "nbformat_minor": 2
}
