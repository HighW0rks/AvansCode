{
 "cells": [
  {
   "cell_type": "markdown",
   "metadata": {},
   "source": [
    "# Inleiding\n",
    "\n",
    "## Notebooks in Visual Studio Code\n",
    "\n",
    "### Wat is een notebook?\n",
    "\n",
    "Een notebook biedt een manier om tekst te combineren met uitvoerbare code.  \n",
    "Hiermee kun je snel bijvoorbeeld een verslag, logboek of groeidocument opstellen.  \n",
    "Naast tekst kun je ook afbeeldingen, tabellen en diagrammen toevoegen.\n",
    "\n",
    "Tekstvelden in een notebook worden geschreven in Markdown-formaat.  \n",
    "Zie [de Markdown-gids](https://www.markdownguide.org/) voor meer informatie.\n",
    "\n",
    "Voor het maken van diagrammen kun je bijvoorbeeld gebruikmaken van [Mermaid](https://mermaid.js.org/#/).  \n",
    "Met Mermaid kun je eenvoudig visuele diagrammen genereren in tekstvorm.\n",
    "\n",
    "Codeblokken in het notebook zijn direct uitvoerbaar.  \n",
    "Dit betekent dat je snel feedback krijgt op je code, zonder het document te verlaten.\n",
    "\n",
    "### Diagrammen\n",
    "\n",
    "In de notebooks kun je diagrammane (zoals flowcharts) tegen komen. Voor het weergeven van *Mermaid*-diagrammen is een extensie nodig in Visual Studio Code:\n",
    "\n",
    "- **Markdown Preview Mermaid Support** \n",
    "  *(Identifier: bierner.markdown-mermaid)*\n",
    "\n",
    "## Code uitvoeren\n",
    "\n",
    "Hieronder zie je een voorbeeld van een stukje code in een notebook. Als de SDK, Visual Studio Code en de benodigde extensies correct zijn geïnstalleerd, zou je deze code direct moeten kunnen uitvoeren. Zodra je een codeblok invoegt, verschijnt er een kleine **play-knop** links van het blok. Klik erop en laat je code tot leven komen! 😃"
   ]
  },
  {
   "cell_type": "code",
   "execution_count": null,
   "metadata": {
    "polyglot_notebook": {
     "kernelName": "csharp"
    }
   },
   "outputs": [],
   "source": [
    "Console.WriteLine(\"It works on my machine\");"
   ]
  },
  {
   "cell_type": "markdown",
   "metadata": {},
   "source": [
    "## Notebook uitbreiden of aanpassen\n",
    "\n",
    "Wil je extra code of tekst (in Markdown) toevoegen aan je notebook?  \n",
    "Gebruik dan de knop **+ Code** of **+ Markdown** in de knoppenbalk bovenaan.\n",
    "\n",
    "Daarnaast verschijnen er soms knoppen direct onder een bestaand blok. Deze knoppen geven je een snellere manier om nieuwe blokken toe te voegen.\n",
    "\n",
    "Met de knop **Clear All Outputs** kun je in één klik alle gegenereerde uitvoer verwijderen. Zo houd je je notebook overzichtelijk en netjes.\n",
    "\n",
    "## Verschil tussen code in notebooks en 'echte' applicaties\n",
    "\n",
    "Codeblokken in een notebook zijn ideaal om korte stukken code te schrijven en direct uit te voeren. Ze zijn handig voor experimenten, uitleg of het testen van kleine onderdelen.\n",
    "\n",
    "Het schrijven van volledige programma’s in een notebook is echter niet de bedoeling. De code in een blok wordt namelijk niet gecompileerd tot een zelfstandig programma, maar alleen geïnterpreteerd en uitgevoerd binnen de notebook-omgeving.\n",
    "\n",
    "## Interactie tussen code blokken\n",
    "\n",
    "Opvolgende code blokken kunnen achter elkaar uitgevoerd worden alsof het één codeblok betreft. Bijvoorbeeld de blokken:"
   ]
  },
  {
   "cell_type": "code",
   "execution_count": null,
   "metadata": {
    "polyglot_notebook": {
     "kernelName": "csharp"
    }
   },
   "outputs": [],
   "source": [
    "int x = 40;"
   ]
  },
  {
   "cell_type": "code",
   "execution_count": null,
   "metadata": {
    "polyglot_notebook": {
     "kernelName": "csharp"
    }
   },
   "outputs": [],
   "source": [
    "Console.WriteLine(\"y = \" + x);\n",
    "\n",
    "int y = 30;"
   ]
  },
  {
   "cell_type": "code",
   "execution_count": null,
   "metadata": {
    "polyglot_notebook": {
     "kernelName": "csharp"
    }
   },
   "outputs": [],
   "source": [
    "Console.WriteLine(\"x * y = \", y * x);"
   ]
  },
  {
   "cell_type": "markdown",
   "metadata": {},
   "source": [
    "De variabele 'x' en 'y' worden dus onderwater bewaard! Klik, na het uitvoeren van de bovenstaande code, maar eens op **Variables** in de knoppenbalk bovenaan het notebook.\n",
    "Je krijgt dan een overzicht met daarin alle variabelen die gebruikt zijn in het notebook. "
   ]
  },
  {
   "cell_type": "markdown",
   "metadata": {},
   "source": [
    "# Variables, expressies..."
   ]
  },
  {
   "cell_type": "markdown",
   "metadata": {},
   "source": [
    "## Wat zijn variabelen?\n",
    "\n",
    "In de volgende kennisclip wordt uitgelegd wat variabelen zijn en waarom we die in algoritmen nodig hebben.\n",
    "\n",
    "<iframe id=\"kaltura_player\" type=\"text/javascript\"  src='https://api.de.kaltura.com/p/10066/embedPlaykitJs/uiconf_id/23452529?iframeembed=true&entry_id=0_wj1d9f1k&config[provider]={\"widgetId\":\"0_j9icvpmu\"}'  style=\"width: 608px;height: 402px;border: 0;\" allowfullscreen webkitallowfullscreen mozAllowFullScreen allow=\"autoplay *; fullscreen *; encrypted-media *\" sandbox=\"allow-forms allow-same-origin allow-scripts allow-top-navigation allow-pointer-lock allow-popups allow-modals allow-orientation-lock allow-popups-to-escape-sandbox allow-presentation allow-top-navigation-by-user-activation\" title=\"Kaltura Player\"></iframe>\n",
    "\n",
    "Variabelen zijn benoemde geheugenlocaties in een computerprogramma die worden gebruikt om data op te slaan. Benoemd betekent hier dat ze een naam hebben, zodat je er gemakkelijk naar kunt refereren en kunt aangeven wat er in de variabele opgeslagen is. Je kunt ze zien als laatjes in een ladenkast met een labeltje erop waarin je verschillende soorten informatie kunt bewaren.\n",
    "\n",
    "Naast een naam heeft een variabele ook een datatype. Dit datatype geeft aan wat voor soort informatie opgeslagen wordt in deze variabele zoals een getal of een stukje tekst. Ieder datatype gebruikt een andere hoeveelheid RAM-geheugen in je computer, en dit type kun je dus niet zomaar veranderen. De hoeveelheid variabelen die je kunt gebruiken is begrenst door je RAM-geheugen. Als dit geheugen vol zit, zal je programma een fout geven bij het maken van nieuwe variabelen. De datatypes die je veel gaat zien zijn `int` om een geheel getal op te slaan, `string` om een stukje tekst op te slaan en `double` om een komma-getal in op te slaan. Voor een volledig overzicht van datatypes kun je in het onderdeel datatypes kijken\n",
    "\n",
    "Een variabele heeft altijd een waarde en moet daarom dus ook een  initiële waarde hebben. Deze initiële waarde is optioneel bij het maken van een variabele, als je deze niet opgeeft zal je programma de standaardwaarde voor dit datatype gebruiken, maar het is een goede gewoonte om **altijd** een initiële waarde op te geven. Een variabeledefinitie ziet er dus als volgt uit:\n",
    "\n",
    "```\n",
    "datatype variabelenaam = standaardwaarde;\n",
    "```\n",
    "\n",
    "of concreet\n",
    "\n",
    "```cs\n",
    "int mooiGetal = 42;\n",
    "```\n",
    "\n",
    "Deze code zal dus een stukje geheugen reserveren om een getal op te slaan en hier meteen de waarde 42 in zetten. De naam van de variabele is mooiGetal, en de initiële waarde is 42\n",
    "\n",
    "### Naamgeving\n",
    "\n",
    "Het is belangrijk om variabelen een goede, beschrijvende naam te geven. Hier zijn een aantal regels voor\n",
    "- Een variabele moet met een letter beginnen\n",
    "  Je kunt een variabele niet met een cijfer laten beginnen. Dit is een regel binnen C#.\n",
    "  ```csharp\n",
    "  int 5getallen = 5; //mag niet\n",
    "  ```\n",
    "- Een variabele heeft een beschrijvende naam\n",
    "  Gebruik als dat mogelijk is een beschrijvende naam voor wat er in de variabele zit. gebruik dus bijvoorbeeld de naam `som` en niet `s`.\n",
    "  ```csharp\n",
    "  int s = 5; // dit is niet duidelijk\n",
    "  int som = 5; // dit is wel duidelijk\n",
    "  int somVanAlleGetallenOnderDe10 = 5; // dit is te lang\n",
    "  ```\n",
    "- Een variabelenaam in C# zetten we in camelCase, waarbij de eerste letter een kleine letter is.\n",
    "  Dit is een standaard en hoef je niet te doen, maar het wordt wel sterk aanbevolen. camelCase betekent dat als je variabelenaam uit meerdere woorden achter elkaar bestaat, de eerste letter van ieder woord een hoofdletter is.\n",
    "  ```csharp\n",
    "  int aantalWoorden = 10;\n",
    "  string voorbeeldCode = \"hallo\";\n",
    "  ```\n",
    "- In C# is de naamgeving van variabelen hoofdlettergevoelig. Dit betekent dat `avans`, `Avans`, en `AVANS` ieder verschillende variabelen zijn.\n",
    "   ```csharp\n",
    "  string avans = \"Hogeschool\";\n",
    "  string Avans = \"Breda\";\n",
    "\n",
    "  Console.WriteLine(avans); // Print: Hogeschool\n",
    "  Console.WriteLine(Avans); // Print: Breda\n",
    "  ```\n",
    "\n",
    "### Meer informatie:\n",
    "\n",
    "- [C# referentie over variabele-declaraties](https://learn.microsoft.com/en-us/dotnet/csharp/language-reference/statements/declarations)\n",
    "- [C# referentie over variabelen](https://learn.microsoft.com/en-us/dotnet/csharp/language-reference/language-specification/variables)\n",
    "- [w3schools](https://www.w3schools.com/cs/cs_variables.php)\n",
    "- [C# variable naming conventions](https://learn.microsoft.com/en-us/dotnet/csharp/fundamentals/coding-style/identifier-names)"
   ]
  },
  {
   "cell_type": "markdown",
   "metadata": {},
   "source": [
    "## Datatypes\n",
    "\n",
    "Om verschillende soorten data op te slaan zijn er verschillende datatypes. Deze datatypes hebben allemaal hun eigen mogelijkheden, geheugengebruik en een eigen doel.\n",
    "\n",
    "### Numerieke datatypes\n",
    "In een numerieke variabele kan 'een getal' opgeslagen worden. Er zijn echter 2 soorten getallen waar we mee kunnen werken, decimale getallen en gehele getallen(zonder komma). Hier zijn dus ook verschillende datatypes voor.\n",
    "\n",
    "#### Gehele getallen\n",
    "Om een geheel getal op te slaan kunnen we verschillende datatypes gebruiken. Hierbij bepaalt het datatype of er ook negatieve getallen in opgeslagen kunnen worden of alleen positieve getallen en hoeveel geheugen de variabele gebruikt. Deze twee factoren bepalen het bereik van de waarden die in de variabele opgeslagen kunnen worden. Het kunnen opslaan van negatieve waarden wordt 'signedness' genoemd. Een variabele kan signed (kan negatieve waarden bevatten) of unsigned (kan geen negatieve waarden bevatten) zijn. Over het algemeen wordt standaard het datatype `int` gebruikt voor getallen.\n",
    "\n",
    "| type naam | geheugengrootte  | signedness | bereik                                       |\n",
    "|-----------|------------------|------------|----------------------------------------------|\n",
    "| sbyte     | 1 byte / 8 bit   | signed     | -128 t/m 127                                 |\n",
    "| byte      | 1 byte / 8 bit   | unsigned   | 0 t/m 255                                    |\n",
    "| short     | 2 bytes / 16 bit | signed     | -32768 t/m 32767                             |\n",
    "| ushort    | 2 bytes / 16 bit | unsigned   | 0 t/m 65535                                  |\n",
    "| int       | 4 bytes / 32 bit | signed     | -2147483648 t/m 2147483647                   |\n",
    "| uint      | 4 bytes / 32 bit | unsigned   | 0 t/m 4294967295                             |\n",
    "| long      | 8 bytes / 64 bit | signed     | -9223372036854775808 t/m 9223372036854775807 |\n",
    "| ulong     | 8 bytes / 64 bit | unsigned   | 0 t/m 18446744073709551615                   |\n",
    "\n",
    "Bij het afwegen wat voor datatype je gebruikt om een geheel getal op te slaan is het dus belangrijk te weten hoe groot de nummers zijn die je er in wilt opslaan.\n",
    "\n",
    "#### Decimale getallen\n",
    "Naast gehele getallen kunnen ook decimale getallen opgeslagen worden. Hier kunnen floating point types voor gebruikt worden, of het decimal datatype. Er zijn 3 floating point datatypes, `float` (32-bit), `double` (64-bit) en `decimal` (128-bit). Een floating point slaat in het geheugen de waarde op in een soort wetenschappelijke notatie, en verliest nauwkeurigheid bij hoge waardes. Door deze onnauwkeurigheid kunnen er kleine afwijkingen ontstaan bij berekeningen [zie wikipedia](https://nl.wikipedia.org/wiki/Zwevendekommagetal). \n",
    "\n",
    "Over het algemeen zie je voor decimale getallen meestal `float` gebruikt worden, maar voor geldbedragen de `decimal` (vanwege de hogere nauwkeurigheid).\n",
    "\n",
    "### Tekst\n",
    "Het datatype `string` wordt gebruikt om tekst op te slaan. \n",
    "<iframe width=\"560\" height=\"315\" src=\"https://www.youtube.com/embed/lXheKhL6dDA?si=njnNH2OnEHzWRYR3\" title=\"YouTube video player\" frameborder=\"0\" allow=\"accelerometer; autoplay; clipboard-write; encrypted-media; gyroscope; picture-in-picture; web-share\" referrerpolicy=\"strict-origin-when-cross-origin\" allowfullscreen></iframe>  \n",
    "\n",
    "Strings komen we later weet tegen. Je leert er dan bewerkingen op uit te voeren.\n",
    "\n",
    "### Booleans\n",
    "Bij het ontwikkelen van software zul je ook vaak een waarheidswaarde moeten opslaan, `true` of `false`. Deze waardes zou je kunnen opslaan in een `int` als 0 en 1, maar C# heeft hier een eigen datatype voor, de `bool`. Een `bool` waarde kan alleen `true` of `false` bevatten en gebruikt 1 byte aan geheugen (hoewel maar 1 bit nodig is). \n",
    "\n",
    "### Literals\n",
    "Om deze datatypes een waarde te geven, moeten deze waardes ook in C# getypt kunnen worden. Een waarde die letterlijk in de code staat heet een literal, en is bijvoorbeeld `1000`. Om de types in de code te laten matchen, is het af en toe nodig om aan te geven aan C# wat voor type een literal is, bijvoorbeeld het verschil tussen een `float` en een `double`. Om het type van een literal te forceren kun je de volgende karakters in/achter het getal zetten:\n",
    "\n",
    "| suffix | voorbeeld | getal                 |\n",
    "|--------|-----------|-----------------------|\n",
    "| U      | 10U       | unsigned int of long  |\n",
    "| L      | 10L       | long of unsigned long |\n",
    "| UL     | 10UL      | unsigned long         |\n",
    "| .      | 10.5      | double                |\n",
    "| . f    | 10.5f     | float                 |\n",
    "| . M    | 10.0M     | Decimal               |\n",
    "\n",
    "De U en L mogen ook kleine letters zijn (u/l), maar voor leesbaarheid (de l lijkt op een 1) is het aan te raden een hoofdletter te gebruiken. Om grote getallen duidelijker te beschrijven, mag je ook een _ gebruiken in een getal, dit karakter zal genegeerd worden, maar kun je gebruiken om een splitsing te geven in 1000-tallen\n",
    "```csharp\n",
    "int miljoen = 1_000_000;\n",
    "```\n",
    "Het is ook mogelijk om op andere manieren getallen te noteren (binair, octaal, hexadecimaal), maar dit valt buiten de scope van dit onderwerp\n",
    "\n",
    "### Standaardwaarden\n",
    "Als er geen initiële waarde aan een variabele gegeven wordt, zal deze een standaardwaarde (default value) krijgen.\n",
    "- Voor gehele getallen is dit 0\n",
    "- Voor decimale getallen is dit 0.0\n",
    "- Voor booleans is dit false\n",
    "\n",
    "### Overflows\n",
    "In C# (en andere programmeertalen) heeft elke variabele een bepaald bereik aan waarden die het kan opslaan. Als in een variabele een waarde wordt opgeslagen die te groot of te klein is, dus buiten het bereik van de variabele valt, heet dit een overflow. Dit zorgt er voor dat de waarde die je uit een variabele haalt, ineens niet meer correct is."
   ]
  },
  {
   "cell_type": "code",
   "execution_count": null,
   "metadata": {
    "polyglot_notebook": {
     "kernelName": "csharp"
    }
   },
   "outputs": [],
   "source": [
    "short waarde = 10000;\n",
    "Console.WriteLine(waarde);\n",
    "waarde = (short)(waarde * 1000);\n",
    "Console.WriteLine(waarde);"
   ]
  },
  {
   "cell_type": "markdown",
   "metadata": {},
   "source": [
    "Bij een overflow kunnen waarden ook van positieve getallen naar negatieve getallen schieten. Wees hierop voorbereid, dit kan leiden tot bugs.\n",
    "\n",
    "### Var\n",
    "\n",
    "Het var keyword kan gebruikt worden om de compiler automatisch het variabeletype te laten bepalen. Het variabeletype wordt bepaald aan de hand van wat er na het = teken staat, en kan hierna dus ook niet veranderen, het is dus niet een variabel variabeletype (waarin je alle types kunt opslaan). Dit wordt vooral gebruikt in een latere fase van de opleiding, waarbij variabeletypes met langere namen gebruikt gaan worden. In deze periode kun je het misschien tegenkomen in voorbeeldcode, maar probeer zelf de expliciete variabeletypes te gebruiken. Bij het gebruik van var is het soms lastig af te lezen wat het type van een variabele is, wat de code ook minder leesbaar kan maken.\n",
    "\n",
    "```csharp\n",
    "var getal = 10;\n",
    "var tekst = \"hallo\";\n",
    "var decimaal = 10.5;\n",
    "```\n",
    "In bovenstaande code is getal van het type `int`, tekst van het type `string`, en decimaal van het type `double`.\n",
    "\n",
    "### Voor meer info\n",
    "- [C# documentatie - Integers](https://learn.microsoft.com/en-us/dotnet/csharp/language-reference/builtin-types/integral-numeric-types)\n",
    "- [C# documentatie - literals](https://learn.microsoft.com/en-us/dotnet/csharp/language-reference/builtin-types/integral-numeric-types#integer-literals)\n",
    "- [C# documentatie - Alle datatypes](https://learn.microsoft.com/en-us/dotnet/csharp/language-reference/builtin-types/built-in-types)"
   ]
  },
  {
   "cell_type": "markdown",
   "metadata": {},
   "source": [
    "## Omzetten van datatypen\n",
    "\n",
    "### Casting\n",
    "\n",
    "Om getallen op te slaan zijn er verschillende datatypes beschikbaar, zoals een int en een short. Standaard kan een variabele van een groter datatype niet in een kleiner datatype opgeslagen worden. Een int kan bijvoorbeeld het getal 1000000 opslaan, maar dit past niet in een short. Daarom moet je als programmeur expliciet opgeven dat je deze omzetting wilt doen. Dit noemen we casting\n",
    "\n",
    "```csharp\n",
    "int intValue = 10;\n",
    "short shortValue = (short)intValue;\n",
    "```\n",
    "\n",
    "Dit werkt natuurlijk alleen goed als je zeker weet dat de waarde die je cast ook in doeltype past, je moet niet 1000000 naar een short casten. Als je dit wel doet, krijg je een overflow en zul je niet de waarde krijgen die je verwacht"
   ]
  },
  {
   "cell_type": "code",
   "execution_count": null,
   "metadata": {
    "polyglot_notebook": {
     "kernelName": "csharp"
    }
   },
   "outputs": [],
   "source": [
    "int intValue = 1000000;\n",
    "short shortValue = (short)intValue;\n",
    "Console.WriteLine(shortValue);"
   ]
  },
  {
   "cell_type": "markdown",
   "metadata": {},
   "source": [
    "### Strings en getallen\n",
    "\n",
    "Vaak krijg je data als een stuk tekst in een variabele in je applicatie. Dit kan bijvoorbeeld uit een invoerveld van de gebruiker zijn of uit een bestand uitgelezen worden. Deze worden dan opgeslagen in een variabele van het type `string`. Strings kunnen echter niet gebruikt worden om mee te rekenen, en zullen dus omgezet moeten worden. \n",
    "\n",
    "#### Van string naar getal\n",
    "\n",
    "Om een string om te zetten naar een getal kun je de methoden gebruiken in de `Convert` klasse. Hiermee kun je een string omzetten naar ieder numeriek datatype"
   ]
  },
  {
   "cell_type": "code",
   "execution_count": null,
   "metadata": {
    "polyglot_notebook": {
     "kernelName": "csharp"
    }
   },
   "outputs": [],
   "source": [
    "string input = \"1337\";\n",
    "int getal = Convert.ToInt32(input);\n",
    "\n",
    "input = \"42.24\";\n",
    "double doubleGetal = Convert.ToDouble(input);"
   ]
  },
  {
   "cell_type": "markdown",
   "metadata": {},
   "source": [
    "Een andere optie die je kunt gebruiken zijn de methoden die in het datatype zelf zitten. Zo kun je `int.Parse` gebruiken om een getal om te zetten naar een integer of `double.Parse()` om een getal om te zetten naar een double. Deze methoden geven een foutmelding op het moment dat er iets fout gaat, en stoppen daarmee de uitvoer van je applicatie. Als je dit niet wilt en je wilt controleren of de string ook daadwerkelijk omgezet kan worden naar een getal, kunnen de `int.TryParse`. Zie onderstaande voorbeeld.\n"
   ]
  },
  {
   "cell_type": "code",
   "execution_count": null,
   "metadata": {
    "polyglot_notebook": {
     "kernelName": "csharp"
    }
   },
   "outputs": [],
   "source": [
    "string invoer = \"123\";\n",
    "int resultaat;\n",
    "bool gelukt = int.TryParse(invoer, out resultaat); // resultaat is nu 123\n",
    "\n",
    "Console.WriteLine(gelukt); // Output: True\n",
    "Console.WriteLine(resultaat); // Output: 123"
   ]
  },
  {
   "cell_type": "markdown",
   "metadata": {},
   "source": [
    "\n",
    "#### Van getal naar string\n",
    "\n",
    "Om tekst uit te voeren kan het soms ook nodig zijn om een getal om te zetten naar string. Dit kan op verschillende manieren, maar de manier die we deze periode gaan gebruiken is door het getal met een lege string achter elkaar te plakken met de `+` operator."
   ]
  },
  {
   "cell_type": "code",
   "execution_count": null,
   "metadata": {
    "polyglot_notebook": {
     "kernelName": "csharp"
    }
   },
   "outputs": [],
   "source": [
    "int getal = 12345;\n",
    "string tekst = getal + \"\";"
   ]
  },
  {
   "cell_type": "markdown",
   "metadata": {},
   "source": [
    "### Waarschuwing bij het omzetten\n",
    "\n",
    "Het omzetten van een string naar een getal is relatief inefficient. Een tekst is opgeslagen om uit te printen en niet om naar een getal om te zetten. Probeer in je algoritmes altijd te voorkomen om een getal 2 keer om te zetten. Ga dus niet een getal omzetten naar string, deze opknippen, en deze stukken weer terug omzetten naar integers. Er zijn algoritmes om een getal op te knippen (gebruik de modulo en deel operators)"
   ]
  },
  {
   "cell_type": "code",
   "execution_count": null,
   "metadata": {
    "polyglot_notebook": {
     "kernelName": "csharp"
    }
   },
   "outputs": [],
   "source": [
    "int getal = 42;\n",
    "while(getal > 0)\n",
    "{\n",
    "    Console.WriteLine(getal % 10);\n",
    "    getal /= 10;\n",
    "}"
   ]
  },
  {
   "cell_type": "markdown",
   "metadata": {},
   "source": [
    "## Expressies: de bouwstenen van je code\n",
    "\n",
    "Stel je voor dat je code een rekenmachine is. Een **expressie** is dan als een berekening die die rekenmachine uitvoert. Het levert altijd een resultaat op. Dat resultaat kan van alles zijn: een getal, tekst, of zelfs 'waar' of 'niet waar' (**true/false**).\n",
    "\n",
    "Je komt expressies overal tegen in de code:\n",
    "\n",
    "* **Als je een variabele een waarde geeft:**\n",
    "    ```csharp\n",
    "    int leeftijd = 18; // '18' is hier een simpele expressie\n",
    "    string naam = \"Jan\" + \" \" + \"Jansen\"; // \"Jan\" + \" \" + \"Jansen\" is een expressie\n",
    "    ```\n",
    "* **Bij beslissingen (if-statements) of herhalingen (while-statements):**\n",
    "    ```csharp\n",
    "    if (temperatuur > 20) // 'temperatuur > 20' is een expressie die true of false geeft\n",
    "    {\n",
    "        // doe iets\n",
    "    }\n",
    "    ```\n",
    "\n",
    "---\n",
    "\n",
    "### Wat kan een expressie zijn?\n",
    "\n",
    "Een expressie kan bestaan uit:\n",
    "\n",
    "* **Een variabele:** Denk aan `mijnGetal`\n",
    "* **Een vaste waarde:** Zoals `10` of `\"Hallo\"`\n",
    "* **Een functie-aanroep:** Bijvoorbeeld `Console.ReadLine()`\n",
    "* **Een bewerking met 'operatoren':** Dit zijn de symbolen zoals `+`, `-`, `*`, `/`, `>`, `<`, `==`.\n",
    "    * Voorbeeld: `1 + 4` (hier is `+` de operator)\n",
    "    * Het mooie is dat de `1` en de `4` zelf ook weer expressies zijn! Daarom kunnen expressies heel complex worden, zoals `(10 * 2) + (5 / 1)`.\n",
    "\n",
    "Net als bij wiskunde hebben operatoren een vaste volgorde (denk aan 'Haakjes Voor Machten, Dan Vermenigvuldigen, Delen, Optellen, Aftrekken'). Met **haakjes** `()` kun je die volgorde beïnvloeden.\n",
    "\n",
    "---\n",
    "\n",
    "## Het Type van een Expressie\n",
    "\n",
    "Elke expressie heeft een **type** voor het resultaat dat het oplevert. Dit type is superbelangrijk, want je kunt niet zomaar appels bij peren optellen (figuurlijk dan).\n",
    "\n",
    "Hier zijn de belangrijkste plekken waar je met expressie-types te maken krijgt:\n",
    "\n",
    "* **Bij het vullen van variabelen (assignment):**\n",
    "    Het type van je expressie moet overeenkomen met het type van de variabele waar je de waarde in stopt.\n",
    "    ```csharp\n",
    "    int getal = 10 + 20;    // Gaat goed, want 10 + 20 is ook een int (getal)\n",
    "    string tekst = \"Hallo\" + \"Wereld\"; // Gaat goed, \"Hallo\" + \"Wereld\" is een string (tekst)\n",
    "\n",
    "    // string foutTekst = 10 + 20; // Dit gaat NIET goed! 10+20 is een int, geen string.\n",
    "    ```\n",
    "\n",
    "* **Bij `if` en `while` statements:**\n",
    "    Hier móet het resultaat van je expressie altijd `true` (waar) of `false` (niet waar) zijn.\n",
    "    ```csharp\n",
    "    if (leeftijd >= 18) // 'leeftijd >= 18' levert true of false op\n",
    "    {\n",
    "        Console.WriteLine(\"Je bent volwassen!\");\n",
    "    }\n",
    "    ```\n",
    "\n",
    "* **Bij `return` statements (als je een waarde teruggeeft uit een functie):**\n",
    "    De expressie die je `returned`, moet van hetzelfde type zijn als wat je functie belooft terug te geven.\n",
    "    ```csharp\n",
    "    public static int TelOp(int a, int b) // Deze functie belooft een 'int' terug te geven\n",
    "    {\n",
    "        return a + b; // 'a + b' is een int-expressie, dus dit klopt\n",
    "    }\n",
    "    ```\n",
    "\n",
    "* **Als je waarden meegeeft aan een functie (methode-parameters):**\n",
    "    De expressies die je meegeeft, moeten passen bij de types die de functie verwacht.\n",
    "    ```csharp\n",
    "    // Stel, een functie verwacht twee ints\n",
    "    Console.WriteLine(TelOp(5 + 5, 20 / 2)); // '5 + 5' en '20 / 2' zijn beide int-expressies en passen.\n",
    "    ```\n",
    "\n",
    "Kortom, het goed begrijpen van **expressies** en hun **types** is belangrijk. Dit helpt je om correcte en logische code te schrijven. Als je meer leert over specifieke operatoren, wordt dit allemaal nog duidelijker."
   ]
  },
  {
   "cell_type": "markdown",
   "metadata": {},
   "source": [
    "### Expressies met getallen\n",
    "\n",
    "Om te rekenen met getallen zijn er verschillende operatoren die op getallen werken, en ook getallen teruggeven.\n",
    "\n",
    "#### Rekenen\n",
    "\n",
    "Om te rekenen met getallen zijn er de operatoren\n",
    "- `+` optellen\n",
    "- `-` aftrekken\n",
    "- `/` delen\n",
    "- `*` vermenigvuldigen\n",
    "- `%` modulo\n",
    "\n",
    "Hierbij verdient misschien alleen de modulo-operator wat extra aandacht. De modulo-operator (%) in C# geeft de rest die overblijft na het delen van twee getallen. Bijvoorbeeld, wanneer je 10 deelt door 3, is het resultaat 3 met een rest van 1. Deze rest, 1 in dit geval, is wat de modulo-operator teruggeeft. Dus 10 % 3 geeft 1.\n",
    "\n",
    "De modulo-operator wordt vaak gebruikt om te bepalen of getallen voldoen aan bepaalde voorwaarden, zoals even of oneven zijn, of om waarden binnen een bepaald bereik te houden door de rest van een deling te berekenen."
   ]
  },
  {
   "cell_type": "code",
   "execution_count": null,
   "metadata": {
    "polyglot_notebook": {
     "kernelName": "csharp"
    }
   },
   "outputs": [],
   "source": [
    "int getal = 4;\n",
    "if(getal % 2 == 0)\n",
    "{\n",
    "    Console.WriteLine(\"Het getal is even\");\n",
    "}\n",
    "else\n",
    "{\n",
    "    Console.WriteLine(\"Het getal is oneven\");\n",
    "}"
   ]
  },
  {
   "cell_type": "markdown",
   "metadata": {},
   "source": [
    "Het type van de expressie met deze operatoren is afhankelijk van de typen van de variabelen die als parameters gebruikt\n",
    "\n",
    "- `int + int` geeft `int` als resultaat\n",
    "- `int * int` geeft `int` als resultaat\n",
    "- `int / int` geeft `int` als resultaat. \n",
    "  Dit is een integerdeling, en kan dus verlies van informatie geven. zo geeft `10 / 6` als resultaat `1`, en niet `1.6667`.\n",
    "- `int / double` en `double / int` geven `double` als resultaat. Deze deling geeft dus wel de cijfers achter de komma terug\n",
    "- `double / double` geeft `double` als resultaat\n",
    "\n",
    "**Tip:** Wil je toch een deling met decimalen uitvoeren met twee integers? Zet dan een van de getallen tijdelijk om naar een `double`:\n",
    "```csharp\n",
    "int a = 10;\n",
    "int b = 6;\n",
    "double c = (double)a / b; // c wordt nu 1.666...\n",
    "```\n",
    "\n",
    "Over het algemeen, als je 2 gehele getallen als parameters gebruikt, is het resultaat ook een geheel getal. Als een of beide parameters een decimaal getal zijn, is het resultaat ook een decimaal. Dit zorgt wel voor dat de volgende code een soms wat verwarrend resultaat kan geven"
   ]
  },
  {
   "cell_type": "code",
   "execution_count": null,
   "metadata": {
    "polyglot_notebook": {
     "kernelName": "csharp"
    }
   },
   "outputs": [],
   "source": [
    "int a = 10;\n",
    "int b = 6;\n",
    "double c = a / b;\n",
    "Console.WriteLine(c); //wat is hier de output en waarom?"
   ]
  },
  {
   "cell_type": "markdown",
   "metadata": {},
   "source": [
    "#### Kortere notaties\n",
    "\n",
    "Met het `-=` teken kan de inhoud een variabele veranderd worden. Zo kun je schrijven\n",
    "\n",
    "```csharp\n",
    "int score = 10; // initialisatie\n",
    "score = score + 10;\n",
    "```\n",
    "\n",
    "Omdat dit soort expressies vaak voorkomt is er een verkorte notatie (compound assignment operator)\n",
    "\n",
    "```csharp\n",
    "int score = 10;\n",
    "score += 10;\n",
    "```\n",
    "\n",
    "Deze notatie is er ook voor de `-`, `/`, `*` en `%` operatoren\n",
    "```csharp\n",
    "int score = 10;\n",
    "score += 10; // score = score + 10; 20\n",
    "score -= 5;  // score = score - 5;  15\n",
    "score *= 2;  // score = score * 2;  30\n",
    "score /= 5;  // score = score / 5;  6\n",
    "score %= 5;  // score = score % 5;  1\n",
    "```\n",
    "\n",
    "Voor de + en -, is er ook nog een kortere notatie om met 1 op te hogen of 1 te verlagen\n",
    "\n",
    "```csharp\n",
    "int score = 10;\n",
    "score++; // score = score + 1;\n",
    "score--; // score = score - 1;\n",
    "```\n",
    "\n",
    "Let er dus op dat deze verkorte notatie gaat over het **veranderen van variabelen**. In een expressie met een resultaat (een berekening) horen deze verkorte notaties dus niet thuis \n",
    "```csharp\n",
    "int getal = 10;\n",
    "if(getal += 10 < 5) // niet gebruiken! je bedoelt waarschijnlijk if(getal + 10 < 5)\n",
    "{\n",
    "\n",
    "}\n",
    "```"
   ]
  },
  {
   "cell_type": "markdown",
   "metadata": {},
   "source": [
    "### Expressies met booleans\n",
    "\n",
    "#### Vergelijken van waarden\n",
    "\n",
    "In C# worden de vergelijkingsexpressies >, <, == en != gebruikt om relaties tussen waarden te evalueren. Hier is een uitleg van wat elk van deze operators doet:\n",
    "\n",
    "- Groter dan (>)\n",
    "  - Betekenis: Controleert of de waarde aan de linkerzijde groter is dan de waarde aan de rechterzijde.\n",
    "  - Voorbeeld: `5 > 3` evalueert naar true omdat 5 groter is dan 3.\n",
    "- Kleiner dan (<)\n",
    "  - Betekenis: Controleert of de waarde aan de linkerzijde kleiner is dan de waarde aan de rechterzijde.\n",
    "  - Voorbeeld: `3 < 5` evalueert naar true omdat 3 kleiner is dan 5.\n",
    "- Gelijk aan (==)\n",
    "  - Betekenis: Controleert of de waarde aan de linkerzijde gelijk is aan de waarde aan de rechterzijde.\n",
    "  - Voorbeeld: `5 == 5` evalueert naar true omdat beide waarden gelijk zijn.\n",
    "- Niet gelijk aan (!=)\n",
    "  - Betekenis: Controleert of de waarde aan de linkerzijde niet gelijk is aan de waarde aan de rechterzijde.\n",
    "  - Voorbeeld: `5 != 3` evalueert naar true omdat 5 niet gelijk is aan 3.\n",
    "- Groter dan of gelijk aan (>=)\n",
    "  - Betekenis: Controleert of de waarde aan de linkerzijde groter dan of gelijk is aan de waarde aan de rechterzijde.\n",
    "  - Voorbeeld: `5 >= 5` evalueert naar true omdat 5 gelijk is aan 5. 6 >= 5 evalueert ook naar true omdat 6 groter is dan 5.\n",
    "- Kleiner dan of gelijk aan (<=)\n",
    "  - Betekenis: Controleert of de waarde aan de linkerzijde kleiner dan of gelijk is aan de waarde aan de rechterzijde.\n",
    "  - Voorbeeld: `5 <= 5` evalueert naar true omdat 5 gelijk is aan 5. 4 <= 5 evalueert ook naar true omdat 4 kleiner is dan 5.\n",
    "\n",
    "Deze vergelijkingsexpressies kun je dus in een if-statement gebruiken om beslissingen te maken, en code alleen uit te voren als aan een conditie is voldaan\n",
    "\n",
    "```csharp\n",
    "if(age >= 18)\n",
    "{\n",
    "  Console.WriteLine(\"Je bent 18 jaar of ouder\");\n",
    "}\n",
    "```\n",
    "\n",
    "Omdat het resultaat van een vegelijkingsexpressie een `boolean` is kun je deze ook toekennen aan een variabele. Hiermee kun je het resultaat van de expressie hergebruiken en kan de leesbaarheid van code verbeteren. \n",
    "\n",
    "```csharp\n",
    "bool isAdult = age >= 18;\n",
    "if(isAdult)\n",
    "{\n",
    "  Console.WriteLine(\"Je bent volwassen\");\n",
    "}\n",
    "```\n",
    "\n",
    "#### Logische operatoren\n",
    "\n",
    "Om 2 boolean waarden met elkaar te combineren kunnen we naast `==` en `!=`, ook de `&&` en `||` gebruiken (spreek uit als `en` en `of` in het Nederlands, of `and` en `or` in het Engels)\n",
    "\n",
    "- Logische EN (&&)\n",
    "  - Betekenis: Controleert of beide operanden true zijn. De gehele expressie evalueert naar true als en alleen als beide operanden true zijn.\n",
    "  - Voorbeeld:\n",
    "    true && true evalueert naar true.\n",
    "    true && false evalueert naar false.\n",
    "    false && true evalueert naar false.\n",
    "    false && false evalueert naar false.\n",
    "- Logische OF (||)\n",
    "  - Betekenis: Controleert of minstens één van de operanden true is. De gehele expressie evalueert naar true als minstens één operand true is.\n",
    "  - Voorbeeld:\n",
    "    true || true evalueert naar true.\n",
    "    true || false evalueert naar true.\n",
    "    false || true evalueert naar true.\n",
    "    false || false evalueert naar false.\n",
    "\n",
    "Deze operatoren zijn natuurlijk te combineren\n",
    "`if ((a > b && c < d) || (e == f))`: Voer bepaalde code uit als zowel a groter is dan b en c kleiner is dan d, of als e gelijk is aan f."
   ]
  },
  {
   "cell_type": "markdown",
   "metadata": {},
   "source": [
    "### Expressies met strings\n",
    "\n",
    "Om tekst op te slaan in c# worden `string`s gebruikt. Een string is dus het type voor een tekst. Deze komt in code altijd tussen aanhalingstekens (`\"`) te staan. Tussen de aanhalingstekens kun je jouw tekst typen\n",
    "\n",
    "```csharp\n",
    "string school = \"Avans\";\n",
    "```\n",
    "#### Speciale karakters\n",
    "\n",
    "Sommige karakters kun je niet zomaar in een string gebruiken. Zo kun je niet gewoon een nieuwe regel in een string zetten, maar ook een `\"` kan niet niet zo in een string gebruikt worden (dan krijg je de string `\"\"\"`).  In C# worden escape characters gebruikt om speciale tekens binnen strings op te nemen. Ze beginnen altijd met een backslash (\\\\\\) gevolgd door een teken dat aangeeft welk speciaal teken bedoeld is. Hier is een overzicht van de belangrijkste escape characters in C#:\n",
    "\n",
    "- Nieuwe regel (\\n):\n",
    "  Wordt gebruikt om naar een nieuwe regel te springen.\n",
    "  Voorbeeld: `\"Hello\\nWorld\"` resulteert in:\n",
    "  ```\n",
    "  Hello\n",
    "  World\n",
    "  ```\n",
    "- Tab (\\t):\n",
    "  Voegt een horizontale tab in.\n",
    "  Voorbeeld: `\"Hello\\tWorld\"` resulteert in: `Hello\tWorld`.\n",
    "- Backslash (\\\\\\\\):\n",
    "  Gebruikt om een enkele backslash in de string op te nemen.\n",
    "  Voorbeeld: `\"C:\\\\Program Files\\\\MyApp\"` resulteert in `C:\\Program Files\\MyApp`.\n",
    "- Dubbele aanhalingstekens (\\\\\\\"):\n",
    "  Gebruikt om dubbele aanhalingstekens in een string op te nemen.\n",
    "  Voorbeeld: `\"He said, \\\"Hello!\\\"\"` resulteert in: `He said, \"Hello!\"`.\n",
    "- Enkele aanhalingstekens (\\\\\\'):\n",
    "  Gebruikt om enkele aanhalingstekens in een string op te nemen.\n",
    "  Voorbeeld: `\"It\\'s a sunny day\"` resulteert in: `It's a sunny day`.\n",
    "\n",
    "#### Strings in code\n",
    "\n",
    "Het is naast de standaard string, met escape characters, ook mogelijk om strings op andere manieren te definieren. \n",
    "- Verbatim strings\n",
    "  C# biedt ook zogenaamde verbatim strings, aangeduid door een @-teken voor de openingsaanhalingstekens. In verbatim strings worden escape characters genegeerd, behalve dubbele aanhalingstekens die door twee achtereenvolgende dubbele aanhalingstekens worden gerepresenteerd.\n",
    "  ```csharp\n",
    "  string path = @\"C:\\Program Files\\MyApp\";\n",
    "  string quote = @\"He said, \"\"Hello!\"\"\";\n",
    "  ```\n",
    "- Raw strings\n",
    "  Raw strings in C# maken het mogelijk om tekst letterlijk op te nemen, inclusief speciale tekens zoals backslashes en aanhalingstekens, zonder dat deze ontsnapt hoeven te worden. Dit wordt gedaan door het gebruik van drie dubbele aanhalingstekens (\"\"\") aan het begin en het einde van de string.\n",
    "  ```csharp\n",
    "  string rawString = \"\"\"\n",
    "  This is a raw string.\n",
    "  It can contain \"quotes\" and backslashes \\ without escaping.\n",
    "  It can also span multiple lines.\n",
    "  \"\"\";\n",
    "  ```\n",
    "- Interpolated  strings\n",
    "  Interpolated strings in C# worden aangeduid met een dollarteken ($) voor de openingsaanhalingstekens van de string. Binnen deze strings kun je variabelen en expressies opnemen door ze tussen accolades ({}) te plaatsen.\n",
    "  ```csharp\n",
    "  string name = \"John\";\n",
    "  int age = 30;\n",
    "  string greeting = $\"Hello, my name is {name} and I am {age} years old.\";\n",
    "  Console.WriteLine(greeting);\n",
    "  ```\n",
    "\n",
    "#### Stringmanipulatie\n",
    "\n",
    "Door gebruik te maken van verschillende acties op een string is het mogelijk om strings aan te passen en te combineren tot nieuwe strings. Zo kunnen strings opgeknipt worden, hoofdletters aangepast en kunnen ze doorzocht worden.\n",
    "\n",
    "**Belangrijk: Strings zijn onveranderlijk!**\n",
    "Methoden zoals `.ToUpper()`, `.Replace()` of `.Trim()` veranderen de originele string niet. Ze maken een *nieuwe*, aangepaste string aan. Je moet het resultaat dus altijd toekennen aan een (nieuwe of dezelfde) variabele om het te bewaren.\n",
    "```csharp\n",
    "string groet = \" hallo \";\n",
    "string netteGroet = groet.Trim(); // groet is nog steeds \" hallo \"\n",
    "Console.WriteLine(netteGroet); // print \"hallo\"\n",
    "```\n",
    "\n",
    "##### Concateneren (aan elkaar plakken)\n",
    "\n",
    "Met de + operator is het mogelijk om strings achter elkaar te plakken."
   ]
  },
  {
   "cell_type": "code",
   "execution_count": null,
   "metadata": {
    "polyglot_notebook": {
     "kernelName": "csharp"
    }
   },
   "outputs": [],
   "source": [
    "string school = \"Avans\";\n",
    "string academie = \"ATIx\";\n",
    "string totaal = school + academie;\n",
    "string totaal2 = school + \" \" + academie;\n",
    "Console.WriteLine(totaal2);"
   ]
  },
  {
   "cell_type": "markdown",
   "metadata": {},
   "source": [
    "##### Length\n",
    "\n",
    "Met de length-eigenschap is het mogelijk om de lengte van een tekst te bepalen."
   ]
  },
  {
   "cell_type": "code",
   "execution_count": null,
   "metadata": {
    "polyglot_notebook": {
     "kernelName": "csharp"
    }
   },
   "outputs": [],
   "source": [
    "string school = \"Avans\";\n",
    "Console.WriteLine(\"De lengte van \" + school + \" is \" + school.Length);"
   ]
  },
  {
   "cell_type": "markdown",
   "metadata": {},
   "source": [
    "##### Substring\n",
    "\n",
    "De Substring-methode in C# biedt een manier om een deel van een string te extraheren. Deze methode is handig wanneer je slechts een deel van een string nodig hebt voor verdere verwerking.\n",
    "\n",
    "**Syntax:**\n",
    "\n",
    "Er zijn twee hoofdversies van de Substring-methode:\n",
    "\n",
    "- `Substring(startIndex)`: Deze versie retourneert het deel van de string vanaf de opgegeven startIndex tot het einde van de string.\n",
    "- `Substring(startIndex, length)`: Deze versie retourneert het deel van de string dat begint bij de opgegeven startIndex en een bepaalde lengte heeft.\n",
    "\n",
    "**Voorbeeld 1: Substring(startIndex)**"
   ]
  },
  {
   "cell_type": "code",
   "execution_count": null,
   "metadata": {
    "polyglot_notebook": {
     "kernelName": "csharp"
    }
   },
   "outputs": [],
   "source": [
    "string text = \"Hello, World!\";\n",
    "string result = text.Substring(7);\n",
    "Console.WriteLine(result); // Uitvoer: \"World!\""
   ]
  },
  {
   "cell_type": "markdown",
   "metadata": {},
   "source": [
    "**Voorbeeld 2: Substring(startIndex, length)**"
   ]
  },
  {
   "cell_type": "code",
   "execution_count": null,
   "metadata": {
    "polyglot_notebook": {
     "kernelName": "csharp"
    }
   },
   "outputs": [],
   "source": [
    "string text = \"Hello, World!\";\n",
    "string result = text.Substring(7, 5);\n",
    "Console.WriteLine(result); // Uitvoer: \"World\""
   ]
  },
  {
   "cell_type": "markdown",
   "metadata": {},
   "source": [
    "**Let op**: Zorg ervoor dat de opgegeven startIndex en length niet buiten het bereik van de string vallen, anders zal deze methode een foutmelding geven."
   ]
  },
  {
   "cell_type": "code",
   "execution_count": null,
   "metadata": {
    "polyglot_notebook": {
     "kernelName": "csharp"
    }
   },
   "outputs": [],
   "source": [
    "string text = \"Hello, World!\";\n",
    "// Console.WriteLine(text.Substring(1,100)); // Geeft foutmelding\n",
    "// Console.WriteLine(text.Substring(100,1)); // Geeft foutmelding"
   ]
  },
  {
   "cell_type": "markdown",
   "metadata": {},
   "source": [
    "##### PadLeft/PadRight\n",
    "\n",
    "In C# bieden de methoden PadLeft en PadRight een handige manier om een string aan te vullen met specifieke tekens aan de linker- of rechterkant, zodat de uiteindelijke string een bepaalde minimale lengte heeft. Op deze manier kunnen teksten gemakkelijk onder elkaar uitgelijnd worden\n",
    "\n",
    "De PadLeft-methode voegt een opgegeven teken toe aan de linkerkant van de string totdat de string de opgegeven totale breedte bereikt. Als de string al langer is, wordt de string ongewijzigd geretourneerd.\n",
    "De PadRight-methode doet hetzelfde, maar dan aan de rechterkant."
   ]
  },
  {
   "cell_type": "code",
   "execution_count": null,
   "metadata": {
    "polyglot_notebook": {
     "kernelName": "csharp"
    }
   },
   "outputs": [],
   "source": [
    "string input = \"123\";\n",
    "string padded = input.PadLeft(5, '0');\n",
    "Console.WriteLine(padded); // Uitvoer: \"00123\""
   ]
  },
  {
   "cell_type": "markdown",
   "metadata": {},
   "source": [
    "##### Contains\n",
    "\n",
    "De Contains-methode in C# wordt gebruikt om te controleren of een bepaalde substring voorkomt in een string. Het retourneert `true` als de substring wordt gevonden, anders retourneert het `false`."
   ]
  },
  {
   "cell_type": "code",
   "execution_count": null,
   "metadata": {
    "polyglot_notebook": {
     "kernelName": "csharp"
    }
   },
   "outputs": [],
   "source": [
    "string mainString = \"Hello, World!\";\n",
    "bool containsHello = mainString.Contains(\"Hello\");\n",
    "Console.WriteLine(containsHello); // Uitvoer: true\n",
    "\n",
    "bool containsGoodbye = mainString.Contains(\"Goodbye\");\n",
    "Console.WriteLine(containsGoodbye); // Uitvoer: false"
   ]
  },
  {
   "cell_type": "markdown",
   "metadata": {},
   "source": [
    "##### ToLower / ToUpper\n",
    "\n",
    "In C# bieden de ToUpper- en ToLower-methoden een manier om alle letters in een string respectievelijk naar hoofdletters of kleine letters te converteren. Dit is handig om tekst te vergelijken zonder rekening te houden met hoofdlettergebruik."
   ]
  },
  {
   "cell_type": "code",
   "execution_count": null,
   "metadata": {
    "polyglot_notebook": {
     "kernelName": "csharp"
    }
   },
   "outputs": [],
   "source": [
    "string originalString = \"Hello, World!\";\n",
    "Console.WriteLine(originalString.ToUpper()); // Uitvoer: \"HELLO, WORLD!\"\n",
    "Console.WriteLine(originalString.ToLower()); // Uitvoer: \"hello, world!\"\n",
    "\n",
    "string tekst1 = \"Hello\";\n",
    "string tekst2 = \"HELLO\";\n",
    "\n",
    "if(tekst1.ToLower() == tekst2.ToLower())\n",
    "{\n",
    "    Console.WriteLine(\"Teksten zijn gelijk (case-insensitive)\");\n",
    "}"
   ]
  },
  {
   "cell_type": "markdown",
   "metadata": {},
   "source": [
    "##### Replace\n",
    "In C# biedt de Replace-methode een manier om alle exemplaren van een bepaalde substring in een string te vervangen door een andere substring."
   ]
  },
  {
   "cell_type": "code",
   "execution_count": null,
   "metadata": {
    "polyglot_notebook": {
     "kernelName": "csharp"
    }
   },
   "outputs": [],
   "source": [
    "string originalString = \"Hello, World!\";\n",
    "string replacedString = originalString.Replace(\"Hello\", \"Hi\");\n",
    "Console.WriteLine(replacedString); // Uitvoer: \"Hi, World!\""
   ]
  },
  {
   "cell_type": "markdown",
   "metadata": {},
   "source": [
    "##### Trim\n",
    "\n",
    "De trim-methode haalt alle witruimte (spaties, tabs, etc.) vooraan en achteraan in een string weg."
   ]
  },
  {
   "cell_type": "code",
   "execution_count": null,
   "metadata": {
    "polyglot_notebook": {
     "kernelName": "csharp"
    }
   },
   "outputs": [],
   "source": [
    "string originalString = \"   Hello, World!   \";\n",
    "string trimmedString = originalString.Trim();\n",
    "Console.WriteLine(\"'\" + trimmedString + \"'\"); // Uitvoer: \"'Hello, World!'\""
   ]
  },
  {
   "cell_type": "markdown",
   "metadata": {},
   "source": [
    "##### IndexOf / LastIndexOf\n",
    "\n",
    "De `IndexOf` en `LastIndexOf` methoden geven de positie van een substring in een string terug. Hiermee kan dus gezocht worden of een bepaalde substring voorkomt en waar. `IndexOf` geeft de positie van de eerste gevonden substring terug, en `LastIndexOf` geeft de laatste. Als de substring niet gevonden wordt, geven ze `-1` terug."
   ]
  },
  {
   "cell_type": "code",
   "execution_count": null,
   "metadata": {
    "polyglot_notebook": {
     "kernelName": "csharp"
    }
   },
   "outputs": [],
   "source": [
    "string text = \"Hello world and the rest of the universe\";\n",
    "Console.WriteLine(text.IndexOf(\" \"));\n",
    "Console.WriteLine(text.LastIndexOf(\" \"));\n",
    "\n",
    "Console.WriteLine(text.IndexOf(\" \", 10)); // Zoek vanaf positie 10"
   ]
  },
  {
   "cell_type": "markdown",
   "metadata": {},
   "source": [
    "##### []\n",
    "\n",
    "Met de `[]` operator is het mogelijk om een enkel karakter uit een string op te vragen op een bepaalde index (positie). Dit karakter wordt opgeslagen in een `char` datatype, dus niet in een `string`. Een `char` kan maar een enkel karakter opslaan."
   ]
  },
  {
   "cell_type": "code",
   "execution_count": null,
   "metadata": {
    "polyglot_notebook": {
     "kernelName": "csharp"
    }
   },
   "outputs": [],
   "source": [
    "string text = \"Avans\";\n",
    "for(int i = 0; i < text.Length; i++)\n",
    "{\n",
    "    Console.WriteLine(text[i]);\n",
    "}"
   ]
  },
  {
   "cell_type": "markdown",
   "metadata": {},
   "source": [
    "# Opdrachten\n",
    "\n",
    "Hieronder volgen een aantal opdrachten om de theorie in de praktijk te brengen.\n",
    "Let op: in sommige opdrachten zul je gebruik moeten maken van loops. Lees eventueel eerst de theorie over loops of kijk in de bovenstaande voorbeelden voor de syntax."
   ]
  },
  {
   "cell_type": "markdown",
   "metadata": {},
   "source": [
    "### Opdracht 1: Variabelen initialiseren\n",
    "A. Bedenk een goede variabelenaam voor de volgende zaken:\n",
    "- De totale kosten\n",
    "- De gemiddelde temperatuur\n",
    "- Het aantal uren waarin een recept bereid wordt.\n",
    "\n",
    "B. Initialiseer de drie verschillende variabelen met een passende variabelenaam en datatype. Schrijf deze waarden vervolgens naar de console."
   ]
  },
  {
   "cell_type": "code",
   "execution_count": null,
   "metadata": {
    "polyglot_notebook": {
     "kernelName": "csharp"
    }
   },
   "outputs": [],
   "source": []
  },
  {
   "cell_type": "markdown",
   "metadata": {},
   "source": [
    "### Opdracht 2: Variabelen aanpassen\n",
    "Gegeven is het volgende programma. Verander het programma zodat het de specificaties van een 'i7' processor print, door alleen de initiële waarden van de variabelen aan te passen."
   ]
  },
  {
   "cell_type": "code",
   "execution_count": null,
   "metadata": {
    "polyglot_notebook": {
     "kernelName": "csharp"
    }
   },
   "outputs": [],
   "source": [
    "string cpu = \"i9\";\n",
    "int cores = 24;\n",
    "double snelheid = 6.0;\n",
    "\n",
    "Console.WriteLine(\"CPU:\");\n",
    "Console.WriteLine(cpu);\n",
    "Console.WriteLine(\"Cores:\");\n",
    "Console.WriteLine(cores);\n",
    "Console.WriteLine(\"Snelheid:\");\n",
    "Console.WriteLine(snelheid);"
   ]
  },
  {
   "cell_type": "markdown",
   "metadata": {},
   "source": [
    "### Opdracht 3: Input van gebruiker\n",
    "Schrijf een programma dat je naam vraagt en deze vervolgens begroet. Gebruik `Console.WriteLine()` om de vraag te stellen en `Console.ReadLine()` om de invoer te lezen.\n",
    "Let op: de Console.ReadLine() werkt uitsluitend in een console applicatie en niet in een notebook. Wil je toch met een notebook werken, dan hebben we alvast een regel weggegeven. "
   ]
  },
  {
   "cell_type": "code",
   "execution_count": null,
   "metadata": {
    "polyglot_notebook": {
     "kernelName": "csharp"
    }
   },
   "outputs": [],
   "source": [
    "string naam = await Kernel.GetInputAsync(\"Wat is je naam?\");"
   ]
  },
  {
   "cell_type": "markdown",
   "metadata": {},
   "source": [
    "### Opdracht 4: Getallen optellen\n",
    "Schrijf een programma dat 2 getallen als input van de gebruiker vraagt, deze bij elkaar optelt en de som print. Denk eraan dat je de input van `Console.ReadLine()` (wat een `string` is) moet omzetten naar een getal."
   ]
  },
  {
   "cell_type": "code",
   "execution_count": null,
   "metadata": {
    "polyglot_notebook": {
     "kernelName": "csharp"
    }
   },
   "outputs": [],
   "source": []
  },
  {
   "cell_type": "markdown",
   "metadata": {},
   "source": [
    "### Opdracht 5: Even of oneven\n",
    "Maak een programma dat een getal van de gebruiker vraagt en aangeeft of het getal even of oneven is."
   ]
  },
  {
   "cell_type": "code",
   "execution_count": null,
   "metadata": {
    "polyglot_notebook": {
     "kernelName": "csharp"
    }
   },
   "outputs": [],
   "source": []
  },
  {
   "cell_type": "markdown",
   "metadata": {},
   "source": [
    "### Opdracht 6: Meerderjarig?\n",
    "Maak een programma dat vraagt naar iemands geboortejaar en vervolgens aangeeft of diegene 18 jaar of ouder is. Ga uit van het huidige jaar."
   ]
  },
  {
   "cell_type": "code",
   "execution_count": null,
   "metadata": {
    "polyglot_notebook": {
     "kernelName": "csharp"
    }
   },
   "outputs": [],
   "source": []
  },
  {
   "cell_type": "markdown",
   "metadata": {},
   "source": [
    "### Opdracht 7: Cirkelberekening\n",
    "Schrijf een programma dat de straal van een cirkel vraagt aan de gebruiker. Bereken vervolgens de omtrek (2 * pi * straal) en de oppervlakte (pi * straal * straal) en toon deze op het scherm. Gebruik de `Math.PI` constante voor de waarde van pi."
   ]
  },
  {
   "cell_type": "code",
   "execution_count": null,
   "metadata": {
    "polyglot_notebook": {
     "kernelName": "csharp"
    }
   },
   "outputs": [],
   "source": []
  },
  {
   "cell_type": "markdown",
   "metadata": {},
   "source": [
    "### Opdracht 8: Temperatuur omrekenen\n",
    "Maak een programma dat de temperatuur in graden Celsius vraagt en deze omrekent naar Fahrenheit. De formule is: `Fahrenheit = (Celsius * 9/5) + 32`. Toon het resultaat."
   ]
  },
  {
   "cell_type": "code",
   "execution_count": null,
   "metadata": {
    "polyglot_notebook": {
     "kernelName": "csharp"
    }
   },
   "outputs": [],
   "source": []
  },
  {
   "cell_type": "markdown",
   "metadata": {},
   "source": [
    "# Uitdagingen"
   ]
  },
  {
   "cell_type": "markdown",
   "metadata": {},
   "source": [
    "### Uitdaging 1: Overflow\n",
    "Wat gebeurt er als je in een `unsigned` variabele een overflow krijgt? Schrijf code die dit demonstreert met een `byte`."
   ]
  },
  {
   "cell_type": "code",
   "execution_count": null,
   "metadata": {
    "polyglot_notebook": {
     "kernelName": "csharp"
    }
   },
   "outputs": [],
   "source": []
  },
  {
   "cell_type": "markdown",
   "metadata": {},
   "source": [
    "### Uitdaging 2: Negatief in Unsigned\n",
    "Wat gebeurt er als je negatieve getallen in `unsigned` variabelen stopt? Schrijf code die dit demonstreert."
   ]
  },
  {
   "cell_type": "code",
   "execution_count": null,
   "metadata": {
    "polyglot_notebook": {
     "kernelName": "csharp"
    }
   },
   "outputs": [],
   "source": []
  },
  {
   "cell_type": "markdown",
   "metadata": {},
   "source": [
    "### Uitdaging 3: Lengte zonder spaties\n",
    "Maak een programma dat een zin van de gebruiker vraagt en de lengte van de zin teruggeeft, waarbij spaties niet worden meegerekend."
   ]
  },
  {
   "cell_type": "code",
   "execution_count": null,
   "metadata": {
    "polyglot_notebook": {
     "kernelName": "csharp"
    }
   },
   "outputs": [],
   "source": []
  },
  {
   "cell_type": "markdown",
   "metadata": {},
   "source": [
    "### Uitdaging 4: Woorden husselen\n",
    "Schrijf een programma dat een zin van de gebruiker vraagt en vervolgens de eerste en de laatste letter van ieder woord omdraait.\n",
    "\n",
    "\"Ik studeer bij Avans\" wordt dan bijvoorbeeld: \"kI rtudees jib svanA\"."
   ]
  },
  {
   "cell_type": "code",
   "execution_count": null,
   "metadata": {
    "polyglot_notebook": {
     "kernelName": "csharp"
    }
   },
   "outputs": [],
   "source": []
  },
  {
   "cell_type": "markdown",
   "metadata": {},
   "source": [
    "### Uitdaging 5: Wachtwoord validatie\n",
    "Schrijf een programma dat de gebruiker om een wachtwoord vraagt en controleert of het aan de volgende eisen voldoet:\n",
    "- Minimaal 8 karakters lang\n",
    "- Bevat minstens één hoofdletter\n",
    "- Bevat minstens één kleine letter\n",
    "- Bevat minstens één cijfer\n",
    "\n",
    "Geef de gebruiker feedback over welke regel(s) eventueel niet voldaan zijn.\n",
    "\n",
    "**Hint:** C# heeft handige ingebouwde functies zoals `char.IsUpper()`, `char.IsLower()` en `char.IsDigit()` die je kunt gebruiken in een `foreach`-loop om elk karakter te controleren."
   ]
  },
  {
   "cell_type": "code",
   "execution_count": null,
   "metadata": {
    "polyglot_notebook": {
     "kernelName": "csharp"
    }
   },
   "outputs": [],
   "source": []
  },
  {
   "cell_type": "markdown",
   "metadata": {},
   "source": [
    "### Uitdaging 6: Acroniem generator\n",
    "Schrijf een programma dat een volzin vraagt (bijvoorbeeld \"Away From Keyboard\") en hiervan een acroniem maakt door de eerste letter van elk woord te nemen (\"AFK\")."
   ]
  },
  {
   "cell_type": "code",
   "execution_count": null,
   "metadata": {
    "polyglot_notebook": {
     "kernelName": "csharp"
    }
   },
   "outputs": [],
   "source": []
  },
  {
   "cell_type": "markdown",
   "metadata": {},
   "source": [
    "### Uitdaging 7: BTW berekenen\n",
    "Maak een programma dat een bedrag exclusief BTW vraagt en een BTW-percentage (bijvoorbeeld 21). Bereken vervolgens het BTW-bedrag en het totaalbedrag inclusief BTW. Zorg voor een nette, afgeronde output (2 decimalen) voor de geldbedragen."
   ]
  },
  {
   "cell_type": "code",
   "execution_count": null,
   "metadata": {
    "polyglot_notebook": {
     "kernelName": "csharp"
    }
   },
   "outputs": [],
   "source": []
  },
  {
   "cell_type": "markdown",
   "metadata": {},
   "source": [
    "### Uitdaging 8: Caesar-cijfer\n",
    "Implementeer een simpel Caesar-cijfer. Vraag de gebruiker om een bericht en een 'verschuiving' (een getal). Verschuif elke letter in het bericht met het opgegeven aantal plaatsen in het alfabet. 'a' met verschuiving 3 wordt 'd'. Houd het simpel: werk alleen met kleine letters en laat spaties en andere tekens ongewijzigd.\n",
    "\n",
    "**Hint:** Je kunt rekenen met `char`-variabelen. De expressie `(char)('a' + 2)` geeft bijvoorbeeld het karakter `'c'`. Denk na hoe je de modulo-operator (`%`) kunt gebruiken om te zorgen dat je na de 'z' weer bij 'a' uitkomt."
   ]
  },
  {
   "cell_type": "code",
   "execution_count": null,
   "metadata": {
    "polyglot_notebook": {
     "kernelName": "csharp"
    }
   },
   "outputs": [],
   "source": []
  },
  {
   "cell_type": "markdown",
   "metadata": {},
   "source": [
    "### Uitdaging 9: Raad het getal\n",
    "Genereer een willekeurig getal tussen 1 en 100. Laat de gebruiker raden welk getal het is. Geef na elke gok aan of het antwoord hoger of lager moet zijn. Ga door tot de gebruiker het juiste getal raadt en feliciteer hem dan. Tip: `int geheimGetal = new Random().Next(1, 101);`"
   ]
  },
  {
   "cell_type": "code",
   "execution_count": null,
   "metadata": {
    "polyglot_notebook": {
     "kernelName": "csharp"
    }
   },
   "outputs": [],
   "source": []
  }
 ],
 "metadata": {
  "kernelspec": {
   "display_name": ".NET (C#)",
   "language": "C#",
   "name": ".net-csharp"
  },
  "language_info": {
   "name": "polyglot-notebook"
  },
  "polyglot_notebook": {
   "kernelInfo": {
    "defaultKernelName": "csharp",
    "items": [
     {
      "aliases": [],
      "name": "csharp"
     }
    ]
   }
  }
 },
 "nbformat": 4,
 "nbformat_minor": 2
}
