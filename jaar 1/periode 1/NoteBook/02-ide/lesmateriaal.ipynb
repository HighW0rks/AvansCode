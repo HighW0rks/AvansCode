{
 "cells": [
  {
   "cell_type": "markdown",
   "metadata": {},
   "source": [
    "# Integrated Development Environment (IDE)\n",
    "\n",
    "Om code te kunnen schrijven, gebruiken we een **IDE**, een *Integrated Development Environment*. Een IDE is in de basis een teksteditor met allerlei functionaliteiten die het programmeren gemakkelijker maken. Zo bieden IDE’s vaak ondersteuning voor:\n",
    "\n",
    "- **Organiseren van bestanden in een project**  \n",
    "  Een IDE geeft overzicht van verschillende soorten bestanden die nodig zijn voor een project. Denk aan bestanden met daadwerkelijke broncode (functionele code), maar ook aan bestanden waarin afhankelijkheden of interfaces gedefinieerd zijn.\n",
    "\n",
    "- **Syntax highlighting**  \n",
    "  Hierdoor kun je eenvoudig herkennen wat sleutelwoorden zijn binnen een programmeertaal, wat het lezen en schrijven van code overzichtelijker maakt.\n",
    "\n",
    "- **Code completion**  \n",
    "  Op basis van bekende methodes, variabelen, klassen, enzovoort, biedt de IDE tijdens het typen suggesties aan om je code sneller en correcter te schrijven.\n",
    "\n",
    "- **Code-analyse**  \n",
    "  De IDE helpt je bij het identificeren van mogelijke fouten of bugs in je code, nog vóór je deze uitvoert.\n",
    "\n",
    "- **Project compileren en uitvoeren**  \n",
    "  Voordat code door een computer uitgevoerd kan worden, moet deze eerst worden vertaald naar begrijpelijke instructies (bijvoorbeeld via compilatie).  \n",
    "  Hoewel je dit handmatig kunt doen, nemen IDE’s dit proces vaak van je over. Ze voeren automatisch de juiste stappen in de juiste volgorde uit. Zo kun jij je concentreren op het schrijven van de code. 😉\n",
    "\n",
    "- **Debugging**  \n",
    "  Debuggen is een manier om je programma stap voor stap uit te voeren in een speciale omgeving.  \n",
    "  Hierbij kun je bijvoorbeeld:\n",
    "  - toegang krijgen tot variabelen tijdens runtime;\n",
    "  - het programma pauzeren;\n",
    "  - stap voor stap door de code gaan om fouten op te sporen.\n",
    "\n",
    "## Programmeren in C#\n",
    "Om C# te kunnen programmen in Visual Studio Code, dien je een Software Development Kit (SDK) te installeren. Een SDK bevat alle benodigde tools om je code om te zetten naar iets dat de computer kan uitvoeren. Voor andere programmeertalen heb je dus andere SDK's nodig. In jaar 1 programmeer je hoofdzakelijk in C# en heb je de volgende onderdelen nodig\n",
    "\n",
    "- **.NET SDK**  \n",
    "  Deze kun je downloaden vanaf de officiële [dotNET-website](https://dotnet.microsoft.com/en-us/download/dotnet).  \n",
    "  Kies de juiste versie voor jouw besturingssysteem en installeer deze.\n",
    "\n",
    "> ℹ️ Na installatie is het soms nodig om Visual Studio Code opnieuw op te starten.\n",
    "\n",
    "\n",
    "Naast de SDK zijn er ook extensies in VS Code nodig voor ondersteuning van C#.  Deze extensies helpen je bij het schrijven van goed leesbare en onderhoudbare code, bijvoorbeeld door automatische opmaak (formatting) en integratie met de SDK.\n",
    "\n",
    "De benodigde extensies zijn:\n",
    "\n",
    "- **C#** *(Identifier: ms-dotnettools.csharp)*\n",
    "- **C# Dev Kit** *(Identifier: ms-dotnettools.csdevkit)*\n",
    "\n",
    "Weet je nog hoe je extensies installeert?  \n",
    "Zo niet, bekijk dan de uitleg over het installeren van Visual Studio Code op Brightspace of [op de website van Visual Studio Code](https://code.visualstudio.com/docs/getstarted/extensions)\n",
    "\n",
    "---"
   ]
  },
  {
   "cell_type": "markdown",
   "metadata": {},
   "source": [
    "# Opdracht 1 - Je eerste applicatie maken in Visual Studio Code\n"
   ]
  },
  {
   "cell_type": "markdown",
   "metadata": {},
   "source": [
    "\n",
    "In deze opdracht schrijf je in C# een Console-applicatie. Een Console-applicatie is een programma zonder grafische interface. Dit soort applicaties wordt meestal uitgevoerd via een Command Line Interface (CLI).\n",
    "\n",
    "Om een C# Console-applicatie op te zetten, zijn er twee mogelijkheden:\n",
    "\n",
    "- Via Visual Studio Code (met grafische interface)  \n",
    "- Via de command line (CLI)\n",
    "\n",
    "### Project maken via Visual Studio Code\n",
    "\n",
    "Volg deze stappen om een nieuw project aan te maken:\n",
    "\n",
    "1. Druk op `Ctrl+Shift+P` en kies **.NET: New Project...**  \n",
    "2. Selecteer **Console App** als projecttype  \n",
    "3. Kies een map waarin je het project wilt opslaan  \n",
    "4. Geef het project een naam, bijvoorbeeld `HelloWorld`  \n",
    "5. Klik op **Create project**\n",
    "\n",
    "\n",
    "\n",
    "### Project maken via de command line (snellere manier)\n",
    "\n",
    "1. Open een Command Prompt (`Win + R`, typ `cmd`, druk op Enter) of open een terminal in VS Code met `Ctrl + `\n",
    "\n",
    "2. Navigeer naar de gewenste locatie, bijvoorbeeld:\n",
    "   ```bash\n",
    "   cd C:\\Users\\%USERNAME%\n",
    "   mkdir projects\n",
    "   cd projects\n",
    "   ```\n",
    "3. Maak een nieuw consoleproject aan met het volgende commando:\n",
    "\n",
    "   ```bash\n",
    "   dotnet new console -n HelloWorld\n",
    "   Open het project in een nieuw VS Code venster:\n",
    "   ```\n",
    "4. Open de map van het project en open deze in Visual Studio Code\n",
    "   ```bash\n",
    "   cd HelloWorld\n",
    "   code .\n",
    "   ```\n",
    "\n",
    "Als het goed gaat, zie je dit in de \"Explorer\" van VS Code:\n",
    "\n",
    "![HelloWorldOverview](images/VSC-Project-HelloWorldOverview.png \"HelloWorldOverview\")\n",
    "\n",
    "---"
   ]
  },
  {
   "cell_type": "markdown",
   "metadata": {},
   "source": [
    "## Projectbestanden\n",
    "\n",
    "Zoals je ziet is **HelloWorld** de hoofdmap van het project.\n",
    "\n",
    "- **Program.cs**  \n",
    "  Dit is het startpunt van de applicatie. Het bevat de `Main`-methode, die als eerste wordt uitgevoerd wanneer het programma start.\n",
    "\n",
    "- **HelloWorld.csproj**  \n",
    "  Dit is het projectbestand met informatie over onder andere:  \n",
    "  * De gebruikte .NET-versie  \n",
    "  * Afhankelijkheden (ook wel *dependencies* genoemd)\n",
    "\n",
    "- **CSharp.sln** (of **HelloWorld.sln**)  \n",
    "  Dit is een *solution*-bestand (.sln) waarmee je meerdere projecten aan elkaar kunt koppelen.  \n",
    "  Voor nu maken we hier nog geen gebruik van, dus je kunt dit bestand negeren.\n",
    "---"
   ]
  },
  {
   "cell_type": "markdown",
   "metadata": {},
   "source": [
    "## Het project bouwen en uitvoeren\n",
    "\n",
    "Voordat de code wordt uitgevoerd, zal Visual Studio Code (meer specifiek de C# Extension) het project eerst **bouwen** tot een uitvoerbaar bestand. Bevat je code syntaxfouten? Dan zal het bouwen mislukken en krijg je foutmeldingen te zien. Pas wanneer het bouwen **zonder fouten** is geslaagd, wordt er een *executable* aangemaakt.\n",
    "\n",
    "Deze executable vind je terug in de `bin`-map van het project, meestal onder de naam `HelloWorld.exe`.\n",
    "\n",
    "Goed om te weten: wanneer je het project uitvoert vanuit Visual Studio Code, hoef je dit bestand **niet handmatig** op te zoeken. Visual Studui Code voert het programma direct uit en maakt het daarnaast ook mogelijk om je code te **debuggen**. \n",
    "\n",
    "---\n"
   ]
  },
  {
   "cell_type": "markdown",
   "metadata": {},
   "source": [
    "\n",
    "Schrijf de \"HelloWorld\" applicatie, open een terminal in VS Code en voer de \"Debug\"-versie \"HelloWorld.exe\" uit.\n"
   ]
  },
  {
   "cell_type": "markdown",
   "metadata": {},
   "source": [
    "**Help! Het bouwen lukt niet**\n",
    "\n",
    "Als het bouwen niet lukt, controleer dan eerst of je code geen fouten bevat. Foutmeldingen vind je in het tabblad **Problems** onderin het scherm, of in de terminal. \n",
    "\n",
    "Krijg je een foutmelding van Visual Studio Code zoals: `No C# project is currently loaded`\n",
    "\n",
    "Dan betekent dit dat VS Code niet weet welk project je wilt bouwen. Als je een bovenliggende map hebt geopend, begrijpt VS Code niet welk project je wilt bouwen. Vaak duidt dit erop dat je niet de juiste map hebt geopend in Visual Studio Code. Het is belangrijk dat je de map opent waarin het `.csproj`-bestand staat. "
   ]
  }
 ],
 "metadata": {
  "kernelspec": {
   "display_name": ".NET (C#)",
   "language": "C#",
   "name": ".net-csharp"
  },
  "language_info": {
   "name": "polyglot-notebook"
  },
  "polyglot_notebook": {
   "kernelInfo": {
    "defaultKernelName": "csharp",
    "items": [
     {
      "aliases": [],
      "languageName": "csharp",
      "name": "csharp"
     }
    ]
   }
  }
 },
 "nbformat": 4,
 "nbformat_minor": 2
}
