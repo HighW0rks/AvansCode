{
 "cells": [
  {
   "cell_type": "markdown",
   "metadata": {},
   "source": [
    "# Herhalingsstructuren (Lussen)\n",
    "\n",
    "Lussen zijn een fundamenteel concept in het programmeren. Ze stellen ons in staat om een blok code herhaaldelijk uit te voeren, wat essentieel is voor het automatiseren van taken en het verwerken van grote hoeveelheden data."
   ]
  },
  {
   "cell_type": "markdown",
   "metadata": {},
   "source": [
    "## Het concept herhaling\n",
    "\n",
    "Als je een stap in een algoritme meerdere keren wilt uitvoeren, zou je de code simpelweg kunnen kopiëren en plakken. Stel je voor dat je het gemiddelde van vijf getallen wilt berekenen. Zonder een lus zou je code er al snel repetitief uitzien, zoals in de onderstaande flowchart.\n",
    "\n",
    "```mermaid\n",
    "flowchart TB\n",
    "    Start([START]) --> A[som = 0] --> B[aantal = 0] --> Q[/\"Voer vijf getallen in: a, b, c, d, e\"/]\n",
    "    Q --> Iter1{a >= 0}\n",
    "    Iter1 -- False --> Iter2\n",
    "    Iter1 -- True --> Iter1A[som = som + a] --> Iter1B[aantal = aantal + 1] --> Iter2\n",
    "    Iter2{b >= 0}\n",
    "    Iter2 -- False --> Iter3\n",
    "    Iter2 -- True --> Iter2A[som = som + b] --> Iter2B[aantal = aantal + 1] --> Iter3\n",
    "    Iter3 --\"enzovoort...\"--> End([END])\n",
    "```"
   ]
  },
  {
   "cell_type": "markdown",
   "metadata": {},
   "source": [
    "Dit is onpraktisch en niet schaalbaar. Wat als je 500 getallen moet verwerken? Een **lus** (Engels: *loop*) biedt een elegantere oplossing. Hiermee schrijf je de logica die herhaald moet worden slechts één keer. Het aantal herhalingen, ook wel **iteraties** genoemd, kan zelfs dynamisch bepaald worden tijdens de uitvoering van het programma. Algoritmes die op deze manier werken, noemen we **iteratieve algoritmes**.\n",
    "\n",
    "Met een lus ziet het vorige voorbeeld er veel compacter uit:\n",
    "\n",
    "```mermaid\n",
    "flowchart TB\n",
    "    Start([START]) --> A[som = 0] --> B[aantal = 0] --> C[resterende_getallen = 5]\n",
    "    C --> LoopCond{resterende_getallen > 0}\n",
    "    LoopCond -- True --> Q[/\"WRITE Voer een getal in:\"/] --> Read[/\"READ getal\"/]\n",
    "    Read --> Cond{getal >= 0}\n",
    "    Cond -- True --> Iter1[som = som + getal] --> Iter2[aantal = aantal + 1] --> Decr\n",
    "    Cond -- False --> Decr\n",
    "    Decr[resterende_getallen = resterende_getallen - 1] --> LoopCond\n",
    "    LoopCond -- False --> Avg[/\"WRITE Gemiddelde is: som / aantal\"/] --> End([END])\n",
    "```"
   ]
  },
  {
   "cell_type": "markdown",
   "metadata": {},
   "source": [
    "\n",
    "### De eindconditie: cruciaal\n",
    "\n",
    "Elke lus herhaalt zijn stappen totdat er aan een **eindconditie** is voldaan. Dit is een logische expressie die `true` of `false` oplevert. Het is essentieel dat deze conditie uiteindelijk verandert, zodat de lus stopt. Gebeurt dit niet, dan ontstaat er een **oneindige lus** (infinite loop), waardoor je programma vastloopt.\n",
    "\n",
    "> **Belangrijke regel:** Ga bij elke lus die je ontwerpt na of de eindconditie gegarandeerd bereikt wordt. Zorg ervoor dat er binnen de lus iets gebeurt dat de conditie beïnvloedt (bijv. een teller verhogen of een variabele aanpassen)."
   ]
  },
  {
   "cell_type": "markdown",
   "metadata": {},
   "source": [
    "### Kennisclips over lussen\n",
    "\n",
    "<iframe id=\"kaltura_player\" type=\"text/javascript\"  src='https://api.de.kaltura.com/p/10066/embedPlaykitJs/uiconf_id/23452529?iframeembed=true&entry_id=0_c1hjp2r7&config[provider]={\"widgetId\":\"0_j4s8d56k\"}'  style=\"width: 608px;height: 402px;border: 0;\" allowfullscreen webkitallowfullscreen mozAllowFullScreen allow=\"autoplay *; fullscreen *; encrypted-media *\" sandbox=\"allow-forms allow-same-origin allow-scripts allow-top-navigation allow-pointer-lock allow-popups allow-modals allow-orientation-lock allow-popups-to-escape-sandbox allow-presentation allow-top-navigation-by-user-activation\" title=\"Kaltura Player\"></iframe>\n",
    "\n",
    "<iframe id=\"kaltura_player\" type=\"text/javascript\"  src='https://api.de.kaltura.com/p/10066/embedPlaykitJs/uiconf_id/23452529?iframeembed=true&entry_id=0_wlj1fgvt&config[provider]={\"widgetId\":\"0_qg8oz0rl\"}'  style=\"width: 608px;height: 402px;border: 0;\" allowfullscreen webkitallowfullscreen mozAllowFullScreen allow=\"autoplay *; fullscreen *; encrypted-media *\" sandbox=\"allow-forms allow-same-origin allow-scripts allow-top-navigation allow-pointer-lock allow-popups allow-modals allow-orientation-lock allow-popups-to-escape-sandbox allow-presentation allow-top-navigation-by-user-activation\" title=\"Kaltura Player\"></iframe>"
   ]
  },
  {
   "cell_type": "markdown",
   "metadata": {},
   "source": [
    "## Soorten lussen in C#\n",
    "\n",
    "C# biedt verschillende soorten lussen, elk met een specifiek doel. De belangrijkste zijn `while`, `do-while`, `for` en `foreach`.\n",
    "\n",
    "### De `for`-lus\n",
    "\n",
    "De `for`-lus is de meest geschikte keuze wanneer je **vooraf precies weet hoe vaak** je een blok code wilt herhalen. Denk aan het 100 keer printen van een getal of het doorlopen van de eerste 50 elementen van een lijst.\n",
    "\n",
    "**Syntax:**\n",
    "```csharp\n",
    "for (initialisatie; conditie; iteratie)\n",
    "{\n",
    "    // Code die herhaald wordt\n",
    "}\n",
    "```\n",
    "- **Initialisatie**: Wordt één keer uitgevoerd, *voordat* de lus start. Meestal declareer je hier een teller (bijv. `int i = 0`).\n",
    "- **Conditie**: Een boolean-expressie die *voor elke* iteratie wordt gecontroleerd. Zolang deze `true` is, wordt de lus uitgevoerd.\n",
    "- **Iteratie**: Wordt uitgevoerd *na elke* iteratie. Meestal wordt de teller hier verhoogd (`i++`) of verlaagd (`i--`).\n"
   ]
  },
  {
   "cell_type": "code",
   "execution_count": null,
   "metadata": {
    "polyglot_notebook": {
     "kernelName": "csharp"
    }
   },
   "outputs": [],
   "source": [
    "// Deze lus print de getallen 0 tot en met 9 (10 iteraties).\n",
    "for (int i = 0; i < 10; i++)\n",
    "{\n",
    "    Console.WriteLine(i);\n",
    "}"
   ]
  },
  {
   "cell_type": "markdown",
   "metadata": {},
   "source": [
    "### De `foreach`-lus\n",
    "\n",
    "De `foreach`-lus is speciaal ontworpen om **door elk element van een collectie** (zoals een `List` of een `array`) te itereren. Het is de meest leesbare en minst foutgevoelige manier om dit te doen, omdat je je geen zorgen hoeft te maken over tellers of indexen.\n",
    "\n",
    "**Syntax:**\n",
    "```csharp\n",
    "foreach (var element in mijnCollectie) \n",
    "{\n",
    "  // Doe iets met 'element'\n",
    "}\n",
    "```\n",
    "- In elke iteratie vertegenwoordigt de variabele `element` het volgende item uit `mijnCollectie`.\n",
    "- **Belangrijk:** De iteratievariabele (`element`) is *read-only*. Je kunt de waarde ervan binnen de lus niet aanpassen. Dit is een veiligheidsmechanisme."
   ]
  },
  {
   "cell_type": "code",
   "execution_count": null,
   "metadata": {
    "polyglot_notebook": {
     "kernelName": "csharp"
    }
   },
   "outputs": [],
   "source": [
    "List<string> namen = [\"Anna\", \"Ben\", \"Clara\"];\n",
    "\n",
    "foreach (string naam in namen)\n",
    "{\n",
    "    Console.WriteLine(\"Hallo, \" + naam);\n",
    "}"
   ]
  },
  {
   "cell_type": "markdown",
   "metadata": {},
   "source": [
    "### Andere lussen: `while` en `do-while`\n",
    "Naast `for` en `foreach` zijn er nog twee lussen die je zult tegenkomen:\n",
    "\n",
    "- **`while`-lus**: Controleert de conditie *voordat* de lus begint. Als de conditie meteen `false` is, wordt de lus nooit uitgevoerd. Dit is ideaal als het aantal iteraties onbekend is, bijvoorbeeld wachten op correcte gebruikersinvoer.\n",
    "    ```csharp\n",
    "    while (conditie) { /* ... */ }\n",
    "    ```\n",
    "- **`do-while`-lus**: Voert de code *minstens één keer* uit en controleert de conditie *daarna*. Dit is nuttig als de actie altijd minimaal één keer moet gebeuren, zoals het tonen van een menu.\n",
    "    ```csharp\n",
    "    do { /* ... */ } while (conditie);\n",
    "    ```"
   ]
  },
  {
   "cell_type": "markdown",
   "metadata": {},
   "source": [
    "# Vragen"
   ]
  },
  {
   "cell_type": "markdown",
   "metadata": {},
   "source": [
    "### Vraag 1: De tafel van 7\n",
    "Schrijf een programma dat met een `for`-lus de tafel van 7 print, van `1 x 7` tot en met `10 x 7`."
   ]
  },
  {
   "cell_type": "code",
   "execution_count": null,
   "metadata": {
    "polyglot_notebook": {
     "kernelName": "csharp"
    }
   },
   "outputs": [],
   "source": []
  },
  {
   "cell_type": "markdown",
   "metadata": {},
   "source": [
    "### Vraag 2: Gemiddelde cijfer\n",
    "Gegeven is een `List<double>` met cijfers. Gebruik een `foreach`-lus om de som van alle cijfers te berekenen en daarna het gemiddelde te printen."
   ]
  },
  {
   "cell_type": "code",
   "execution_count": null,
   "metadata": {
    "polyglot_notebook": {
     "kernelName": "csharp"
    }
   },
   "outputs": [],
   "source": []
  },
  {
   "cell_type": "markdown",
   "metadata": {},
   "source": [
    "### Vraag 3: Wachtwoord validatie\n",
    "Gebruik een `do-while`-lus om een gebruiker net zo lang om een wachtwoord te vragen totdat de invoer minimaal 8 karakters lang is."
   ]
  },
  {
   "cell_type": "code",
   "execution_count": null,
   "metadata": {
    "polyglot_notebook": {
     "kernelName": "csharp"
    }
   },
   "outputs": [],
   "source": []
  },
  {
   "cell_type": "markdown",
   "metadata": {},
   "source": [
    "### Vraag 4: Aftellen voor lancering\n",
    "Schrijf een programma dat met een `for`-lus aftelt van 10 naar 1 en daarna \"Lancering!\" print."
   ]
  },
  {
   "cell_type": "code",
   "execution_count": null,
   "metadata": {
    "polyglot_notebook": {
     "kernelName": "csharp"
    }
   },
   "outputs": [],
   "source": []
  },
  {
   "cell_type": "markdown",
   "metadata": {},
   "source": [
    "### Vraag 5: Alle hoofdletters printen\n",
    "Vraag de gebruiker om een zin. Gebruik een `foreach`-lus om door de karakters van de zin te itereren en print alleen de karakters die een hoofdletter zijn."
   ]
  },
  {
   "cell_type": "code",
   "execution_count": null,
   "metadata": {
    "polyglot_notebook": {
     "kernelName": "csharp"
    }
   },
   "outputs": [],
   "source": []
  },
  {
   "cell_type": "markdown",
   "metadata": {},
   "source": [
    "### Vraag 6: Som van kwadraten\n",
    "Bereken de som van de kwadraten van de eerste 20 getallen (1² + 2² + 3² + ... + 20²). Gebruik een `for`-lus."
   ]
  },
  {
   "cell_type": "code",
   "execution_count": null,
   "metadata": {
    "polyglot_notebook": {
     "kernelName": "csharp"
    }
   },
   "outputs": [],
   "source": []
  },
  {
   "cell_type": "markdown",
   "metadata": {},
   "source": [
    "### Vraag 7: De langste naam\n",
    "Gegeven is een `List<string>` met namen. Gebruik een `foreach`-lus om de langste naam in de lijst te vinden en te printen."
   ]
  },
  {
   "cell_type": "code",
   "execution_count": null,
   "metadata": {
    "polyglot_notebook": {
     "kernelName": "csharp"
    }
   },
   "outputs": [],
   "source": []
  },
  {
   "cell_type": "markdown",
   "metadata": {},
   "source": [
    "### Vraag 8: Wachten op het juiste woord\n",
    "Gebruik een `while`-lus om de gebruiker te blijven vragen om een woord in te voeren, totdat deze het geheime woord \"exit\" typt."
   ]
  },
  {
   "cell_type": "code",
   "execution_count": null,
   "metadata": {
    "polyglot_notebook": {
     "kernelName": "csharp"
    }
   },
   "outputs": [],
   "source": []
  },
  {
   "cell_type": "markdown",
   "metadata": {},
   "source": [
    "# Uitdagingen"
   ]
  },
  {
   "cell_type": "markdown",
   "metadata": {},
   "source": [
    "### Uitdaging 1: Teken een driehoek\n",
    "Gebruik geneste `for`-lussen om een driehoek van sterretjes te printen. Vraag de gebruiker hoe hoog de driehoek moet zijn.\n",
    "Voorbeeld voor hoogte 5:\n",
    "```\n",
    "*\n",
    "**\n",
    "***\n",
    "****\n",
    "*****\n",
    "```\n",
    "Let op: incl. haakjes { } op aparte regels in max. 5 regels code."
   ]
  },
  {
   "cell_type": "code",
   "execution_count": null,
   "metadata": {
    "polyglot_notebook": {
     "kernelName": "csharp"
    }
   },
   "outputs": [],
   "source": []
  },
  {
   "cell_type": "markdown",
   "metadata": {},
   "source": [
    "### Uitdaging 2: Tekst omkeren\n",
    "Vraag de gebruiker om een tekst. Gebruik een `for`-lus die van achteren naar voren door de string loopt om de tekst omgekeerd te printen."
   ]
  },
  {
   "cell_type": "code",
   "execution_count": null,
   "metadata": {
    "polyglot_notebook": {
     "kernelName": "csharp"
    }
   },
   "outputs": [],
   "source": []
  },
  {
   "cell_type": "markdown",
   "metadata": {},
   "source": [
    "### Uitdaging 3: Priemgetal-checker\n",
    "Vraag een getal aan de gebruiker en bepaal of het een priemgetal is. Een priemgetal is alleen deelbaar door 1 en zichzelf. Gebruik een `for`-lus die van 2 tot de wortel van het getal loopt om te controleren op delers."
   ]
  },
  {
   "cell_type": "code",
   "execution_count": null,
   "metadata": {
    "polyglot_notebook": {
     "kernelName": "csharp"
    }
   },
   "outputs": [],
   "source": []
  },
  {
   "cell_type": "markdown",
   "metadata": {},
   "source": [
    "### Uitdaging 4: Vermenigvuldigingstabel\n",
    "Gebruik geneste `for`-lussen om een nette vermenigvuldigingstabel van 1 tot en met 10 te printen. Zorg voor een goede uitlijning van de getallen."
   ]
  },
  {
   "cell_type": "code",
   "execution_count": null,
   "metadata": {
    "polyglot_notebook": {
     "kernelName": "csharp"
    }
   },
   "outputs": [],
   "source": []
  },
  {
   "cell_type": "markdown",
   "metadata": {},
   "source": [
    "### Uitdaging 5: Som van een getal met recursie\n",
    "Schrijf een *recursieve* functie die de som van alle getallen van 1 tot `n` berekent (bijvoorbeeld, `Som(5)` is `5 + 4 + 3 + 2 + 1 = 15`). Een recursieve functie roept zichzelf aan met een kleiner probleem totdat het een basisgeval bereikt."
   ]
  },
  {
   "cell_type": "code",
   "execution_count": null,
   "metadata": {
    "polyglot_notebook": {
     "kernelName": "csharp"
    }
   },
   "outputs": [],
   "source": []
  }
 ],
 "metadata": {
  "kernelspec": {
   "display_name": ".NET (C#)",
   "language": "C#",
   "name": ".net-csharp"
  },
  "language_info": {
   "name": "polyglot-notebook"
  },
  "polyglot_notebook": {
   "kernelInfo": {
    "defaultKernelName": "csharp",
    "items": [
     {
      "aliases": [],
      "name": "csharp"
     }
    ]
   }
  }
 },
 "nbformat": 4,
 "nbformat_minor": 2
}
