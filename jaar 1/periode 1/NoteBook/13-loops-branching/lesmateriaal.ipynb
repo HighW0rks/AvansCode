{
 "cells": [
  {
   "cell_type": "markdown",
   "metadata": {},
   "source": [
    "# Geneste lussen en branching\n",
    "\n",
    "We hebben de basis van conditionele statements (`if`, `else`) en herhalingsstructuren (`for`, `while`) behandeld. In de praktijk worden deze concepten zelden geïsoleerd gebruikt. De kracht van programmeren komt pas echt tot uiting wanneer we ze combineren. \n",
    "\n",
    "In dit notebook gaan we dieper in op twee belangrijke technieken: het **nesten** van lussen (een lus binnen een andere lus) en het gebruik van **branching** (`if`-statements) binnen deze lussen. Hiermee kunnen we complexe problemen oplossen, zoals het doorlopen van een 2D-grid of het filteren van data tijdens een iteratie."
   ]
  },
  {
   "cell_type": "markdown",
   "metadata": {},
   "source": [
    "## Combinatie van herhaling en branching\n",
    "\n",
    "De twee belangrijkste ingrediënten die we tot nu toe hebben geleerd zijn:\n",
    "\n",
    "- **Conditionele uitvoering (Branching)**: Het algoritme voert een stuk code wel of niet uit op basis van een conditie die `true` of `false` is. Dit doen we met `if`, `else if` en `else`.\n",
    "- **Iteratieve uitvoering (Lussen)**: Het algoritme herhaalt een blok code zolang een bepaalde conditie `true` is. Dit doen we met `for`, `while` en `foreach`.\n",
    "\n",
    "Praktisch bruikbare algoritmen maken voortdurend gebruik van combinaties van deze twee. Een veelvoorkomend patroon is een `if`-statement *binnen* een lus. Hiermee kun je tijdens het herhalen van een actie een beslissing nemen voor elk individueel item.\n",
    "\n",
    "**Voorbeeld:** Stel, je wilt de som van alleen de positieve getallen in een lijst berekenen. Dan itereer je over de hele lijst (herhaling) en controleer je per getal of het positief is (branching)."
   ]
  },
  {
   "cell_type": "code",
   "execution_count": null,
   "metadata": {
    "polyglot_notebook": {
     "kernelName": "csharp"
    }
   },
   "outputs": [],
   "source": [
    "List<int> getallen = [10, -5, 8, -3, 12 ];\n",
    "int somVanPositieveGetallen = 0;\n",
    "\n",
    "foreach (int getal in getallen)\n",
    "{\n",
    "    // Branching binnen de lus\n",
    "    if (getal > 0)\n",
    "    {\n",
    "        somVanPositieveGetallen += getal;\n",
    "    }\n",
    "}\n",
    "\n",
    "Console.WriteLine(\"De som is: \" + somVanPositieveGetallen); // Output: 30"
   ]
  },
  {
   "cell_type": "markdown",
   "metadata": {},
   "source": [
    "## 2. Geneste lussen (Nesting)\n",
    "\n",
    "**Nesting** betekent dat je een constructie binnen een andere, vergelijkbare constructie plaatst. We kunnen dus een `for`-lus binnen een andere `for`-lus plaatsen. Dit is een fundamentele techniek om over data met meerdere dimensies te itereren, zoals een grid (denk aan een schaakbord of een Excel-sheet met rijen en kolommen) of een multidimensionale array.\n",
    "\n",
    "De buitenste lus itereert over de eerste dimensie (bijvoorbeeld de rijen), en voor *elke* iteratie van de buitenste lus, wordt de binnenste lus *volledig* uitgevoerd over de tweede dimensie (de kolommen).\n",
    "\n",
    "### Kennisclip\n",
    "\n",
    "In deze kennisclip vind je een uitleg van geneste lussen en een voorbeeld (vertrektijden bij een bushalte berekenen) aan de hand van flowcharts.\n",
    "\n",
    "<iframe id=\"kaltura_player\" type=\"text/javascript\"  src='https://api.de.kaltura.com/p/10066/embedPlaykitJs/uiconf_id/23452529?iframeembed=true&entry_id=0_km07mu8i&config[provider]={\"widgetId\":\"0_j73kdhjz\"}'  style=\"width: 608px;height: 402px;border: 0;\" allowfullscreen webkitallowfullscreen mozAllowFullScreen allow=\"autoplay *; fullscreen *; encrypted-media *\" sandbox=\"allow-forms allow-same-origin allow-scripts allow-top-navigation allow-pointer-lock allow-popups allow-modals allow-orientation-lock allow-popups-to-escape-sandbox allow-presentation allow-top-navigation-by-user-activation\" title=\"Kaltura Player\"></iframe>\n",
    "\n",
    "### C# Voorbeeld: Multidimensionale Array\n",
    "\n",
    "Stel dat metingen van gas, water en elektra per uur worden opgeslagen in een 2D-array. De buitenste dimensie representeert de uren, en de binnenste dimensie de metingen per type."
   ]
  },
  {
   "cell_type": "code",
   "execution_count": null,
   "metadata": {
    "polyglot_notebook": {
     "kernelName": "csharp"
    }
   },
   "outputs": [],
   "source": [
    "// Een 2D-array: 7 rijen (uren), 3 kolommen (elektra, gas, water)\n",
    "int[,] usage = new int[,] { { 10, 1, 3 }, { 1, 4, 5 }, { 10, 1, 3 }, { 2, 8, 3 }, { 1, 1, 0 }, { 1, 1, 9 }, { 10, 18, 3 } };\n",
    "\n",
    "// Buitenste lus: itereert over de uren (rijen)\n",
    "for (int i = 0; i < usage.GetLength(0); i++)\n",
    "{\n",
    "    // Binnenste lus: itereert over de types (kolommen) voor het huidige uur\n",
    "    for (int j = 0; j < usage.GetLength(1); j++)\n",
    "    {\n",
    "        Console.WriteLine($\"Uur {i + 1}, Type {j}: meting is {usage[i, j]}\");\n",
    "    }\n",
    "}"
   ]
  },
  {
   "cell_type": "markdown",
   "metadata": {},
   "source": [
    "### Onderhoudbaarheid en leesbaarheid\n",
    "\n",
    "Hoewel krachtig, kunnen diep geneste lussen (3, 4 of meer niveaus) de code snel complex en moeilijk leesbaar maken. Het debuggen wordt ook lastiger, omdat het aantal stappen exponentieel toeneemt.\n",
    "\n",
    "Een goede programmeerpraktijk is om de logica van een binnenste lus te verplaatsen naar een aparte, goed benoemde **methode**. De buitenste lus roept dan simpelweg deze methode aan. Dit verbetert de leesbaarheid en maakt de code beter onderhoudbaar.\n",
    "\n",
    "**Voorbeeld (verbeterd):**"
   ]
  },
  {
   "cell_type": "code",
   "execution_count": null,
   "metadata": {
    "polyglot_notebook": {
     "kernelName": "csharp"
    }
   },
   "outputs": [],
   "source": [
    "void PrintUsagePerHour(int[,] allUsage, int hourIndex)\n",
    "{\n",
    "    Console.WriteLine($\"--- Uur {hourIndex + 1} ---\");\n",
    "    for (int typeIndex = 0; typeIndex < allUsage.GetLength(1); typeIndex++)\n",
    "    {\n",
    "        string typeNaam = typeIndex switch\n",
    "        {\n",
    "            0 => \"Elektra\",\n",
    "            1 => \"Gas\",\n",
    "            2 => \"Water\",\n",
    "            _ => \"Onbekend\"\n",
    "        };\n",
    "        Console.WriteLine($\"  {typeNaam}: {allUsage[hourIndex, typeIndex]}\");\n",
    "    }\n",
    "}\n",
    "\n",
    "int[,] usageData = new int[,] { { 10, 1, 3 }, { 1, 4, 5 }, { 10, 1, 3 } };\n",
    "\n",
    "// De hoofd-lus is nu veel eenvoudiger te lezen\n",
    "for (int i = 0; i < usageData.GetLength(0); i++)\n",
    "{\n",
    "    PrintUsagePerHour(usageData, i);\n",
    "}"
   ]
  },
  {
   "cell_type": "markdown",
   "metadata": {},
   "source": [
    "# Vragen"
   ]
  },
  {
   "cell_type": "markdown",
   "metadata": {},
   "source": [
    "### Vraag 1: Coördinaten-grid\n",
    "Gebruik geneste `for`-lussen om alle coördinaten van een 3x3 grid te printen. De output moet er als volgt uitzien:\n",
    "```\n",
    "(0,0) (0,1) (0,2)\n",
    "(1,0) (1,1) (1,2)\n",
    "(2,0) (2,1) (2,2)\n",
    "```"
   ]
  },
  {
   "cell_type": "code",
   "execution_count": null,
   "metadata": {
    "polyglot_notebook": {
     "kernelName": "csharp"
    }
   },
   "outputs": [],
   "source": []
  },
  {
   "cell_type": "markdown",
   "metadata": {},
   "source": [
    "### Vraag 2: Namen filteren\n",
    "Gegeven een lijst met namen, gebruik een `foreach`-lus met daarin een `if`-statement om alleen de namen te printen die beginnen met de letter 'A'."
   ]
  },
  {
   "cell_type": "code",
   "execution_count": null,
   "metadata": {
    "polyglot_notebook": {
     "kernelName": "csharp"
    }
   },
   "outputs": [],
   "source": []
  },
  {
   "cell_type": "markdown",
   "metadata": {},
   "source": [
    "### Vraag 3: Eenvoudige inlogprocedure\n",
    "Schrijf een programma dat de gebruiker maximaal 3 pogingen geeft om het juiste wachtwoord (\"geheim\") in te voeren. Gebruik een `for`-lus voor de pogingen en een `if`-statement om de invoer te controleren. Als het wachtwoord correct is, stop de lus dan voortijdig met `break`."
   ]
  },
  {
   "cell_type": "code",
   "execution_count": null,
   "metadata": {
    "polyglot_notebook": {
     "kernelName": "csharp"
    }
   },
   "outputs": [],
   "source": []
  },
  {
   "cell_type": "markdown",
   "metadata": {},
   "source": [
    "### Vraag 4: Zoek het eerste even getal\n",
    "Gebruik een `foreach`-lus om een lijst met getallen te doorlopen. Zoek het *eerste* even getal, print het, en stop de lus onmiddellijk met `break`."
   ]
  },
  {
   "cell_type": "code",
   "execution_count": null,
   "metadata": {
    "polyglot_notebook": {
     "kernelName": "csharp"
    }
   },
   "outputs": [],
   "source": []
  },
  {
   "cell_type": "markdown",
   "metadata": {},
   "source": [
    "### Vraag 5: Sla de vijven over\n",
    "Gebruik een `for`-lus om de getallen van 1 tot 10 te printen, maar sla elk getal over dat deelbaar is door 5. Gebruik hiervoor het `continue`-statement."
   ]
  },
  {
   "cell_type": "code",
   "execution_count": null,
   "metadata": {
    "polyglot_notebook": {
     "kernelName": "csharp"
    }
   },
   "outputs": [],
   "source": []
  },
  {
   "cell_type": "markdown",
   "metadata": {},
   "source": [
    "### Vraag 6: Aantal positieve waarden in een 2D-array\n",
    "Gegeven een 2D-array (matrix) met integers, gebruik geneste `for`-lussen om te tellen hoeveel van de getallen positief zijn."
   ]
  },
  {
   "cell_type": "code",
   "execution_count": null,
   "metadata": {
    "polyglot_notebook": {
     "kernelName": "csharp"
    }
   },
   "outputs": [],
   "source": []
  },
  {
   "cell_type": "markdown",
   "metadata": {},
   "source": [
    "# Uitdagingen"
   ]
  },
  {
   "cell_type": "markdown",
   "metadata": {},
   "source": [
    "### Uitdaging 1: Vier op een rij - Winnaar bepalen\n",
    "De code hieronder bevat een speelveld voor 'Vier op een rij'. Schrijf een algoritme dat met geneste lussen controleert of er een winnaar is. Controleer voorlopig alleen op 4-op-een-rij **horizontaal** en **verticaal**."
   ]
  },
  {
   "cell_type": "code",
   "execution_count": null,
   "metadata": {
    "polyglot_notebook": {
     "kernelName": "csharp"
    }
   },
   "outputs": [],
   "source": [
    "string[,] grid = new string[5, 5]\n",
    "{\n",
    "    { \"\", \"red\", \"yellow\", \"\", \"\" },\n",
    "    { \"\", \"\", \"yellow\", \"red\", \"\" },\n",
    "    { \"\", \"\", \"red\", \"red\", \"\" },\n",
    "    { \"\", \"red\", \"yellow\", \"red\", \"red\" },\n",
    "    { \"yellow\", \"red\", \"red\", \"red\", \"yellow\" }\n",
    "};"
   ]
  },
  {
   "cell_type": "markdown",
   "metadata": {},
   "source": [
    "### Uitdaging 2: Zoek de kleinste waarde in een reeks\n",
    "Schrijf een programma dat de gebruiker vraagt om een reeks getallen in te voeren. De invoer stopt wanneer de gebruiker 'stop' typt. Gebruik een `while`-lus om de invoer te verwerken. Binnen de lus, gebruik een `if`-statement om bij te houden wat het kleinste getal is dat tot nu toe is ingevoerd. Print aan het einde het kleinste getal."
   ]
  },
  {
   "cell_type": "code",
   "execution_count": null,
   "metadata": {
    "polyglot_notebook": {
     "kernelName": "csharp"
    }
   },
   "outputs": [],
   "source": []
  },
  {
   "cell_type": "markdown",
   "metadata": {},
   "source": [
    "### Uitdaging 3: Fibonacci en de Gulden Snede\n",
    "De [Fibonacci-reeks](https://nl.wikipedia.org/wiki/Rij_van_Fibonacci) begint met 0 en 1, en elk volgend getal is de som van de twee voorgaande. De verhouding tussen twee opeenvolgende getallen in de reeks benadert de [Gulden Snede](https://nl.wikipedia.org/wiki/Gulden_snede) (ongeveer 1.6180339887). Schrijf een algoritme dat de Fibonacci-reeks genereert en stopt wanneer de berekende verhouding (getal / vorig getal) minder dan 0.000001 afwijkt van de exacte waarde van de Gulden Snede."
   ]
  },
  {
   "cell_type": "code",
   "execution_count": null,
   "metadata": {
    "polyglot_notebook": {
     "kernelName": "csharp"
    }
   },
   "outputs": [],
   "source": []
  }
 ],
 "metadata": {
  "kernelspec": {
   "display_name": ".NET (C#)",
   "language": "C#",
   "name": ".net-csharp"
  },
  "language_info": {
   "name": "polyglot-notebook"
  },
  "polyglot_notebook": {
   "kernelInfo": {
    "defaultKernelName": "csharp",
    "items": [
     {
      "aliases": [],
      "name": "csharp"
     }
    ]
   }
  }
 },
 "nbformat": 4,
 "nbformat_minor": 2
}
