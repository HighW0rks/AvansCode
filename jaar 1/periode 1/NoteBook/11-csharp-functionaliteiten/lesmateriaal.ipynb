{
 "cells": [
  {
   "cell_type": "markdown",
   "metadata": {},
   "source": [
    "# Standaard C# functies - De Math en Random klassen\n",
    "\n",
    "Na de basis van controlestructuren zoals `if`-statements en lussen, gaan we nu dieper in op de ingebouwde 'gereedschapskist' van C#. Veelvoorkomende taken, zoals wiskundige berekeningen of het genereren van willekeurige getallen, hoef je niet zelf uit te vinden. C# biedt hiervoor krachtige, statische klassen zoals `Math` en `Random`."
   ]
  },
  {
   "cell_type": "markdown",
   "metadata": {},
   "source": [
    "## Wiskunde herhaling\n",
    "\n",
    "Voordat we de C#-code induiken, is het nuttig om de wiskunde achter deze functies even op te frissen. Dit helpt je niet alleen om de `Math`-klasse beter te gebruiken, maar ook om te weten wanneer en waarom je bepaalde functies nodig hebt.\n",
    "\n",
    "### Machtsverheffing en logaritmes\n",
    "\n",
    "- **Machtsverheffing ($x^y$)**: Dit is in de basis herhaalde vermenigvuldiging. Bijvoorbeeld, $2^3$ (twee tot de macht drie) is hetzelfde als $2 \\times 2 \\times 2$, wat resulteert in 8. Het vertelt je het resultaat van een getal dat exponentieel groeit. Dit wordt in C# gedaan met `Math.Pow(basis, exponent)`.\n",
    "\n",
    "- **Logaritmes ($\\log_b(x)$)**: Een logaritme is de omgekeerde operatie van machtsverheffing. Het beantwoordt de vraag: \"Tot welke macht moet ik de basis verheffen om een bepaald getal te krijgen?\" Bijvoorbeeld, $\\log_2(8)$ vraagt: \"Tot welke macht moet ik 2 verheffen om 8 te krijgen?\" Het antwoord is 3. Logaritmes zijn nuttig voor het meten van schalen die exponentieel toenemen, zoals de pH-schaal of de schaal van Richter.\n",
    "\n",
    "### Goniometrische functies\n",
    "\n",
    "- **Sinus, Cosinus & Tangens**: Deze functies (bekend uit de goniometrie) beschrijven de verhoudingen tussen de zijden van een rechthoekige driehoek, afhankelijk van een van de scherpe hoeken. Ze zijn fundamenteel in grafische applicaties, natuurkundige simulaties en alles wat met golven of rotaties te maken heeft.\n",
    "\n",
    "- **Graden vs. Radialen**: Hoewel we in het dagelijks leven vaak graden gebruiken (een cirkel is 360°), gebruiken de meeste programmeertalen en wiskundige formules **radialen**. Een radiaal is gerelateerd aan de straal ($r$) van een cirkel. De volledige omtrek van een cirkel is $2\\pi r$, dus een volledige rotatie van 360° is gelijk aan $2\\pi$ radialen. Daarom moet je in C# hoeken vaak omrekenen met de formule: `radialen = graden * Math.PI / 180`.\n",
    "\n",
    "### De Stelling van Pythagoras\n",
    "\n",
    "De bekende stelling $a^2 + b^2 = c^2$ beschrijft de relatie tussen de zijden van een rechthoekige driehoek. Dit is de basis voor het berekenen van de directe afstand tussen twee punten in een 2D-vlak. Als je de punten (x1, y1) en (x2, y2) hebt, kun je een denkbeeldige rechthoekige driehoek tekenen. De lengte van de horizontale zijde is het verschil in x-coördinaten ($|x2-x1|$), en de verticale zijde is het verschil in y-coördinaten ($|y2-y1|$). De directe afstand (de hypotenusa) bereken je dan met $\\sqrt{(x2-x1)^2 + (y2-y1)^2}$, wat precies is wat je in *Vraag 5* zult doen met `Math.Sqrt` en `Math.Pow`.\n",
    "\n",
    "### Monte Carlo-methode\n",
    "\n",
    "De Monte Carlo-methode is een techniek om lastige problemen op te lossen door veel willekeur te gebruiken. Zie het als een dobbelspel waarbij je met heel veel worpen toch iets nuttigs kunt uitrekenen.\n",
    "\n",
    "Een bekend voorbeeld hiervan is het schatten van het getal $\\pi$ (pi). Stel je voor dat je een vierkant tekent. Binnen dat vierkant teken je een kwartcirkel die precies in één hoek van het vierkant past.\n",
    "\n",
    "Nu gaan we 'punten gooien' op dat vierkant, helemaal willekeurig. Alsof je met je ogen dicht dartpijltjes op het vierkant gooit. Elk punt komt ergens op het vierkant terecht.\n",
    "\n",
    "wat we vervolgens doen, is tellen:\n",
    "- hoeveel punten landen binnen de kwartcirkel?\n",
    "- hoeveel punten hebben we totaal gegooid?\n",
    "\n",
    "De Monte Carlo-methode zegt dan: als je heel veel punten gooit, zal de verhouding van de punten binnen de cirkel ten opzichte van het totaal aantal punten ongeveer gelijk zijn aan de verhouding van de oppervlaktes.\n",
    "\n",
    "De oppervlakte van de kwartcirkel is een deel van de oppervlakte van het vierkant. Als je dit slim uitrekent, kom je erachter dat deze verhouding ($\\pi/4$)/1 is. Dus, per 4 worpen zullen er ongeveer 3.14 (de waarde van $\\pi$) binnen de kwartcirkel vallen.\n",
    "\n",
    "Dus, door simpelweg punten willekeurig te gooien en te tellen, kun je $\\pi$ steeds nauwkeuriger schatten. Het laat zien hoe je met heel veel willekeurige acties toch een heel precies getal kunt vinden dat helemaal niet willekeurig is.\n",
    "\n",
    "Meer info: https://en.wikipedia.org/wiki/Monte_Carlo_method"
   ]
  },
  {
   "cell_type": "markdown",
   "metadata": {},
   "source": [
    "## De `Math` klasse: Je wiskundige assistent\n",
    "De `Math` klasse in C# is een statische klasse die een verzameling methoden en constanten biedt voor wiskundige operaties. 'Statisch' betekent dat je geen object van de klasse hoeft aan te maken; je kunt de methoden direct aanroepen via de klassenaam zelf (bv. `Math.Pow(...)`).\n",
    "\n",
    "### Machtsverheffing en Logaritmes\n",
    "Voor machtsverheffing ($x^y$) en logaritmes gebruik je `Math.Pow` en `Math.Log`.\n",
    "\n",
    "- **`Math.Pow(basis, exponent)`**: Berekent de machtsverheffing. $2^3$ schrijf je als `Math.Pow(2, 3)`.\n",
    "- **`Math.Log(getal)`**: Berekent de natuurlijke logaritme (basis *e*).\n",
    "- **`Math.Log2(getal)`**: Berekent de logaritme met basis 2. $\\log{_2}{(8)}$ schrijf je als `Math.Log2(8)`.\n",
    "- **`Math.Log10(getal)`**: Berekent de logaritme met basis 10."
   ]
  },
  {
   "cell_type": "code",
   "execution_count": null,
   "metadata": {
    "polyglot_notebook": {
     "kernelName": "csharp"
    }
   },
   "outputs": [],
   "source": [
    "// Bereken 2 tot de macht 8\n",
    "double machtResultaat = Math.Pow(2, 8);\n",
    "Console.WriteLine(\"2^8 = \" + machtResultaat); // Output: 256\n",
    "\n",
    "// Bereken de logaritme met basis 2 van 64\n",
    "double logResultaat = Math.Log2(64);\n",
    "Console.WriteLine(\"log2(64) = \" + logResultaat); // Output: 6"
   ]
  },
  {
   "cell_type": "markdown",
   "metadata": {},
   "source": [
    "### Goniometrische functies\n",
    "Voor berekeningen met hoeken zijn er methoden als `Sin`, `Cos` en `Tan`. Een belangrijk aandachtspunt is dat deze methoden werken met **radialen**, niet met graden. Om graden om te zetten naar radialen, gebruik je de formule: `radialen = graden * Math.PI / 180`."
   ]
  },
  {
   "cell_type": "code",
   "execution_count": null,
   "metadata": {
    "polyglot_notebook": {
     "kernelName": "csharp"
    }
   },
   "outputs": [],
   "source": [
    "// Hoek van 90 graden in radialen\n",
    "double hoekInGraden = 90.0;\n",
    "double hoekInRadialen = hoekInGraden * Math.PI / 180.0;\n",
    "\n",
    "double sinusWaarde = Math.Sin(hoekInRadialen);\n",
    "Console.WriteLine($\"De sinus van 90 graden is: {sinusWaarde}\"); // Output: 1"
   ]
  },
  {
   "cell_type": "markdown",
   "metadata": {},
   "source": [
    "### Waarden begrenzen en afronden\n",
    "De `Math` klasse biedt ook handige functies om waarden te vergelijken, te begrenzen of af te ronden.\n",
    "\n",
    "- **`Math.Min(a, b)` / `Math.Max(a, b)`**: Geeft respectievelijk de kleinste of grootste van twee waarden terug.\n",
    "- **`Math.Clamp(waarde, min, max)`**: Begrenst een waarde binnen een bepaald bereik. Als de waarde kleiner is dan `min`, wordt `min` teruggegeven. Als hij groter is dan `max`, wordt `max` teruggegeven. Anders wordt de waarde zelf teruggegeven.\n",
    "- **`Math.Round(getal)`**: Rondt een decimaal getal af naar het dichtstbijzijnde gehele getal.\n",
    "- **`Math.Ceiling(getal)`**: Rondt een decimaal getal altijd af naar *boven*.\n",
    "- **`Math.Floor(getal)`**: Rondt een decimaal getal altijd af naar *beneden*."
   ]
  },
  {
   "cell_type": "code",
   "execution_count": null,
   "metadata": {
    "polyglot_notebook": {
     "kernelName": "csharp"
    }
   },
   "outputs": [],
   "source": [
    "double waarde = 2.75;\n",
    "Console.WriteLine(\"Floor: \" + Math.Floor(waarde));   // Output: 2\n",
    "Console.WriteLine(\"Ceiling: \" + Math.Ceiling(waarde)); // Output: 3\n",
    "Console.WriteLine(\"Round: \" + Math.Round(waarde));     // Output: 3\n",
    "\n",
    "// Clamp voorbeeld\n",
    "int score = 120;\n",
    "int begrensdeScore = Math.Clamp(score, 0, 100);\n",
    "Console.WriteLine(\"Begrensde score: \" + begrensdeScore); // Output: 100"
   ]
  },
  {
   "cell_type": "markdown",
   "metadata": {},
   "source": [
    "## 2. De `Random` klasse: willekeur genereren\n",
    "\n",
    "In veel applicaties, met name games of simulaties, is er behoefte aan willekeur. De `Random` klasse biedt hiervoor de functionaliteit.\n",
    "\n",
    "### `Random.Shared`: De moderne aanpak\n",
    "Sinds .NET 6 is `Random.Shared` de aanbevolen manier om een willekeurige generator te gebruiken. Het is een statische eigenschap die een enkele, thread-safe `Random`-instantie voor je hele applicatie beheert. Dit voorkomt problemen die kunnen ontstaan als je snel achter elkaar meerdere `new Random()` objecten aanmaakt (die zouden dan dezelfde reeks getallen kunnen produceren).\n",
    "\n",
    "### Gehele getallen genereren: `Next()`\n",
    "De `Next()` methode wordt gebruikt om willekeurige gehele getallen te genereren.\n",
    "\n",
    "- **`Random.Shared.Next()`**: Geeft een willekeurig niet-negatief getal tot aan `Int32.MaxValue`.\n",
    "- **`Random.Shared.Next(maxValue)`**: Geeft een willekeurig getal tussen 0 (inclusief) en `maxValue` (exclusief).\n",
    "- **`Random.Shared.Next(minValue, maxValue)`**: Geeft een willekeurig getal tussen `minValue` (inclusief) en `maxValue` (exclusief).\n",
    "\n",
    "**Let op:** De `maxValue` is altijd exclusief. Wil je een dobbelsteen simuleren (1-6), dan gebruik je `Next(1, 7)`."
   ]
  },
  {
   "cell_type": "code",
   "execution_count": null,
   "metadata": {
    "polyglot_notebook": {
     "kernelName": "csharp"
    }
   },
   "outputs": [],
   "source": [
    "// Genereer een willekeurig getal tussen 10 en 20 (inclusief 10, exclusief 20)\n",
    "int randomGetal = Random.Shared.Next(10, 20);\n",
    "Console.WriteLine(\"Willekeurig getal tussen 10 en 19: \" + randomGetal);"
   ]
  },
  {
   "cell_type": "markdown",
   "metadata": {},
   "source": [
    "### Decimale getallen en shufflen\n",
    "\n",
    "- **`Random.Shared.NextDouble()`**: Geeft een willekeurig decimaal getal (een `double`) tussen 0.0 (inclusief) en 1.0 (exclusief). Dit kun je gebruiken om willekeurige getallen binnen andere bereiken te schalen.\n",
    "- **`Random.Shared.Shuffle(array)`**: Herschikt de elementen van een array in een willekeurige volgorde."
   ]
  },
  {
   "cell_type": "code",
   "execution_count": null,
   "metadata": {
    "polyglot_notebook": {
     "kernelName": "csharp"
    }
   },
   "outputs": [],
   "source": [
    "// Willekeurig decimaal getal tussen 0 en 50\n",
    "double randomDecimaal = Random.Shared.NextDouble() * 50;\n",
    "Console.WriteLine(\"Willekeurig decimaal getal: \" + randomDecimaal);\n",
    "\n",
    "// Een array shufflen\n",
    "string[] namen = [ \"Alice\", \"Bob\", \"Charlie\", \"Diana\" ];\n",
    "Random.Shared.Shuffle(namen);\n",
    "Console.WriteLine(\"Willekeurige naam: \" + namen[0]);"
   ]
  },
  {
   "cell_type": "markdown",
   "metadata": {},
   "source": [
    "# Vragen"
   ]
  },
  {
   "cell_type": "markdown",
   "metadata": {},
   "source": [
    "### Vraag 1: Worteltrekken\n",
    "De vierkantswortel van een getal kun je berekenen met `Math.Sqrt(getal)`. Schrijf een programma dat de gebruiker om een getal vraagt en vervolgens de vierkantswortel berekent en toont."
   ]
  },
  {
   "cell_type": "code",
   "execution_count": null,
   "metadata": {
    "polyglot_notebook": {
     "kernelName": "csharp"
    }
   },
   "outputs": [],
   "source": []
  },
  {
   "cell_type": "markdown",
   "metadata": {},
   "source": [
    "### Vraag 2: Willekeurige lottogetallen\n",
    "Genereer 6 unieke lottogetallen tussen 1 en 45. Gebruik een `while`-lus om getallen te blijven genereren totdat je 6 verschillende getallen hebt en sla deze op in een `List<int>`."
   ]
  },
  {
   "cell_type": "code",
   "execution_count": null,
   "metadata": {
    "polyglot_notebook": {
     "kernelName": "csharp"
    }
   },
   "outputs": [],
   "source": [
    "List<int> lottogetallen = []; // een lege lijst voor lottogetallen\n",
    "\n",
    "lottogetallen.Add(6); // een voorbeeld om een nieuw getal toe te voegen aan de lijst"
   ]
  },
  {
   "cell_type": "markdown",
   "metadata": {},
   "source": [
    "### Vraag 3: Afronden op 2 decimalen\n",
    "De `Math.Round()` functie kan ook een tweede argument accepteren voor het aantal decimalen. Vraag de gebruiker om een kommagetal en rond dit af op 2 decimalen."
   ]
  },
  {
   "cell_type": "code",
   "execution_count": null,
   "metadata": {
    "polyglot_notebook": {
     "kernelName": "csharp"
    }
   },
   "outputs": [],
   "source": []
  },
  {
   "cell_type": "markdown",
   "metadata": {},
   "source": [
    "### Vraag 4: Willekeurige groepsindeling\n",
    "Gegeven is een `string[]` met namen van studenten. Gebruik `Random.Shared.Shuffle()` om de lijst met namen willekeurig te sorteren en print de nieuwe volgorde."
   ]
  },
  {
   "cell_type": "code",
   "execution_count": null,
   "metadata": {
    "polyglot_notebook": {
     "kernelName": "csharp"
    }
   },
   "outputs": [],
   "source": []
  },
  {
   "cell_type": "markdown",
   "metadata": {},
   "source": [
    "### Vraag 5: Afstandsberekening\n",
    "De afstand tussen twee punten (x1, y1) en (x2, y2) wordt berekend met de stelling van Pythagoras: `wortel((x2-x1)² + (y2-y1)²)`. Gebruik `Math.Pow` en `Math.Sqrt` om de afstand tussen de punten (3, 4) en (6, 8) te berekenen."
   ]
  },
  {
   "cell_type": "code",
   "execution_count": null,
   "metadata": {
    "polyglot_notebook": {
     "kernelName": "csharp"
    }
   },
   "outputs": [],
   "source": []
  },
  {
   "cell_type": "markdown",
   "metadata": {},
   "source": [
    "### Vraag 6: Dice Roll simulator\n",
    "Simuleer het gooien van twee zeszijdige dobbelstenen. Genereer twee willekeurige getallen tussen 1 en 6 en print de worp en de totale som."
   ]
  },
  {
   "cell_type": "code",
   "execution_count": null,
   "metadata": {
    "polyglot_notebook": {
     "kernelName": "csharp"
    }
   },
   "outputs": [],
   "source": []
  },
  {
   "cell_type": "markdown",
   "metadata": {},
   "source": [
    "# Uitdagingen"
   ]
  },
  {
   "cell_type": "markdown",
   "metadata": {},
   "source": [
    "### Uitdaging 1: Wachtwoordgenerator\n",
    "Schrijf een programma dat een willekeurig wachtwoord genereert. Vraag de gebruiker om de gewenste lengte. Het wachtwoord moet bestaan uit een willekeurige mix van kleine letters, hoofdletters en cijfers. Tip: maak een string of array met alle mogelijke karakters en kies daar willekeurig uit."
   ]
  },
  {
   "cell_type": "code",
   "execution_count": null,
   "metadata": {
    "polyglot_notebook": {
     "kernelName": "csharp"
    }
   },
   "outputs": [],
   "source": []
  },
  {
   "cell_type": "markdown",
   "metadata": {},
   "source": [
    "### Uitdaging 2: Monte Carlo PI-simulatie\n",
    "Schrijf een simulatie om de waarde van PI te benaderen met de Monte Carlo-methode. De logica is als volgt:\n",
    "1. Stel je een vierkant voor met zijdes van 1 (van (0,0) tot (1,1)).\n",
    "2. In dit vierkant past precies een kwartcirkel met een straal van 1.\n",
    "3. Genereer een groot aantal (bijv. 1.000.000) willekeurige punten (x, y) binnen dit vierkant.\n",
    "4. Controleer voor elk punt of het *binnen* de kwartcirkel valt. Dit is het geval als `x² + y² < 1`.\n",
    "5. De verhouding `(punten in cirkel) / (totaal aantal punten)` benadert de verhouding van de oppervlaktes, oftewel `(π * 1²) / 4` / `1²` = `π / 4`.\n",
    "6. Bereken PI door de gevonden verhouding met 4 te vermenigvuldigen."
   ]
  },
  {
   "cell_type": "code",
   "execution_count": null,
   "metadata": {
    "polyglot_notebook": {
     "kernelName": "csharp"
    }
   },
   "outputs": [],
   "source": []
  }
 ],
 "metadata": {
  "kernelspec": {
   "display_name": ".NET (C#)",
   "language": "C#",
   "name": ".net-csharp"
  },
  "language_info": {
   "name": "polyglot-notebook"
  },
  "polyglot_notebook": {
   "kernelInfo": {
    "defaultKernelName": "csharp",
    "items": [
     {
      "aliases": [],
      "name": "csharp"
     }
    ]
   }
  }
 },
 "nbformat": 4,
 "nbformat_minor": 2
}
