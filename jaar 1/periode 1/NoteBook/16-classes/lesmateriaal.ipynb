{
 "cells": [
  {
   "cell_type": "markdown",
   "metadata": {},
   "source": [
    "# Introductie tot C# Klassen\n",
    "\n",
    "Tot nu toe hebben we gewerkt met zogenaamde 'primitieve' datatypes zoals `int`, `string` en `bool`. Deze zijn perfect voor het opslaan van losse stukjes data, maar wat als we complexere, samenhangende informatie willen representeren? Hoe zouden we bijvoorbeeld een 'Auto' of een 'Student' moeten voorstellen in onze code, met al hun specifieke eigenschappen en gedragingen?\n",
    "\n",
    "Het antwoord ligt in **klassen**. Een klasse is het fundamentele bouwblok van objectgeoriënteerd programmeren (OOP) in C#. Het stelt ons in staat om onze eigen, op maat gemaakte datatypes te definiëren die zowel data (eigenschappen) als gedrag (methodes) bundelen. Dit is de stap van procedureel programmeren naar het modelleren van de 'echte' wereld in onze code."
   ]
  },
  {
   "cell_type": "markdown",
   "metadata": {},
   "source": [
    "## Wat is een klasse? De blauwdruk\n",
    "\n",
    "Een **klasse** kun je het beste zien als een **blauwdruk** of een template voor het maken van objecten. De klasse zelf is niet het object, maar beschrijft *hoe* een object van dat type eruitziet en wat het kan doen. Een blauwdruk voor een huis is niet het huis zelf, maar definieert wel dat het huis muren, deuren en een dak heeft (eigenschappen) en dat je de lichten aan kunt doen (gedrag).\n",
    "\n",
    "In C# definiëren we een klasse met het `class` keyword, gevolgd door een naam (volgens de *PascalCase* conventie) en accolades `{}` die de body van de klasse omsluiten."
   ]
  },
  {
   "cell_type": "markdown",
   "metadata": {},
   "source": [
    "## Data opslaan: fields en properties\n",
    "\n",
    "Om data op te slaan binnen een klasse, gebruiken we variabelen. Binnen de context van een klasse spreken we vaak over **fields** en **properties**.\n",
    "\n",
    "### Fields: De interne opslag\n",
    "Een **field** is een variabele die direct binnen een klasse wordt gedeclareerd. Het is de conventie om fields `private` te maken. Dit betekent dat ze alleen toegankelijk zijn *binnen* de klasse zelf. Dit beschermt de interne data van het object tegen ongewenste aanpassingen van buitenaf. Private fields worden vaak aangeduid met een underscore (`_`) als prefix.\n",
    "\n",
    "### Properties: De gecontroleerde toegangspoort\n",
    "Een **property** is een 'toegangspoort' tot een field. Properties bieden een gecontroleerde manier om de data van een object te lezen (`get`) en te wijzigen (`set`). Ze zien eruit als variabelen, maar zijn eigenlijk speciale methodes. Door properties te gebruiken, kun je logica toevoegen aan het lezen of schrijven van data, zoals validatie.\n",
    "\n",
    "De meest voorkomende vorm is de **auto-property**, waarbij de compiler achter de schermen een anoniem, privaat field voor je aanmaakt."
   ]
  },
  {
   "cell_type": "code",
   "execution_count": null,
   "metadata": {
    "polyglot_notebook": {
     "kernelName": "csharp"
    }
   },
   "outputs": [],
   "source": [
    "public class Auto\n",
    "{\n",
    "    // Auto-property: de eenvoudigste manier. De compiler maakt een privaat 'backing field'.\n",
    "    public string Merk { get; set; }\n",
    "\n",
    "    // Voorbeeld van een property met een expliciet, privaat field\n",
    "    private string _kleur; // Dit is het private field\n",
    "\n",
    "    // Dit is de public property die toegang geeft tot het _kleur field\n",
    "    public string Kleur\n",
    "    {\n",
    "        get { return _kleur; } // Geeft de waarde van het field terug\n",
    "        set { _kleur = value; } // Stelt de waarde van het field in ('value' is een keyword)\n",
    "    }\n",
    "}"
   ]
  },
  {
   "cell_type": "markdown",
   "metadata": {},
   "source": [
    "Boventaande `Auto` klasse is een voorbeeld van wat soms een **POCO** (Plain Old C# Object) wordt genoemd: een eenvoudige klasse die voornamelijk dient als een container voor data."
   ]
  },
  {
   "cell_type": "markdown",
   "metadata": {},
   "source": [
    "## Methodes: Het gedrag van een klasse\n",
    "\n",
    "Naast data hebben objecten ook **gedrag**. Dit gedrag definiëren we met **methodes** binnen de klasse. Deze methodes kunnen de fields en properties van het eigen object lezen en aanpassen. Voor onze `Auto` klasse kunnen we bijvoorbeeld methodes toevoegen om te accelereren en te remmen."
   ]
  },
  {
   "cell_type": "code",
   "execution_count": null,
   "metadata": {
    "polyglot_notebook": {
     "kernelName": "csharp"
    }
   },
   "outputs": [],
   "source": [
    "public class Auto\n",
    "{\n",
    "    public string Merk { get; set; }\n",
    "    public int HuidigeSnelheid { get; private set; } // Kan alleen binnen de klasse worden gewijzigd\n",
    "\n",
    "    // Methode: definieert gedrag\n",
    "    public void GeefGas(int toename)\n",
    "    {\n",
    "        // Deze methode past de 'HuidigeSnelheid' property aan\n",
    "        HuidigeSnelheid += toename;\n",
    "        Console.WriteLine($\"De {Merk} versnelt naar {HuidigeSnelheid} km/u.\");\n",
    "    }\n",
    "\n",
    "    public void Rem(int afname)\n",
    "    {\n",
    "        HuidigeSnelheid -= afname;\n",
    "        Console.WriteLine($\"De {Merk} vertraagt naar {HuidigeSnelheid} km/u.\");\n",
    "    }\n",
    "}"
   ]
  },
  {
   "cell_type": "markdown",
   "metadata": {},
   "source": [
    "## Objecten: Het creëren van een instantie\n",
    "\n",
    "Nu we de `Auto` blauwdruk hebben, kunnen we daadwerkelijke **objecten** of **instanties** van die klasse maken. Elk object is een uniek exemplaar in het geheugen, met zijn eigen set van waarden voor de properties.\n",
    "\n",
    "We creëren een object met het `new` keyword. Dit proces heet **instantiëren**."
   ]
  },
  {
   "cell_type": "code",
   "execution_count": null,
   "metadata": {
    "polyglot_notebook": {
     "kernelName": "csharp"
    }
   },
   "outputs": [],
   "source": [
    "// Maak een nieuw object (een instantie) van de Auto klasse\n",
    "Auto mijnBmw = new Auto();\n",
    "\n",
    "// Stel de properties van dit specifieke object in\n",
    "mijnBmw.Merk = \"BMW\";\n",
    "\n",
    "// Roep een methode aan op het object\n",
    "mijnBmw.GeefGas(50);\n",
    "\n",
    "// Maak een tweede, volledig onafhankelijk object\n",
    "Auto jouwVw = new Auto();\n",
    "jouwVw.Merk = \"Volkswagen\";\n",
    "jouwVw.GeefGas(30);"
   ]
  },
  {
   "cell_type": "markdown",
   "metadata": {},
   "source": [
    "## De constructor: initialisatie van een object\n",
    "\n",
    "Het is omslachtig om na het creëren van een object alle properties handmatig in te stellen. Een **constructor** is een speciale methode die automatisch wordt aangeroepen op het moment dat je een object met `new` creëert. Het doel is om het object direct een geldige beginstaat te geven.\n",
    "\n",
    "- Een constructor heeft dezelfde naam als de klasse.\n",
    "- Een constructor heeft geen return type (zelfs niet `void`).\n",
    "- Je kunt parameters meegeven aan de constructor om initiële waarden te verstrekken."
   ]
  },
  {
   "cell_type": "code",
   "execution_count": null,
   "metadata": {
    "polyglot_notebook": {
     "kernelName": "csharp"
    }
   },
   "outputs": [],
   "source": [
    "public class Auto\n",
    "{\n",
    "    public string Kleur { get; set; }\n",
    "    public string Merk { get; set; }\n",
    "    public int HuidigeSnelheid { get; private set; }\n",
    "\n",
    "    // Dit is de constructor\n",
    "    public Auto(string merk, string kleur)\n",
    "    {\n",
    "        // Gebruik de parameters om de properties direct een waarde te geven\n",
    "        Merk = merk;\n",
    "        Kleur = kleur;\n",
    "        HuidigeSnelheid = 0; // Een veilige beginwaarde\n",
    "        Console.WriteLine($\"Een nieuwe {kleur} {merk} is gemaakt!\");\n",
    "    }\n",
    "\n",
    "    public void GeefGas(int toename) { /* ... */ }\n",
    "}\n",
    "\n",
    "// Nu kunnen we het object in één keer correct initialiseren\n",
    "Auto mijnBmw = new Auto(\"BMW\", \"Zwart\");\n",
    "Console.WriteLine(mijnBmw.Merk); // Output: BMW"
   ]
  },
  {
   "cell_type": "markdown",
   "metadata": {},
   "source": [
    "# Vragen"
   ]
  },
  {
   "cell_type": "markdown",
   "metadata": {},
   "source": [
    "### Vraag 1: Boek klasse\n",
    "Definieer een klasse `Boek` met twee publieke `string` properties: `Titel` en `Auteur`."
   ]
  },
  {
   "cell_type": "code",
   "execution_count": null,
   "metadata": {
    "polyglot_notebook": {
     "kernelName": "csharp"
    }
   },
   "outputs": [],
   "source": []
  },
  {
   "cell_type": "markdown",
   "metadata": {},
   "source": [
    "### Vraag 2: Object instantiëren\n",
    "Maak, gebruikmakend van de `Boek` klasse uit de vorige vraag, een object (instantie) van een boek en vul de `Titel` en `Auteur` properties met waarden van je favoriete boek."
   ]
  },
  {
   "cell_type": "code",
   "execution_count": null,
   "metadata": {
    "polyglot_notebook": {
     "kernelName": "csharp"
    }
   },
   "outputs": [],
   "source": []
  },
  {
   "cell_type": "markdown",
   "metadata": {},
   "source": [
    "### Vraag 3: Methode toevoegen\n",
    "Voeg aan de `Boek` klasse een `void` methode `ToonDetails()` toe die de titel en auteur van het boek op een nette manier naar de console print."
   ]
  },
  {
   "cell_type": "code",
   "execution_count": null,
   "metadata": {
    "polyglot_notebook": {
     "kernelName": "csharp"
    }
   },
   "outputs": [],
   "source": []
  },
  {
   "cell_type": "markdown",
   "metadata": {},
   "source": [
    "### Vraag 4: Constructor maken\n",
    "Voeg een constructor toe aan de `Boek` klasse die de `Titel` en `Auteur` als parameters accepteert en deze direct instelt wanneer een nieuw boek-object wordt gemaakt."
   ]
  },
  {
   "cell_type": "code",
   "execution_count": null,
   "metadata": {
    "polyglot_notebook": {
     "kernelName": "csharp"
    }
   },
   "outputs": [],
   "source": []
  },
  {
   "cell_type": "markdown",
   "metadata": {},
   "source": [
    "### Vraag 5: Klasse vs. Object\n",
    "Leg in je eigen woorden het verschil uit tussen een klasse en een object."
   ]
  },
  {
   "cell_type": "code",
   "execution_count": null,
   "metadata": {
    "polyglot_notebook": {
     "kernelName": "csharp"
    }
   },
   "outputs": [],
   "source": []
  },
  {
   "cell_type": "markdown",
   "metadata": {},
   "source": [
    "### Vraag 6: Persoon Klasse\n",
    "Creëer een klasse `Persoon` met properties voor `Naam` (string) en `Leeftijd` (int). Voeg een methode `WordtJaarOuder()` toe die de leeftijd met 1 verhoogt."
   ]
  },
  {
   "cell_type": "code",
   "execution_count": null,
   "metadata": {
    "polyglot_notebook": {
     "kernelName": "csharp"
    }
   },
   "outputs": [],
   "source": []
  },
  {
   "cell_type": "markdown",
   "metadata": {},
   "source": [
    "# Uitdagingen"
   ]
  },
  {
   "cell_type": "markdown",
   "metadata": {},
   "source": [
    "### Uitdaging 1: Bankrekening\n",
    "Maak een `Bankrekening` klasse met de volgende leden:\n",
    "- Een `decimal` property `Saldo` die van buitenaf alleen gelezen (`get`) kan worden.\n",
    "- Een constructor die een beginsaldo accepteert.\n",
    "- Een `void` methode `StortGeld(decimal bedrag)` die het saldo verhoogt.\n",
    "- Een `bool` methode `NeemGeldOp(decimal bedrag)` die het saldo verlaagt, maar alleen als er voldoende saldo is. De methode geeft `true` terug als de opname is gelukt en `false` als dit niet het geval was."
   ]
  },
  {
   "cell_type": "code",
   "execution_count": null,
   "metadata": {
    "polyglot_notebook": {
     "kernelName": "csharp"
    }
   },
   "outputs": [],
   "source": []
  },
  {
   "cell_type": "markdown",
   "metadata": {},
   "source": [
    "### Uitdaging 2: Cirkel Klasse\n",
    "Maak een klasse `Cirkel` met:\n",
    "- Een `double` property `Straal`.\n",
    "- Een `double` read-only property `Diameter` die altijd `2 * Straal` teruggeeft.\n",
    "- Een `double` read-only property `Oppervlakte` die de oppervlakte berekent en teruggeeft.\n",
    "- Een constructor om de `Straal` in te stellen."
   ]
  },
  {
   "cell_type": "code",
   "execution_count": null,
   "metadata": {
    "polyglot_notebook": {
     "kernelName": "csharp"
    }
   },
   "outputs": [],
   "source": []
  },
  {
   "cell_type": "markdown",
   "metadata": {},
   "source": [
    "# Extra materiaal: verdieping\n",
    "\n",
    "De kracht van objectgeoriënteerd programmeren gaat verder dan alleen het bundelen van data en gedrag. In de komende periodes zullen we dieper ingaan op de **drie pilaren van OOP**: Encapsulation, Inheritance en Polymorphism.\n",
    "\n",
    "### Encapsulation (Inkapseling)\n",
    "Dit hebben we vandaag al gezien! Encapsulation is het bundelen van data (fields) en de methodes die op die data werken binnen één eenheid (de klasse). Door fields `private` te maken en alleen toegang te verlenen via `public` properties en methodes, bescherm je de interne staat van een object. Dit wordt ook wel *information hiding* genoemd.\n",
    "\n",
    "### Inheritance (Overerving)\n",
    "Overerving stelt een klasse (de *child* of *derived* class) in staat om de properties en methodes van een andere klasse (de *parent* of *base* class) over te nemen. Dit is een krachtig mechanisme voor codehergebruik. Een `Sportauto` *is een* `Auto`, dus kan deze de basisfunctionaliteit van `Auto` erven en daar zijn eigen, gespecialiseerde gedrag aan toevoegen.\n",
    "```csharp\n",
    "// Basisklasse\n",
    "public class Voertuig \n",
    "{\n",
    "    public int AantalWielen { get; set; }\n",
    "    public void Beweeg() { Console.WriteLine(\"Het voertuig beweegt.\"); }\n",
    "}\n",
    "\n",
    "// Afgeleide klasse: Auto erft van Voertuig\n",
    "public class Auto : Voertuig\n",
    "{\n",
    "    public string Merk { get; set; }\n",
    "}\n",
    "\n",
    "// Een Auto-object heeft nu AantalWielen, Merk, en de Beweeg() methode.\n",
    "Auto mijnAuto = new Auto();\n",
    "mijnAuto.AantalWielen = 4;\n",
    "mijnAuto.Beweeg();\n",
    "```\n",
    "\n",
    "### Polymorphism (Polymorfisme)\n",
    "Polymorfisme betekent letterlijk 'vele vormen'. Het stelt ons in staat om objecten van verschillende klassen op dezelfde manier te behandelen, zolang ze een gemeenschappelijke basisklasse of interface delen. Een afgeleide klasse kan een methode van zijn basisklasse *overschrijven* (`override`) om een eigen, specifieke implementatie te geven. Dit stelt je in staat om zeer flexibele en uitbreidbare systemen te bouwen.\n",
    "```csharp\n",
    "public class Dier\n",
    "{\n",
    "    public virtual void MaakGeluid() { Console.WriteLine(\"Dier maakt een geluid.\"); }\n",
    "}\n",
    "\n",
    "public class Hond : Dier\n",
    "{\n",
    "    public override void MaakGeluid() { Console.WriteLine(\"Woef!\"); }\n",
    "}\n",
    "\n",
    "public class Kat : Dier\n",
    "{\n",
    "    public override void MaakGeluid() { Console.WriteLine(\"Miauw!\"); }\n",
    "}\n",
    "```"
   ]
  }
 ],
 "metadata": {
  "kernelspec": {
   "display_name": ".NET (C#)",
   "language": "C#",
   "name": ".net-csharp"
  },
  "language_info": {
   "name": "polyglot-notebook"
  },
  "polyglot_notebook": {
   "kernelInfo": {
    "defaultKernelName": "csharp",
    "items": [
     {
      "aliases": [],
      "name": "csharp"
     }
    ]
   }
  }
 },
 "nbformat": 4,
 "nbformat_minor": 2
}
