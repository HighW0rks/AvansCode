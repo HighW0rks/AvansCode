{
 "cells": [
  {
   "cell_type": "markdown",
   "metadata": {},
   "source": [
    "# Methodes en functies\n",
    "\n",
    "Welkom. Tot nu toe hebben we onze code voornamelijk in een lineaire volgorde geschreven. Naarmate programma's complexer worden, is dit niet langer houdbaar. Om onze code georganiseerd, leesbaar en herbruikbaar te maken, splitsen we logica op in kleinere, zelfstandige eenheden. In C# noemen we deze eenheden **methodes** (soms ook functies genoemd in andere programmeertalen).\n",
    "\n",
    "In dit lesmateriaal duiken we in de anatomie van een methode: hoe je ze definieert, hoe je ze data meegeeft via parameters, en hoe ze een resultaat kunnen teruggeven."
   ]
  },
  {
   "cell_type": "markdown",
   "metadata": {},
   "source": [
    "## Wat is een methode?\n",
    "\n",
    "Een **methode** is een benoemd codeblok dat een specifieke taak uitvoert. Het primaire doel van methodes is het structureren van code en het vermijden van herhaling (het *Don't Repeat Yourself* - DRY-principe). Een goed ontworpen methode voert één duidelijke taak uit en kan vanaf verschillende plekken in je programma worden aangeroepen.\n",
    "\n",
    "De `Console.WriteLine()`-methode die we al veel hebben gebruikt, is hier een perfect voorbeeld van: het is een herbruikbaar stuk code dat als taak heeft om tekst naar de console te schrijven.\n",
    "\n",
    "### De anatomie van een methode\n",
    "\n",
    "Een methode in C# bestaat uit vier kerncomponenten:\n",
    "\n",
    "1.  **Return type**: Het datatype van de waarde die de methode teruggeeft na uitvoering. Als een methode geen waarde teruggeeft, gebruiken we het `void` keyword.\n",
    "2.  **Naam**: Een unieke en beschrijvende naam die de taak van de methode samenvat (volgens de *PascalCase* naamgevingsconventie, bv. `BerekenPrijsInclBtw`).\n",
    "3.  **Parameters**: Een (optionele) lijst van variabelen die de methode als input accepteert. Deze staan tussen haakjes `()`.\n",
    "4.  **Codeblok (body)**: De daadwerkelijke C#-code die de taak uitvoert, omsloten door accolades `{}`.\n",
    "\n",
    "```csharp\n",
    "// 1. Return Type | 2. Naam | 3. Parameters\n",
    "//     11111 222222222222222 3333333333333333333333333333333333333\n",
    "public float BerekenGasPrijs(float gasVerbruik, float prijsPerKuub)\n",
    "{\n",
    "    // 4. Codeblok\n",
    "    const float BtwPercentage = 1.21f;\n",
    "    return gasVerbruik * prijsPerKuub * BtwPercentage;\n",
    "}\n",
    "```\n",
    "\n",
    "Door de berekening in een methode te plaatsen, hoeven we deze logica maar op één plek te onderhouden. Als de BTW verandert, passen we het slechts op één plek aan. Hoewel public ook relevant is laten we dat nu even buiten beschouwing. Dit zegt iets over waarvandaan je de methode kunt gebruiken."
   ]
  },
  {
   "cell_type": "code",
   "execution_count": null,
   "metadata": {
    "polyglot_notebook": {
     "kernelName": "csharp"
    }
   },
   "outputs": [],
   "source": [
    "float BerekenGasPrijs(float gasVerbruik, float prijsPerKuub)\n",
    "{\n",
    "    return gasVerbruik * prijsPerKuub * 1.21f;\n",
    "}\n",
    "\n",
    "Console.WriteLine($\"Prijs 1: {BerekenGasPrijs(12.0f, 0.39f):C}\");\n",
    "Console.WriteLine($\"Prijs 2: {BerekenGasPrijs(12.4f, 0.34f):C}\");\n",
    "Console.WriteLine($\"Prijs 3: {BerekenGasPrijs(16, 1.54f):C}\");"
   ]
  },
  {
   "cell_type": "markdown",
   "metadata": {},
   "source": [
    "## Parameters: data doorgeven aan methodes\n",
    "\n",
    "**Parameters** zijn de variabelen die je declareert in de definitie van een methode. Ze fungeren als placeholders voor de waarden die je daadwerkelijk meegeeft wanneer je de methode aanroept. Deze meegegeven waarden noemen we **argumenten**.\n",
    "\n",
    "```csharp\n",
    "// 'gasVerbruik' en 'prijsPerKuub' zijn parameters\n",
    "float BerekenGasPrijs(float gasVerbruik, float prijsPerKuub) { ... }\n",
    "\n",
    "// 12.0f en 0.39f zijn de argumenten die worden meegegeven\n",
    "BerekenGasPrijs(12.0f, 0.39f);\n",
    "```\n",
    "\n",
    "Parameters kunnen van elk datatype zijn, inclusief `int`, `string`, `bool`, maar ook complexere types zoals lijsten, arrays en objecten die we later zullen behandelen. Het is een goede gewoonte om het aantal parameters beperkt te houden. Als een methode te veel parameters nodig heeft (meer dan 3 of 4), is dat vaak een teken dat de methode te veel verantwoordelijkheden heeft of dat de parameters beter gegroepeerd kunnen worden in een object."
   ]
  },
  {
   "cell_type": "markdown",
   "metadata": {},
   "source": [
    "## Return-waarden: een resultaat teruggeven\n",
    "\n",
    "Veel methodes voeren niet alleen een actie uit, maar produceren ook een resultaat dat je verder in je programma wilt gebruiken. Dit resultaat geef je terug met het `return`-statement.\n",
    "\n",
    "- Het datatype van de waarde na `return` moet overeenkomen met het **return type** in de methodedefinitie.\n",
    "- Zodra een `return`-statement wordt uitgevoerd, stopt de methode onmiddellijk. Code die na een `return` in hetzelfde logische pad staat, zal nooit worden uitgevoerd.\n",
    "\n",
    "```csharp\n",
    "int BerekenPrijs(int aantalItems)\n",
    "{\n",
    "    return 100 * aantalItems; \n",
    "    // Deze code is 'unreachable' en zal een compileerfout geven.\n",
    "    Console.WriteLine(\"Deze regel wordt nooit bereikt.\");\n",
    "}\n",
    "```\n",
    "### Meerdere `return`-statements\n",
    "Een methode kan meerdere `return`-statements bevatten, meestal in combinatie met `if-else` constructies. Dit is een veelgebruikt patroon om op basis van een conditie een ander resultaat terug te geven."
   ]
  },
  {
   "cell_type": "code",
   "execution_count": null,
   "metadata": {
    "polyglot_notebook": {
     "kernelName": "csharp"
    }
   },
   "outputs": [],
   "source": [
    "string GeefBeoordeling(int score)\n",
    "{\n",
    "    if (score >= 55)\n",
    "    {\n",
    "        return \"Voldoende\"; // Stopt hier als de score 55 of hoger is\n",
    "    }\n",
    "    // Dit wordt alleen bereikt als de if-conditie false was\n",
    "    return \"Onvoldoende\"; \n",
    "}"
   ]
  },
  {
   "cell_type": "markdown",
   "metadata": {},
   "source": [
    "### Methodes zonder return-waarde: `void`\n",
    "Methodes die wel een actie uitvoeren maar geen resultaat hoeven terug te geven (zoals `Console.WriteLine`), hebben als return type `void`. Dit betekent letterlijk 'leegte' of 'niets'. Een `void`-methode heeft geen `return`-statement met een waarde nodig. Bij vraag 1 schrijf je zelf een voorbeeld van een dergelijke methode."
   ]
  },
  {
   "cell_type": "markdown",
   "metadata": {},
   "source": [
    "## Methodes als expressies\n",
    "\n",
    "Een aanroep van een methode die een waarde teruggeeft, is zelf een **expressie**. Dit betekent dat je de aanroep overal kunt gebruiken waar je normaal een waarde van dat type zou gebruiken.\n",
    "\n",
    "- **Variabele toewijzing**: De return-waarde wordt direct opgeslagen in een variabele.\n",
    "  `int wortel = Math.Sqrt(16);`\n",
    "\n",
    "- **In een `if`- of `while`-conditie**: Als de methode een `bool` teruggeeft, kun je hem direct in een conditie gebruiken.\n",
    "  `if (IsValidPassword(invoer)) { ... }`\n",
    "\n",
    "- **Als parameter voor een andere methode**: De return-waarde van de ene methode dient als argument voor de andere.\n",
    "  `Console.WriteLine(BerekenPrijs(5));`\n",
    "\n",
    "Dit principe stelt je in staat om methodes te combineren tot krachtige en leesbare code. Wees echter voorzichtig met het te diep nesten van methode-aanroepen in parameters, omdat dit de leesbaarheid kan verminderen."
   ]
  },
  {
   "cell_type": "code",
   "execution_count": null,
   "metadata": {
    "polyglot_notebook": {
     "kernelName": "csharp"
    }
   },
   "outputs": [],
   "source": [
    "double BerekenBtw(double bedrag)\n",
    "{\n",
    "    return bedrag * 0.21;\n",
    "}\n",
    "\n",
    "double BerekenTotaalprijs(double prijsExclBtw)\n",
    "{\n",
    "    // De return-waarde van BerekenBtw wordt hier gebruikt in een berekening\n",
    "    return prijsExclBtw + BerekenBtw(prijsExclBtw);\n",
    "}\n",
    "\n",
    "// De return-waarde van BerekenTotaalprijs wordt hier gebruikt als argument\n",
    "Console.WriteLine($\"Totaalprijs: {BerekenTotaalprijs(100.0):C}\");"
   ]
  },
  {
   "cell_type": "markdown",
   "metadata": {},
   "source": [
    "# Vragen"
   ]
  },
  {
   "cell_type": "markdown",
   "metadata": {},
   "source": [
    "### Vraag 1: Groeten\n",
    "Schrijf een `void`-methode genaamd `GroetGebruiker` die een `string`-parameter `naam` accepteert en een persoonlijke groet print, bijvoorbeeld \"Hallo, [naam]!\"."
   ]
  },
  {
   "cell_type": "code",
   "execution_count": null,
   "metadata": {
    "polyglot_notebook": {
     "kernelName": "csharp"
    }
   },
   "outputs": [],
   "source": []
  },
  {
   "cell_type": "markdown",
   "metadata": {},
   "source": [
    "### Vraag 2: Vermenigvuldigen\n",
    "Schrijf een methode `Vermenigvuldig` die twee `double`-parameters accepteert en hun product als `double` teruggeeft."
   ]
  },
  {
   "cell_type": "code",
   "execution_count": null,
   "metadata": {
    "polyglot_notebook": {
     "kernelName": "csharp"
    }
   },
   "outputs": [],
   "source": []
  },
  {
   "cell_type": "markdown",
   "metadata": {},
   "source": [
    "### Vraag 3: Is het weekend?\n",
    "Schrijf een `bool`-methode `IsWeekend` die een `string`-parameter `dag` accepteert. De methode geeft `true` terug als de dag \"zaterdag\" of \"zondag\" is (ongeacht hoofdletters), en anders `false`."
   ]
  },
  {
   "cell_type": "code",
   "execution_count": null,
   "metadata": {
    "polyglot_notebook": {
     "kernelName": "csharp"
    }
   },
   "outputs": [],
   "source": []
  },
  {
   "cell_type": "markdown",
   "metadata": {},
   "source": [
    "### Vraag 4: Omtrek van een Cirkel\n",
    "Schrijf een methode `BerekenOmtrek` die de straal van een cirkel als `double`-parameter accepteert en de omtrek (`2 * π * straal`) als `double` teruggeeft. Gebruik de constante `Math.PI`."
   ]
  },
  {
   "cell_type": "code",
   "execution_count": null,
   "metadata": {
    "polyglot_notebook": {
     "kernelName": "csharp"
    }
   },
   "outputs": [],
   "source": []
  },
  {
   "cell_type": "markdown",
   "metadata": {},
   "source": [
    "### Vraag 5: Combineren van methodes\n",
    "Gebruik de `BerekenOmtrek`-methode uit de vorige vraag. Roep deze methode aan en geef de return-waarde direct door aan `Console.WriteLine` om het resultaat te printen voor een cirkel met straal 5."
   ]
  },
  {
   "cell_type": "code",
   "execution_count": null,
   "metadata": {
    "polyglot_notebook": {
     "kernelName": "csharp"
    }
   },
   "outputs": [],
   "source": []
  },
  {
   "cell_type": "markdown",
   "metadata": {},
   "source": [
    "### Vraag 6: Gemiddelde van Drie\n",
    "Schrijf een methode `BerekenGemiddelde` die drie `int`-parameters accepteert en het gemiddelde van deze drie getallen als `double` teruggeeft."
   ]
  },
  {
   "cell_type": "code",
   "execution_count": null,
   "metadata": {
    "polyglot_notebook": {
     "kernelName": "csharp"
    }
   },
   "outputs": [],
   "source": []
  },
  {
   "cell_type": "markdown",
   "metadata": {},
   "source": [
    "# Uitdagingen"
   ]
  },
  {
   "cell_type": "markdown",
   "metadata": {},
   "source": [
    "### Uitdaging 1: Tekst-analyse\n",
    "Schrijf een methode `AnalyseerTekst` die een `string` als parameter heeft. De methode moet het volgende doen, maar **geen** waarde teruggeven (void). In plaats daarvan print de methode de resultaten direct naar de console:\n",
    "- Het aantal karakters (inclusief spaties).\n",
    "- Het aantal woorden (ga ervan uit dat woorden gescheiden worden door een spatie).\n",
    "- Het aantal klinkers (ongeacht hoofdletters)."
   ]
  },
  {
   "cell_type": "code",
   "execution_count": null,
   "metadata": {
    "polyglot_notebook": {
     "kernelName": "csharp"
    }
   },
   "outputs": [],
   "source": []
  },
  {
   "cell_type": "markdown",
   "metadata": {},
   "source": [
    "### Uitdaging 2: Recursieve Faculteit\n",
    "Schrijf een *recursieve* methode `BerekenFaculteit` die de faculteit van een getal `n` berekent (n!). De faculteit van 5 (5!) is `5 * 4 * 3 * 2 * 1 = 120`. \n",
    "Denk aan het basisgeval: de faculteit van 0 is 1."
   ]
  },
  {
   "cell_type": "code",
   "execution_count": null,
   "metadata": {
    "polyglot_notebook": {
     "kernelName": "csharp"
    }
   },
   "outputs": [],
   "source": []
  }
 ],
 "metadata": {
  "kernelspec": {
   "display_name": ".NET (C#)",
   "language": "C#",
   "name": ".net-csharp"
  },
  "language_info": {
   "name": "polyglot-notebook"
  },
  "polyglot_notebook": {
   "kernelInfo": {
    "defaultKernelName": "csharp",
    "items": [
     {
      "aliases": [],
      "name": "csharp"
     }
    ]
   }
  }
 },
 "nbformat": 4,
 "nbformat_minor": 2
}
