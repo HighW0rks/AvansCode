{
 "cells": [
  {
   "cell_type": "markdown",
   "metadata": {},
   "source": [
    "# Conditionele statements (if, else if, else)"
   ]
  },
  {
   "cell_type": "markdown",
   "metadata": {},
   "source": [
    "## If-condities\n",
    "\n",
    "De meeste algoritmes werken op basis van keuzes. Hierbij kunnen er verschillende dingen gebeuren op basis van de keuzes die een algoritme maakt. Aan de basis van deze keuzes staat het if-statement. Het if-statement krijgt een expressie (de conditie) mee die waar of niet waar is, en op basis hiervan wordt een keuze gemaakt. Hierna kan een bepaald stuk code wel of niet uitgevoerd worden.\n",
    "\n",
    "### In flowcharts\n",
    "\n",
    "Deze keuze kun je in een flowchart duidelijk laten zien doordat de verschillende code-paden ook 2 lijnen zijn. Voor de keuze zelf wordt een ruit-symbool gebruikt, waar de conditie-expressie in staat.\n",
    "\n",
    "```mermaid\n",
    "flowchart LR\n",
    "  A[double verbruik = 12.5] --> AA[zonnepaneelOpbrengst = 10.2]\n",
    "  AA --> B{verbruik < zonnepaneelOpbrengst}\n",
    "  B --true--> C([\"#quot;Er zijn voldoende zonnepanelen#quot;\"])\n",
    "  B --false--> E[end]\n",
    "  C --> E\n",
    "```\n",
    "\n",
    "Uit het ruit-symbool komen 2 uitgaande lijnen, waarbij een van de pijlen gemarkeerd is met true en de ander met false. Als de conditie waar is, gaat de flow door naar het blok onder de true-pijl, zoniet gaat de flow verder naar het blok onder de false-pijl. Uiteindelijk komen deze flows altijd weer samen.\n",
    "\n",
    "### In Code\n",
    "\n",
    "Een if-statement wordt altijd opgevolgd door een conditie, tussen haakjes, met daarna een stuk code tussen accolades. De flowchart uit het eerdere hoofdstuk is in code.\n",
    "```csharp\n",
    "double verbruik = 12.5;\n",
    "double zonnepaneelOpbrengst = 10.2;\n",
    "if(verbruik < zonnepaneelOpbrengst)\n",
    "{\n",
    "    Console.WriteLine(\"Er zijn voldoende zonnepanelen\");\n",
    "}\n",
    "```\n",
    "\n",
    "Hierbij kunnen er dus meerdere regels code in het codeblock na de if staan. Let hierbij op:\n",
    "\n",
    "- De conditie staat tussen haakjes\n",
    "  ```csharp\n",
    "  if verbruik < opbrengst // fout\n",
    "  {\n",
    "\n",
    "  }\n",
    "  ```\n",
    "- De conditie is een boolean expressie\n",
    "  ```csharp\n",
    "  if(verbruik) // fout, verbruik is een getal\n",
    "  {\n",
    "\n",
    "  }\n",
    "  ```\n",
    "- Na de if moet **geen** `;` staan\n",
    "  ```csharp\n",
    "  if(verbruik < opbrengst); // fout, de code in de if wordt hier altijd uitgevoerd\n",
    "  {\n",
    "\n",
    "  }\n",
    "  ```\n",
    "- De code die na de `if` komt, staat tussen { }\n",
    "  ```csharp\n",
    "  if verbruik < opbrengst // fout\n",
    "    Console.WriteLine(\"Hallo\");\n",
    "    Console.WriteLine(\"Wereld\"); //deze regel wordt altijd uitgevoerd\n",
    "  ```\n",
    "\n",
    "### Nesting\n",
    "\n",
    "Het is ook mogelijk om in een if-blok, weer een if-blok te zetten. Dit is een handige manier om een complex if-statement te versimpelen, en kan soms nodig zijn als het `else` statement gebruikt word. Op deze manier kunnen verschillende condities samen afgevangen worden."
   ]
  },
  {
   "cell_type": "markdown",
   "metadata": {},
   "source": [
    "## Else\n",
    "\n",
    "Bij veel keuzes in een if-statement, is het ook mogelijk om een stuk code uit te voeren als de conditie niet waar is. Dit kan met het else-statement gedaan worden. De code onder het else-statement wordt uitgevoerd zodra de conditie in de if niet waar is.  \n",
    "\n",
    "In een flowchart kan dit aangegeven worden door een blok code weg te zetten bij de false-tak van het if-blok\n",
    "```mermaid\n",
    "flowchart LR\n",
    "  A[double verbruik = 12.5] --> AA[zonnepaneelOpbrengst = 10.2]\n",
    "  AA --> B{verbruik < zonnepaneelOpbrengst}\n",
    "  B --true--> C([\"#quot;Er zijn voldoende zonnepanelen#quot;\"])\n",
    "  B --false--> D([\"#quot;Je kunt meer zonnepanelen gebruiken#quot;\"])\n",
    "  C --> E[end]\n",
    "  D --> E[end]\n",
    "```\n",
    "In code ziet dit er als volgt uit\n",
    "```csharp\n",
    "double verbruik = 12.5;\n",
    "double zonnepaneelOpbrengst = 10.2;\n",
    "if(verbruik < zonnePaneelOpbrengst)\n",
    "{\n",
    "    Console.WriteLine(\"Er zijn voldoende zonnepanelen\");\n",
    "}\n",
    "else\n",
    "{\n",
    "  Console.WriteLine(\"Je kunt meer zonnepanelen gebruiken\");\n",
    "}\n",
    "```"
   ]
  },
  {
   "cell_type": "markdown",
   "metadata": {},
   "source": [
    "## Else If\n",
    "\n",
    "Soms wil je na een `if` niet direct een 'vangnet' (`else`), maar een andere specifieke conditie controleren. Daarvoor gebruik je `else if`. De code onder het `else if`-statement wordt alleen uitgevoerd als de conditie in de `if` *niet waar* is, én de conditie van de `else if` zelf *wel waar* is.\n",
    "\n",
    "Je kunt meerdere `else if`-statements achter elkaar gebruiken om een keten van controles te maken. Een `else` aan het einde kan als 'default' optie dienen voor als geen van de voorgaande condities waar was.\n",
    "\n",
    "### Flowchart\n",
    "```mermaid\n",
    "flowchart TD\n",
    "    IC{If Conditie}\n",
    "    IB([Codeblok If])\n",
    "    EIC{Else if Conditie}\n",
    "    EIB([Codeblok Else If])\n",
    "    EB([Codeblok Else])\n",
    "    END[Einde]\n",
    "\n",
    "    IC --true--> IB\n",
    "    IC --false--> EIC\n",
    "    EIC --true--> EIB\n",
    "    EIC --false--> EB\n",
    "    IB --> END\n",
    "    EIB --> END\n",
    "    EB --> END\n",
    "```\n",
    "### Voorbeeld in Code\n",
    "Hieronder zie je hoe je met `if`, `else if` en `else` kunt bepalen welk type meter er is."
   ]
  },
  {
   "cell_type": "code",
   "execution_count": null,
   "metadata": {
    "polyglot_notebook": {
     "kernelName": "csharp"
    }
   },
   "outputs": [],
   "source": [
    "string meter = \"Waterstof\";\n",
    "\n",
    "if (meter == \"Elektriciteit\") \n",
    "{\n",
    "  Console.WriteLine(\"Elektriciteitsmeter\");\n",
    "}\n",
    "else if (meter == \"Water\")\n",
    "{\n",
    "  Console.WriteLine(\"Watermeter\");\n",
    "}\n",
    "else if (meter == \"Gas\")  \n",
    "{\n",
    "  Console.WriteLine(\"Gasmeter\");\n",
    "}\n",
    "else\n",
    "{\n",
    "  // default als alle bovenstaande if / else if statements false zijn\n",
    "  Console.WriteLine(\"Onbekende meter\");  \n",
    "}"
   ]
  },
  {
   "cell_type": "markdown",
   "metadata": {},
   "source": [
    "# Vragen"
   ]
  },
  {
   "cell_type": "markdown",
   "metadata": {},
   "source": [
    "### Vraag 1: Vriest het of niet?\n",
    "Schrijf een programma dat een temperatuur van de gebruiker vraagt. Als de temperatuur onder de 0 is, print je \"Het vriest.\". Anders print je \"Het dooit.\""
   ]
  },
  {
   "cell_type": "code",
   "execution_count": null,
   "metadata": {
    "polyglot_notebook": {
     "kernelName": "csharp"
    }
   },
   "outputs": [],
   "source": []
  },
  {
   "cell_type": "markdown",
   "metadata": {},
   "source": [
    "### Vraag 2: Toegang tot de club\n",
    "Een club hanteert een leeftijdsgrens van 18 jaar. Vraag de gebruiker naar zijn/haar leeftijd en print \"Welkom in de club!\" als de persoon 18 of ouder is, en anders \"Sorry, je bent te jong.\""
   ]
  },
  {
   "cell_type": "code",
   "execution_count": null,
   "metadata": {
    "polyglot_notebook": {
     "kernelName": "csharp"
    }
   },
   "outputs": [],
   "source": []
  },
  {
   "cell_type": "markdown",
   "metadata": {},
   "source": [
    "### Vraag 3: Positief, negatief of nul?\n",
    "Vraag een getal aan de gebruiker en bepaal of het getal positief, negatief of nul is. Gebruik hiervoor een `if-else if-else` structuur."
   ]
  },
  {
   "cell_type": "code",
   "execution_count": null,
   "metadata": {
    "polyglot_notebook": {
     "kernelName": "csharp"
    }
   },
   "outputs": [],
   "source": []
  },
  {
   "cell_type": "markdown",
   "metadata": {},
   "source": [
    "### Vraag 4: Cijfer bepalen\n",
    "Voor een toets zijn 100 punten te behalen. De beoordeling wordt als volgt bepaald:\n",
    "- 90-100: A\n",
    "- 80-89: B\n",
    "- 70-79: C\n",
    "- 60-69: D\n",
    "- < 60: F\n",
    "\n",
    "Schrijf een programma dat het aantal punten vraagt en de bijbehorende letterbeoordeling print."
   ]
  },
  {
   "cell_type": "code",
   "execution_count": null,
   "metadata": {
    "polyglot_notebook": {
     "kernelName": "csharp"
    }
   },
   "outputs": [],
   "source": []
  },
  {
   "cell_type": "markdown",
   "metadata": {},
   "source": [
    "### Vraag 5: Kortingschecker\n",
    "Een winkel geeft 10% korting op aankopen van meer dan 100 euro. Vraag de gebruiker om het aankoopbedrag en bereken de uiteindelijke prijs. Print de originele prijs, de korting (als die er is) en de definitieve prijs."
   ]
  },
  {
   "cell_type": "code",
   "execution_count": null,
   "metadata": {
    "polyglot_notebook": {
     "kernelName": "csharp"
    }
   },
   "outputs": [],
   "source": []
  },
  {
   "cell_type": "markdown",
   "metadata": {},
   "source": [
    "### Vraag 6: Wachtwoordlengte\n",
    "Vraag de gebruiker om een wachtwoord. Controleer of het wachtwoord 8 of meer karakters heeft. Print \"Wachtwoord is sterk genoeg\" of \"Wachtwoord is te kort.\""
   ]
  },
  {
   "cell_type": "code",
   "execution_count": null,
   "metadata": {
    "polyglot_notebook": {
     "kernelName": "csharp"
    }
   },
   "outputs": [],
   "source": []
  },
  {
   "cell_type": "markdown",
   "metadata": {},
   "source": [
    "### Vraag 7: Grootste van twee getallen\n",
    "Vraag de gebruiker om twee getallen in te voeren. Print welk van de twee getallen het grootste is. Als ze gelijk zijn, geef dat dan ook aan."
   ]
  },
  {
   "cell_type": "code",
   "execution_count": null,
   "metadata": {
    "polyglot_notebook": {
     "kernelName": "csharp"
    }
   },
   "outputs": [],
   "source": []
  },
  {
   "cell_type": "markdown",
   "metadata": {},
   "source": [
    "### Vraag 8: Bevat het woord \"Avans\"?\n",
    "Vraag de gebruiker om een zin in te voeren. Controleer of het woord \"Avans\" (ongeacht hoofdletters) in de zin voorkomt en print een passende boodschap."
   ]
  },
  {
   "cell_type": "code",
   "execution_count": null,
   "metadata": {
    "polyglot_notebook": {
     "kernelName": "csharp"
    }
   },
   "outputs": [],
   "source": []
  },
  {
   "cell_type": "markdown",
   "metadata": {},
   "source": [
    "### Vraag 9: Weekend of werkdag?\n",
    "Vraag de gebruiker om een dag van de week in te voeren. Print \"Het is weekend!\" als de gebruiker \"zaterdag\" of \"zondag\" invoert, en anders \"Het is een werkdag.\""
   ]
  },
  {
   "cell_type": "code",
   "execution_count": null,
   "metadata": {
    "polyglot_notebook": {
     "kernelName": "csharp"
    }
   },
   "outputs": [],
   "source": []
  },
  {
   "cell_type": "markdown",
   "metadata": {},
   "source": [
    "### Vraag 10: Positieve getallen optellen\n",
    "Vraag vier getallen aan de gebruiker. Tel alleen de getallen bij elkaar op die positief zijn (groter dan 0) en print de totale som."
   ]
  },
  {
   "cell_type": "code",
   "execution_count": null,
   "metadata": {
    "polyglot_notebook": {
     "kernelName": "csharp"
    }
   },
   "outputs": [],
   "source": []
  },
  {
   "cell_type": "markdown",
   "metadata": {},
   "source": [
    "# Uitdagingen"
   ]
  },
  {
   "cell_type": "markdown",
   "metadata": {},
   "source": [
    "### Uitdaging 1: FizzBuzz\n",
    "Vraag een getal aan de gebruiker. Print vervolgens:\n",
    "- \"FizzBuzz\" als het getal deelbaar is door zowel 3 als 5.\n",
    "- \"Fizz\" als het getal alleen deelbaar is door 3.\n",
    "- \"Buzz\" als het getal alleen deelbaar is door 5.\n",
    "- Het getal zelf in alle andere gevallen."
   ]
  },
  {
   "cell_type": "code",
   "execution_count": null,
   "metadata": {
    "polyglot_notebook": {
     "kernelName": "csharp"
    }
   },
   "outputs": [],
   "source": []
  },
  {
   "cell_type": "markdown",
   "metadata": {},
   "source": [
    "### Uitdaging 2: Driehoek typering\n",
    "Vraag de gebruiker om de lengte van drie zijden (a, b, en c). Bepaal en print vervolgens wat voor soort driehoek het is:\n",
    "\n",
    "1. Controleer eerst of de zijden een geldige driehoek kunnen vormen. (Tip: de som van de lengtes van twee willekeurige zijden moet altijd groter zijn dan de lengte van de derde zijde).\n",
    "2. Als het een geldige driehoek is, bepaal dan of het een:\n",
    "    - **Gelijkzijdige** driehoek is (alle zijden zijn gelijk).\n",
    "    - **Gelijkbenige** driehoek is (precies twee zijden zijn gelijk).\n",
    "    - **Ongelijkzijdige** driehoek is (alle zijden hebben een andere lengte)."
   ]
  },
  {
   "cell_type": "code",
   "execution_count": null,
   "metadata": {
    "polyglot_notebook": {
     "kernelName": "csharp"
    }
   },
   "outputs": [],
   "source": []
  },
  {
   "cell_type": "markdown",
   "metadata": {},
   "source": [
    "### Uitdaging 3: (Simpele) rekenmachine\n",
    "Maak een (eenvoudige) rekenmachine. Vraag de gebruiker om twee getallen en een operator (`+`, `-`, `*` of `/`). Voer de berekening uit en print het resultaat. Zorg ervoor dat je een melding geeft als de gebruiker probeert door nul te delen."
   ]
  },
  {
   "cell_type": "code",
   "execution_count": null,
   "metadata": {
    "polyglot_notebook": {
     "kernelName": "csharp"
    }
   },
   "outputs": [],
   "source": []
  }
 ],
 "metadata": {
  "kernelspec": {
   "display_name": ".NET (C#)",
   "language": "C#",
   "name": ".net-csharp"
  },
  "language_info": {
   "name": "polyglot-notebook"
  },
  "polyglot_notebook": {
   "kernelInfo": {
    "defaultKernelName": "csharp",
    "items": [
     {
      "aliases": [],
      "name": "csharp"
     }
    ]
   }
  }
 },
 "nbformat": 4,
 "nbformat_minor": 2
}
