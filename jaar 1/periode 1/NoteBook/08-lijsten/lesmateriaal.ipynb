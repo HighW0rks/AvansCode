{
 "cells": [
  {
   "cell_type": "markdown",
   "metadata": {},
   "source": [
    "# Werken met verzamelingen - de List<T>\n",
    "\n",
    "Tot nu toe hebben we voornamelijk met losse variabelen gewerkt om data op te slaan. In de praktijk wil je echter vaak een groep van gerelateerde data bij elkaar houden: een lijst met studentennamen, een reeks metingen van een sensor, of de opbrengst van je zonnepanelen per dag. Het is onpraktisch om hiervoor tientallen losse variabelen aan te maken (`meting1`, `meting2`, etc.).\n",
    "\n",
    "Daarom introduceren we **collecties**. Een collectie is een object dat een groep van andere objecten kan bevatten. De meest gebruikte en flexibele collectie in C# is de `List<T>`, en daar gaan we ons in deze les op richten."
   ]
  },
  {
   "cell_type": "markdown",
   "metadata": {},
   "source": [
    "## De `List<T>`: Een dynamische verzameling\n",
    "\n",
    "Binnen C# is een `List<T>` een dynamische datastructuur. 'Dynamisch' betekent dat de grootte niet van tevoren vaststaat; je kunt er op elk moment elementen aan toevoegen of uit verwijderen. De `T` in `List<T>` staat voor het **type** data dat je in de lijst wilt opslaan. Dit zorgt voor type-veiligheid: een `List<int>` kan alleen integers bevatten, een `List<string>` alleen strings.\n",
    "\n",
    "### Initialisatie\n",
    "Je kunt een lijst op verschillende manieren initialiseren. De moderne en aanbevolen manier is met de 'collection expression' `[]`. Je kunt een lijst leeg aanmaken of direct vullen met startwaarden."
   ]
  },
  {
   "cell_type": "code",
   "execution_count": null,
   "metadata": {
    "polyglot_notebook": {
     "kernelName": "csharp"
    }
   },
   "outputs": [],
   "source": [
    "// Een lege lijst voor integers initialiseren\n",
    "List<int> scores = [];\n",
    "\n",
    "// Een lijst met strings direct vullen met data\n",
    "List<string> namen = [\"Anna\", \"Ben\", \"Clara\"];\n",
    "\n",
    "// Oudere, maar nog steeds veelvoorkomende manieren:\n",
    "// List<int> oudeManier1 = new List<int>();\n",
    "// List<int> oudeManier2 = new();"
   ]
  },
  {
   "cell_type": "markdown",
   "metadata": {},
   "source": [
    "## Elementen Toevoegen en Uitlezen\n",
    "\n",
    "### Toevoegen met `.Add()`\n",
    "Om een nieuw element aan het einde van een bestaande lijst toe te voegen, gebruik je de `Add()`-methode."
   ]
  },
  {
   "cell_type": "code",
   "execution_count": null,
   "metadata": {
    "polyglot_notebook": {
     "kernelName": "csharp"
    }
   },
   "outputs": [],
   "source": [
    "List<int> solarProfits = []; // We maken een lege lijst aan\n",
    "\n",
    "solarProfits.Add(100);\n",
    "solarProfits.Add(12);\n",
    "solarProfits.Add(1000);"
   ]
  },
  {
   "cell_type": "markdown",
   "metadata": {},
   "source": [
    "### Uitlezen van Elementen\n",
    "Je kunt op twee manieren door de elementen van een lijst gaan:\n",
    "\n",
    "**1. Met een `foreach`-lus (de voorkeursmethode)**\n",
    "De `foreach`-lus is de eenvoudigste en meest leesbare manier om elk item in een collectie te doorlopen."
   ]
  },
  {
   "cell_type": "code",
   "execution_count": null,
   "metadata": {
    "polyglot_notebook": {
     "kernelName": "csharp"
    }
   },
   "outputs": [],
   "source": [
    "List<int> solarProfits = [10, 4, 9, 12, 90, 165];\n",
    "\n",
    "foreach(int profit in solarProfits)\n",
    "{\n",
    "    Console.WriteLine(profit);\n",
    "}"
   ]
  },
  {
   "cell_type": "markdown",
   "metadata": {},
   "source": [
    "**2. Met een `for`-lus en een index**\n",
    "Soms heb je de positie (de **index**) van een element nodig. De `for`-lus is hiervoor geschikt. De property `.Count` geeft het totale aantal elementen in de lijst terug.\n",
    "\n",
    "**Belangrijk:** De index van een lijst begint altijd bij **0**. Het eerste element staat op index 0, het tweede op index 1, enzovoort. Het laatste element staat dus op index `Count - 1`."
   ]
  },
  {
   "cell_type": "code",
   "execution_count": null,
   "metadata": {
    "polyglot_notebook": {
     "kernelName": "csharp"
    }
   },
   "outputs": [],
   "source": [
    "List<int> solarProfits = [10, 4, 9, 12];\n",
    "\n",
    "// i loopt van 0 tot 3 (want solarProfits.Count is 4)\n",
    "for (int i = 0; i < solarProfits.Count; i++)\n",
    "{\n",
    "    // Met de indexer [i] vraag je het element op die positie op.\n",
    "    Console.WriteLine($\"Element op index {i} is {solarProfits[i]}\");\n",
    "}\n",
    "\n",
    "// Een los element ophalen\n",
    "Console.WriteLine(\"Het derde element is: \" + solarProfits[2]); // index 2"
   ]
  },
  {
   "cell_type": "markdown",
   "metadata": {},
   "source": [
    "# Vragen"
   ]
  },
  {
   "cell_type": "markdown",
   "metadata": {},
   "source": [
    "### Vraag 1: Boodschappenlijst\n",
    "Maak een `List<string>` voor een boodschappenlijst. Voeg de items \"Melk\", \"Brood\" en \"Eieren\" toe. Print vervolgens elk item op een nieuwe regel naar de console."
   ]
  },
  {
   "cell_type": "code",
   "execution_count": null,
   "metadata": {
    "polyglot_notebook": {
     "kernelName": "csharp"
    }
   },
   "outputs": [],
   "source": []
  },
  {
   "cell_type": "markdown",
   "metadata": {},
   "source": [
    "### Vraag 2: Toegang tot een element\n",
    "Gegeven is de onderstaande lijst met weekdagen. Schrijf code die specifiek het derde element (\"Woensdag\") ophaalt en naar de console print."
   ]
  },
  {
   "cell_type": "code",
   "execution_count": null,
   "metadata": {
    "polyglot_notebook": {
     "kernelName": "csharp"
    }
   },
   "outputs": [],
   "source": [
    "List<string> dagen = [\"Maandag\", \"Dinsdag\", \"Woensdag\", \"Donderdag\", \"Vrijdag\"];"
   ]
  },
  {
   "cell_type": "markdown",
   "metadata": {},
   "source": [
    "### Vraag 3: Dynamisch vullen\n",
    "Maak een lege `List<string>`. Vraag de gebruiker om drie favoriete films en voeg elke film toe aan de lijst met de `Add()`-methode. Print na afloop de volledige lijst."
   ]
  },
  {
   "cell_type": "code",
   "execution_count": null,
   "metadata": {
    "polyglot_notebook": {
     "kernelName": "csharp"
    }
   },
   "outputs": [],
   "source": []
  },
  {
   "cell_type": "markdown",
   "metadata": {},
   "source": [
    "### Vraag 4: Aantal elementen\n",
    "Schrijf code die het aantal elementen in de onderstaande lijst telt met de `.Count` property en dit aantal print."
   ]
  },
  {
   "cell_type": "code",
   "execution_count": null,
   "metadata": {
    "polyglot_notebook": {
     "kernelName": "csharp"
    }
   },
   "outputs": [],
   "source": [
    "List<int> scores = [10, 4, 9, 12, 90, 165];"
   ]
  },
  {
   "cell_type": "markdown",
   "metadata": {},
   "source": [
    "### Vraag 5: Het laatste element\n",
    "Schrijf code die, ongeacht de grootte van de lijst, altijd het *laatste* element van een `List<string>` ophaalt en print. Tip: gebruik de `.Count` property om de laatste index te berekenen."
   ]
  },
  {
   "cell_type": "code",
   "execution_count": null,
   "metadata": {
    "polyglot_notebook": {
     "kernelName": "csharp"
    }
   },
   "outputs": [],
   "source": []
  },
  {
   "cell_type": "markdown",
   "metadata": {},
   "source": [
    "# Uitdagingen"
   ]
  },
  {
   "cell_type": "markdown",
   "metadata": {},
   "source": [
    "### Uitdaging 1: Zoek een specifiek item\n",
    "Vraag de gebruiker om een naam. Doorloop een `List<string>` met namen en controleer of de ingevoerde naam in de lijst voorkomt. Print een van de volgende berichten: \"[Naam] staat in de lijst.\" of \"[Naam] staat niet in de lijst.\""
   ]
  },
  {
   "cell_type": "code",
   "execution_count": null,
   "metadata": {
    "polyglot_notebook": {
     "kernelName": "csharp"
    }
   },
   "outputs": [],
   "source": []
  },
  {
   "cell_type": "markdown",
   "metadata": {},
   "source": [
    "### Uitdaging 2: Filter en kopieer\n",
    "Maak een `List<int>` met een reeks getallen (zowel positief als negatief). Maak een tweede, lege `List<int>`. Itereer over de eerste lijst en voeg alleen de getallen die groter zijn dan 0 toe aan de tweede lijst. Print aan het einde de inhoud van de tweede (gefilterde) lijst."
   ]
  },
  {
   "cell_type": "code",
   "execution_count": null,
   "metadata": {
    "polyglot_notebook": {
     "kernelName": "csharp"
    }
   },
   "outputs": [],
   "source": []
  },
  {
   "cell_type": "markdown",
   "metadata": {},
   "source": [
    "### Uitdaging 3: Omgekeerde lijst\n",
    "Gegeven een `List<string>`, maak een nieuwe `List<string>` die dezelfde elementen bevat, maar dan in omgekeerde volgorde. Gebruik hiervoor een `for`-lus die van achteren naar voren door de originele lijst loopt."
   ]
  },
  {
   "cell_type": "code",
   "execution_count": null,
   "metadata": {
    "polyglot_notebook": {
     "kernelName": "csharp"
    }
   },
   "outputs": [],
   "source": []
  }
 ],
 "metadata": {
  "kernelspec": {
   "display_name": ".NET (C#)",
   "language": "C#",
   "name": ".net-csharp"
  },
  "language_info": {
   "name": "polyglot-notebook"
  },
  "polyglot_notebook": {
   "kernelInfo": {
    "defaultKernelName": "csharp",
    "items": [
     {
      "aliases": [],
      "name": "csharp"
     }
    ]
   }
  }
 },
 "nbformat": 4,
 "nbformat_minor": 2
}
