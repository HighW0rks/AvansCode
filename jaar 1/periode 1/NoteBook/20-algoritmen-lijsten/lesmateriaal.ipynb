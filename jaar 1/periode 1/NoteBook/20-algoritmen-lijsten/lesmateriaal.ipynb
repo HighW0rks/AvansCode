{
 "cells": [
  {
   "cell_type": "markdown",
   "metadata": {},
   "source": [
    "# Lijsten van Lijsten en 2D Data\n",
    "\n",
    "We hebben tot nu toe gewerkt met 'platte' lijsten, zoals `List<int>` of `List<string>`, die een enkele reeks van data bevatten. Maar wat als we data willen opslaan die van nature een tweedimensionale structuur heeft, zoals een tabel, een speelveld (denk aan een schaakbord) of een afbeelding (een grid van pixels)?\n",
    "\n",
    "Hiervoor gebruiken we een krachtig concept: de **lijst van lijsten**. In C# wordt dit vaak geïmplementeerd als een `List<List<T>>`. Dit stelt ons in staat om complexe, gelaagde datastructuren op een flexibele en dynamische manier te beheren."
   ]
  },
  {
   "cell_type": "markdown",
   "metadata": {},
   "source": [
    "## Generics en de `List<T>`\n",
    "\n",
    "Voordat we in lijsten van lijsten duiken, is het belangrijk om het `<T>`-gedeelte goed te begrijpen. De `List<T>` in C# is een **generieke collectie**. Het woord 'generiek' betekent hier dat de lijst ontworpen is om met *elk* datatype te werken. De `T` is een **type parameter**, een placeholder die je bij het aanmaken van de lijst vervangt door het specifieke datatype dat je wilt opslaan.\n",
    "\n",
    "- Als je een lijst van getallen wilt, vervang je `T` door `int`: `List<int>`.\n",
    "- Als je een lijst van teksten wilt, vervang je `T` door `string`: `List<string>`.\n",
    "- Als je een lijst van boeken wilt (uitgaande van een `Boek` klasse), vervang je `T` door `Boek`: `List<Boek>`.\n",
    "\n",
    "Het grote voordeel hiervan is **type-veiligheid**. De compiler weet welk type data er in de lijst hoort en zal een fout geven als je probeert een verkeerd type toe te voegen. Je kunt geen `string` toevoegen aan een `List<int>`."
   ]
  },
  {
   "cell_type": "markdown",
   "metadata": {},
   "source": [
    "## Een Lijst van lijsten (`List<List<T>>`) 🤯\n",
    "\n",
    "Het concept van generics wordt pas echt krachtig als we ons realiseren dat het type `T` zelf ook weer een lijst kan zijn. Een `List<List<T>>` is precies wat de naam suggereert: een lijst waarvan elk element zelf weer een lijst is. Je kunt dit visualiseren als een tabel of een grid:\n",
    "\n",
    "- De **buitenste lijst** representeert de **rijen**.\n",
    "- Elke **binnenste lijst** representeert de **kolommen** binnen een specifieke rij.\n",
    "\n",
    "In tegenstelling tot een tweedimensionale array (`T[,]`), waarbij het aantal rijen en kolommen vastligt bij de creatie, is een `List<List<T>>` volledig dynamisch. Je kunt op elk moment rijen (binnenste lijsten) toevoegen of verwijderen, en ook het aantal kolommen per rij kan in principe variëren.\n",
    "\n",
    "### Voorbeeld: Klassen en groepen\n",
    "Laten we een praktisch voorbeeld bekijken. We willen een klaslokaal modelleren dat is opgedeeld in meerdere projectgroepen. Elke groep heeft een wisselend aantal studenten."
   ]
  },
  {
   "cell_type": "code",
   "execution_count": null,
   "metadata": {
    "polyglot_notebook": {
     "kernelName": "csharp"
    }
   },
   "outputs": [],
   "source": [
    "// We maken een groep aan en voegen studenten toe\n",
    "List<string> groepG1 = [\"Jan\", \"Stan\", \"Jarmo\", \"Lars\"];\n",
    "\n",
    "// We maken nog een groep aan en voegen studenten toe\n",
    "List<string> groepG2 = [\"Tijl\", \"Thijmen\", \"Beatrijs\"]; \n",
    "groepG2.Add(\"Stijn\"); // Stijn is altijd te laat, dus voegen we later toe aan de groep\n",
    "\n",
    "// We maken een 'lijst van lijsten' om de klas te representeren en voegen de groepen toe\n",
    "// Het type T is hier List<string>\n",
    "List<List<string>> klasG = [groepG1, groepG2];\n",
    "\n",
    "// Groep G3 voegen we in zijn geheel later toe aan de klas\n",
    "klasG.Add([\"Olivier\", \"Simon\", \"Anas\", \"Marc\"]);\n",
    "\n",
    "// We kunnen ook een student toevoegen aan een specifieke groep binnen de klas\n",
    "// We voegen Nicole toe aan de tweede groep (op index 1)\n",
    "klasG[1].Add(\"Nicole\");\n",
    "\n",
    "// Om door deze structuur te itereren, gebruiken we geneste lussen\n",
    "foreach (var groep in klasG)\n",
    "{\n",
    "    Console.WriteLine(\"Nieuwe groep:\");\n",
    "    foreach (var student in groep)\n",
    "    {\n",
    "        Console.Write(student + \" \");\n",
    "    }\n",
    "    Console.WriteLine(\"\\n\");\n",
    "}\n",
    "\n",
    "// Om een enkele student (Lars) op te halen, gebruiken we dubbele indexering: [rij][kolom]\n",
    "Console.WriteLine(\"De vierde student in de eerste groep is: \" + klasG[0][3]);"
   ]
  },
  {
   "cell_type": "markdown",
   "metadata": {},
   "source": [
    "# Vragen"
   ]
  },
  {
   "cell_type": "markdown",
   "metadata": {},
   "source": [
    "### Vraag 1: Dagelijks verbruik\n",
    "De onderstaande `List<List<double>>` bevat het energieverbruik per dag voor gas, water en licht. De eerste binnenlijst bevat het gasverbruik, de tweede het waterverbruik, en de derde het elektriciteitsverbruik. Elk element binnen die lijsten representeert een dag.\n",
    "Schrijf een algoritme dat door deze data itereert en voor elke dag een overzicht print, zoals hieronder:\n",
    "```\n",
    "Dag 1: 6.4 m3 gas, 0.4 m3 water, 10.8 kWh elektriciteit\n",
    "Dag 2: 5.4 m3 gas, 0.6 m3 water, 11.8 kWh elektriciteit\n",
    "etc.\n",
    "```\n",
    "**Let op:** Je mag ervan uitgaan dat alle binnenlijsten even lang zijn."
   ]
  },
  {
   "cell_type": "code",
   "execution_count": null,
   "metadata": {
    "polyglot_notebook": {
     "kernelName": "csharp"
    }
   },
   "outputs": [],
   "source": [
    "// Gegeven lijsten voor gas-, water- en elektriciteitsverbruik per dag\n",
    "List<List<double>> verbruikLijsten = [\n",
    "  [6.4, 5.4, 7.2, 6.8, 8.1 ], // Gasverbruik (index 0)\n",
    "  [0.4, 0.6, 0.5, 0.7, 0.8 ], // Waterverbruik (index 1)\n",
    "  [10.8, 11.8, 12.5, 13.2, 14.0] // Elektriciteitsverbruik (index 2)\n",
    "];\n",
    "\n",
    "// Plaats hier jouw code"
   ]
  },
  {
   "cell_type": "markdown",
   "metadata": {},
   "source": [
    "### Vraag 2: Een waarde opvragen\n",
    "Gebruik de `verbruikLijsten` uit de vorige vraag. Schrijf code die specifiek het waterverbruik op dag 3 ophaalt en naar de console print."
   ]
  },
  {
   "cell_type": "code",
   "execution_count": null,
   "metadata": {
    "polyglot_notebook": {
     "kernelName": "csharp"
    }
   },
   "outputs": [],
   "source": []
  },
  {
   "cell_type": "markdown",
   "metadata": {},
   "source": [
    "### Vraag 3: Een rij toevoegen\n",
    "Neem de `verbruikLijsten` uit Vraag 1. Voeg een nieuwe, volledige lijst toe aan de hoofdlijst die het teruggeleverde vermogen van zonnepanelen representeert. Print daarna het totaal aantal lijsten (dus het aantal rijen) in de hoofdlijst."
   ]
  },
  {
   "cell_type": "code",
   "execution_count": null,
   "metadata": {
    "polyglot_notebook": {
     "kernelName": "csharp"
    }
   },
   "outputs": [],
   "source": []
  },
  {
   "cell_type": "markdown",
   "metadata": {},
   "source": [
    "# Uitdagingen"
   ]
  },
  {
   "cell_type": "markdown",
   "metadata": {},
   "source": [
    "### Uitdaging 1: Transponeren van een matrix\n",
    "Schrijf een methode `TransponeerMatrix` die een `List<List<int>>` als input accepteert. De methode moet de matrix 'transponeren', wat betekent dat de rijen kolommen worden en de kolommen rijen worden. De methode geeft de nieuwe, getransponeerde matrix terug.\n",
    "\n",
    "**Voorbeeld:**\n",
    "Input:\n",
    "```\n",
    "1, 2, 3\n",
    "4, 5, 6\n",
    "```\n",
    "Output:\n",
    "```\n",
    "1, 4\n",
    "2, 5\n",
    "3, 6\n",
    "```\n",
    "**Tip:** Maak eerst een nieuwe, lege resultaatlijst aan met de juiste nieuwe dimensies (aantal kolommen van de input wordt het aantal rijen van de output). Gebruik vervolgens geneste lussen om de elementen over te zetten."
   ]
  },
  {
   "cell_type": "code",
   "execution_count": null,
   "metadata": {
    "polyglot_notebook": {
     "kernelName": "csharp"
    }
   },
   "outputs": [],
   "source": []
  },
  {
   "cell_type": "markdown",
   "metadata": {},
   "source": [
    "### Uitdaging 2: Som per rij\n",
    "Gegeven is een `List<List<int>>`. Schrijf een programma dat voor elke rij (elke binnenste lijst) de som van de getallen berekent en deze print. De output zou er als volgt uit moeten zien:\n",
    "```\n",
    "Som van rij 0 is: 6\n",
    "Som van rij 1 is: 15\n",
    "```"
   ]
  },
  {
   "cell_type": "code",
   "execution_count": null,
   "metadata": {
    "polyglot_notebook": {
     "kernelName": "csharp"
    }
   },
   "outputs": [],
   "source": []
  }
 ],
 "metadata": {
  "kernelspec": {
   "display_name": ".NET (C#)",
   "language": "C#",
   "name": ".net-csharp"
  },
  "language_info": {
   "name": "polyglot-notebook"
  },
  "polyglot_notebook": {
   "kernelInfo": {
    "defaultKernelName": "csharp",
    "items": [
     {
      "aliases": [],
      "name": "csharp"
     }
    ]
   }
  }
 },
 "nbformat": 4,
 "nbformat_minor": 2
}
