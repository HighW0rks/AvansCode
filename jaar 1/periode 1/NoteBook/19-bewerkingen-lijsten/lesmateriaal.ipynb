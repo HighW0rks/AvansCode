{
 "cells": [
  {
   "cell_type": "markdown",
   "metadata": {},
   "source": [
    "# Verzamelingen manipuleren\n",
    "\n",
    "In de vorige les hebben we kennisgemaakt met de `List<T>` als een dynamische manier om data te verzamelen. We weten hoe we een lijst kunnen aanmaken, vullen en de elementen kunnen uitlezen met lussen.\n",
    "\n",
    "Nu gaan we een stap verder. Een collectie is pas echt krachtig als je de inhoud ervan kunt manipuleren: elementen wijzigen, verwijderen, sorteren, en er efficiënt in kunt zoeken. In deze les behandelen we de meest voorkomende operaties die je op een `List<T>` kunt uitvoeren."
   ]
  },
  {
   "cell_type": "markdown",
   "metadata": {},
   "source": [
    "## Elementen wijzigen en verwijderen\n",
    "\n",
    "Nadat een lijst is aangemaakt, is deze niet statisch. Je kunt de inhoud ervan op elk moment aanpassen.\n",
    "\n",
    "### Een element wijzigen\n",
    "Om de waarde van een specifiek element te wijzigen, gebruik je de indexer (`[]`) in combinatie met een toewijzing. Je spreekt een element aan op zijn positie (index) en geeft het een nieuwe waarde."
   ]
  },
  {
   "cell_type": "code",
   "execution_count": null,
   "metadata": {
    "polyglot_notebook": {
     "kernelName": "csharp"
    }
   },
   "outputs": [],
   "source": [
    "List<int> solarProfits = [ 10, 4, 9, 12, 90, 165 ];\n",
    "\n",
    "// We wijzigen de waarde op index 3 (het 4e element) van 12 naar 25.\n",
    "solarProfits[3] = 25;\n",
    "// De lijst is nu: [ 10, 4, 9, 25, 90, 165 ]"
   ]
  },
  {
   "cell_type": "markdown",
   "metadata": {},
   "source": [
    "### Elementen verwijderen\n",
    "C# biedt twee primaire manieren om elementen uit een `List<T>` te verwijderen:\n",
    "\n",
    "1.  **`Remove(T item)`**: Deze methode zoekt naar de **eerste keer** dat het opgegeven `item` in de lijst voorkomt en verwijdert het. Het geeft een `bool` terug die aangeeft of de operatie geslaagd is (`true` als het item is gevonden en verwijderd, anders `false`).\n",
    "\n",
    "2.  **`RemoveAt(int index)`**: Deze methode verwijdert het element op de opgegeven `index`. Dit is handig als je de positie van het te verwijderen element weet."
   ]
  },
  {
   "cell_type": "code",
   "execution_count": null,
   "metadata": {
    "polyglot_notebook": {
     "kernelName": "csharp"
    }
   },
   "outputs": [],
   "source": [
    "List<string> namen = [ \"Jan\", \"Piet\", \"Klaas\", \"Piet\" ];\n",
    "\n",
    "// Verwijder de EERSTE \"Piet\"\n",
    "namen.Remove(\"Piet\");\n",
    "// De lijst is nu: [ \"Jan\", \"Klaas\", \"Piet\" ]\n",
    "\n",
    "// Verwijder het element op index 1 (\"Klaas\")\n",
    "namen.RemoveAt(1);\n",
    "// De lijst is nu: [ \"Jan\", \"Piet\" ]"
   ]
  },
  {
   "cell_type": "markdown",
   "metadata": {},
   "source": [
    "**Belangrijke waarschuwing:** Het is niet toegestaan om een lijst aan te passen (items toevoegen of verwijderen) *terwijl* je er met een `foreach`-lus doorheen loopt. Dit verandert de collectie tijdens de iteratie, wat tot onvoorspelbaar gedrag en fouten leidt. Als je elementen wilt verwijderen op basis van een conditie, moet je dit doen met een `for`-lus die van achteren naar voren loopt, of door eerst de te verwijderen items in een aparte lijst te verzamelen en ze daarna pas te verwijderen."
   ]
  },
  {
   "cell_type": "markdown",
   "metadata": {},
   "source": [
    "## Filteren en sorteren\n",
    "\n",
    "Vaak wil je niet met de hele lijst werken, maar met een selectie ervan. Of je wilt de lijst in een bepaalde volgorde presenteren.\n",
    "\n",
    "### Sorteren met `.Sort()`\n",
    "De `Sort()`-methode past de lijst **ter plekke** aan en sorteert de elementen op hun natuurlijke volgorde (alfabetisch voor strings, numeriek voor getallen)."
   ]
  },
  {
   "cell_type": "code",
   "execution_count": null,
   "metadata": {
    "polyglot_notebook": {
     "kernelName": "csharp"
    }
   },
   "outputs": [],
   "source": [
    "List<string> namenLijst = [\"Marc\", \"William\", \"Robin\", \"Jan\"];\n",
    "namenLijst.Sort();\n",
    "// De lijst is nu: [\"Jan\", \"Marc\", \"Robin\", \"William\"]\n",
    "\n",
    "List<int> getallenLijst = [10, 4, 60, 55, -100];\n",
    "getallenLijst.Sort();\n",
    "// De lijst is nu: [-100, 4, 10, 55, 60]"
   ]
  },
  {
   "cell_type": "markdown",
   "metadata": {},
   "source": [
    "### Filteren met lambda expressies\n",
    "Om lijsten te filteren, maken we vaak gebruik van **lambda expressies**. Een lambda expressie is een beknopte, anonieme functie die je direct kunt meegeven aan een andere methode. De syntax is `input => expressie`.\n",
    "\n",
    "- **`Find(item => conditie)`**: Zoekt en retourneert het **eerste** element in de lijst dat aan de conditie voldoet.\n",
    "- **`FindAll(item => conditie)`**: Zoekt en retourneert een **nieuwe lijst** met *alle* elementen die aan de conditie voldoen.\n",
    "- **`Contains(item)`**: Geeft een `bool` terug die aangeeft of de lijst een exact item bevat (deze gebruikt geen lambda)."
   ]
  },
  {
   "cell_type": "code",
   "execution_count": null,
   "metadata": {
    "polyglot_notebook": {
     "kernelName": "csharp"
    }
   },
   "outputs": [],
   "source": [
    "List<string> namenLijst = [\"Marc\", \"Marcel\", \"William\", \"Robin\", \"Jan\", \"Johan\", \"Erik\"];\n",
    "\n",
    "// Zoek de eerste naam die begint met \"J\"\n",
    "string eersteGevonden = namenLijst.Find(naam => naam.StartsWith(\"J\"));\n",
    "Console.WriteLine(\"Eerste gevonden: \" + eersteGevonden); // Output: Jan\n",
    "\n",
    "// Zoek alle namen die beginnen met \"J\"\n",
    "List<string> selectie = namenLijst.FindAll(naam => naam.StartsWith(\"J\"));\n",
    "Console.WriteLine(\"Alle gevonden: \" + string.Join(\", \", selectie)); // Output: Jan, Johan\n",
    "\n",
    "// Bevat de lijst \"Robin\"?\n",
    "bool heeftRobin = namenLijst.Contains(\"Robin\");\n",
    "Console.WriteLine(\"Bevat Robin? \" + heeftRobin); // Output: True"
   ]
  },
  {
   "cell_type": "markdown",
   "metadata": {},
   "source": [
    "## Zoekalgoritmes\n",
    "\n",
    "De `Find`-methodes voeren intern een zoekactie uit. Het is nuttig om te begrijpen hoe deze algoritmes werken.\n",
    "\n",
    "### Lineair zoeken\n",
    "Dit is de eenvoudigste methode. Het algoritme doorloopt de lijst element voor element, van begin tot eind, totdat het gezochte item is gevonden. Dit is wat `Find` en `Contains` standaard doen. Het werkt altijd, maar kan traag zijn bij zeer grote lijsten.\n",
    "\n",
    "### Binair zoeken\n",
    "Een veel efficiëntere methode is binair zoeken. Dit werkt echter **alleen op een gesorteerde lijst**. Het algoritme werkt als volgt:\n",
    "1. Kijk naar het middelste element van de lijst.\n",
    "2. Is dit je item? Dan ben je klaar.\n",
    "3. Is je item kleiner? Herhaal de zoektocht dan alleen in de linkerhelft van de lijst.\n",
    "4. Is je item groter? Herhaal de zoektocht dan alleen in de rechterhelft.\n",
    "Door de zoekruimte steeds te halveren, kan dit algoritme extreem snel het juiste element vinden in grote, gesorteerde datasets.\n",
    "\n",
    "<iframe id=\"kaltura_player\" type=\"text/javascript\"  src='https://api.de.kaltura.com/p/10066/embedPlaykitJs/uiconf_id/23452529?iframeembed=true&entry_id=0_dkbkhu7q&config[provider]={\"widgetId\":\"0_8enbgqcl\"}'  style=\"width: 608px;height: 402px;border: 0;\" allowfullscreen webkitallowfullscreen mozAllowFullScreen allow=\"autoplay *; fullscreen *; encrypted-media *\" sandbox=\"allow-forms allow-same-origin allow-scripts allow-top-navigation allow-pointer-lock allow-popups allow-modals allow-orientation-lock allow-popups-to-escape-sandbox allow-presentation allow-top-navigation-by-user-activation\" title=\"Kaltura Player\"></iframe>"
   ]
  },
  {
   "cell_type": "markdown",
   "metadata": {},
   "source": [
    "# Vragen"
   ]
  },
  {
   "cell_type": "markdown",
   "metadata": {},
   "source": [
    "### Vraag 1: Een item wijzigen\n",
    "Gegeven de onderstaande lijst, wijzig de waarde \"Peer\" naar \"Appel\" door gebruik te maken van de juiste index."
   ]
  },
  {
   "cell_type": "code",
   "execution_count": null,
   "metadata": {
    "polyglot_notebook": {
     "kernelName": "csharp"
    }
   },
   "outputs": [],
   "source": [
    "List<string> fruit = [\"Banaan\", \"Peer\", \"Kiwi\"];"
   ]
  },
  {
   "cell_type": "markdown",
   "metadata": {},
   "source": [
    "### Vraag 2: Een item verwijderen op waarde\n",
    "Verwijder het item `20` uit de onderstaande lijst met de `Remove()`-methode en print de resulterende lijst."
   ]
  },
  {
   "cell_type": "code",
   "execution_count": null,
   "metadata": {
    "polyglot_notebook": {
     "kernelName": "csharp"
    }
   },
   "outputs": [],
   "source": [
    "List<int> getallen = [10, 20, 30, 40];"
   ]
  },
  {
   "cell_type": "markdown",
   "metadata": {},
   "source": [
    "### Vraag 3: Een item verwijderen op index\n",
    "Verwijder het eerste element uit de onderstaande lijst met de `RemoveAt()`-methode."
   ]
  },
  {
   "cell_type": "code",
   "execution_count": null,
   "metadata": {
    "polyglot_notebook": {
     "kernelName": "csharp"
    }
   },
   "outputs": [],
   "source": [
    "List<string> steden = [\"Breda\", \"Tilburg\", \"Eindhoven\"];"
   ]
  },
  {
   "cell_type": "markdown",
   "metadata": {},
   "source": [
    "### Vraag 4: Sorteren\n",
    "Sorteer de onderstaande lijst met getallen van laag naar hoog en print de gesorteerde lijst."
   ]
  },
  {
   "cell_type": "code",
   "execution_count": null,
   "metadata": {
    "polyglot_notebook": {
     "kernelName": "csharp"
    }
   },
   "outputs": [],
   "source": [
    "List<int> scores = [88, 55, 95, 74, 63];"
   ]
  },
  {
   "cell_type": "markdown",
   "metadata": {},
   "source": [
    "### Vraag 5: Bestaat het item?\n",
    "Controleer met de `Contains()`-methode of de naam \"Eva\" in de lijst `namen` voorkomt en print `true` of `false`."
   ]
  },
  {
   "cell_type": "code",
   "execution_count": null,
   "metadata": {
    "polyglot_notebook": {
     "kernelName": "csharp"
    }
   },
   "outputs": [],
   "source": [
    "List<string> namen = [\"Adam\", \"Ben\", \"Chris\", \"Diana\"];"
   ]
  },
  {
   "cell_type": "markdown",
   "metadata": {},
   "source": [
    "### Vraag 6: Filter op lengte\n",
    "Gebruik `FindAll()` om een nieuwe lijst te maken die alleen de namen uit `namenLijst` bevat die langer zijn dan 4 karakters."
   ]
  },
  {
   "cell_type": "code",
   "execution_count": null,
   "metadata": {
    "polyglot_notebook": {
     "kernelName": "csharp"
    }
   },
   "outputs": [],
   "source": [
    "List<string> namenLijst = [\"Jan\", \"Pieternella\", \"Klaas\", \"Eva\", \"Bartholomeus\"];"
   ]
  },
  {
   "cell_type": "markdown",
   "metadata": {},
   "source": [
    "### Vraag 7: Vind de eerste\n",
    "Gebruik `Find()` om het eerste getal in de lijst `getallen` te vinden dat groter is dan 50."
   ]
  },
  {
   "cell_type": "code",
   "execution_count": null,
   "metadata": {
    "polyglot_notebook": {
     "kernelName": "csharp"
    }
   },
   "outputs": [],
   "source": [
    "List<int> getallen = [23, 45, 51, 8, 99];"
   ]
  },
  {
   "cell_type": "markdown",
   "metadata": {},
   "source": [
    "### Vraag 8: Index zoeken\n",
    "De `IndexOf()`-methode geeft de index van het eerste voorkomen van een item terug. Gebruik deze methode om de index van \"Kiwi\" te vinden en te printen."
   ]
  },
  {
   "cell_type": "code",
   "execution_count": null,
   "metadata": {
    "polyglot_notebook": {
     "kernelName": "csharp"
    }
   },
   "outputs": [],
   "source": [
    "List<string> fruit = [\"Appel\", \"Banaan\", \"Kiwi\", \"Mango\"];"
   ]
  },
  {
   "cell_type": "markdown",
   "metadata": {},
   "source": [
    "### Vraag 9: Leegmaken\n",
    "De `Clear()`-methode verwijdert alle elementen uit een lijst. Pas dit toe op de `taken`-lijst en controleer daarna met `.Count` of de lijst inderdaad leeg is."
   ]
  },
  {
   "cell_type": "code",
   "execution_count": null,
   "metadata": {
    "polyglot_notebook": {
     "kernelName": "csharp"
    }
   },
   "outputs": [],
   "source": [
    "List<string> taken = [\"Afwassen\", \"Stofzuigen\", \"Programmeren\"];"
   ]
  },
  {
   "cell_type": "markdown",
   "metadata": {},
   "source": [
    "### Vraag 10: Toevoegen op een specifieke plek\n",
    "De `Insert(index, item)`-methode voegt een item toe op een specifieke index. Voeg \"Peer\" toe op index 1 in de onderstaande lijst."
   ]
  },
  {
   "cell_type": "code",
   "execution_count": null,
   "metadata": {
    "polyglot_notebook": {
     "kernelName": "csharp"
    }
   },
   "outputs": [],
   "source": [
    "List<string> fruitmand = [\"Appel\", \"Banaan\", \"Kiwi\"];"
   ]
  },
  {
   "cell_type": "markdown",
   "metadata": {},
   "source": [
    "# Uitdagingen"
   ]
  },
  {
   "cell_type": "markdown",
   "metadata": {},
   "source": [
    "### Uitdaging 1: Verwijder alle negatieve getallen\n",
    "Gegeven een lijst met getallen, schrijf een algoritme dat *alle* negatieve getallen uit de lijst verwijdert. Denk goed na over het probleem van het aanpassen van een lijst terwijl je er doorheen loopt."
   ]
  },
  {
   "cell_type": "code",
   "execution_count": null,
   "metadata": {
    "polyglot_notebook": {
     "kernelName": "csharp"
    }
   },
   "outputs": [],
   "source": []
  },
  {
   "cell_type": "markdown",
   "metadata": {},
   "source": [
    "### Uitdaging 2: Dubbele waarden verwijderen\n",
    "Schrijf een programma dat alle dubbele waarden uit een `List<int>` verwijdert, zodat elk getal nog maar één keer voorkomt. De volgorde van de overgebleven elementen is niet belangrijk."
   ]
  },
  {
   "cell_type": "code",
   "execution_count": null,
   "metadata": {
    "polyglot_notebook": {
     "kernelName": "csharp"
    }
   },
   "outputs": [],
   "source": []
  },
  {
   "cell_type": "markdown",
   "metadata": {},
   "source": [
    "### Uitdaging 3: Zoeken in een lijst van objecten\n",
    "Definieer een `Product`-klasse met `Naam` (string) en `Prijs` (decimal) properties. Maak een `List<Product>` aan. Gebruik vervolgens `FindAll()` om een nieuwe lijst te maken met alle producten die duurder zijn dan 50 euro."
   ]
  },
  {
   "cell_type": "code",
   "execution_count": null,
   "metadata": {
    "polyglot_notebook": {
     "kernelName": "csharp"
    }
   },
   "outputs": [],
   "source": []
  },
  {
   "cell_type": "markdown",
   "metadata": {},
   "source": [
    "### Uitdaging 4: Binair zoeken implementeren\n",
    "Schrijf je eigen `BinarySearch`-methode die een gesorteerde `List<int>` en een `target` getal als input neemt. De methode moet de index van de target teruggeven, of -1 als deze niet wordt gevonden. Implementeer de logica zoals beschreven in de theorie, zonder gebruik te maken van de ingebouwde `List.BinarySearch`-methode."
   ]
  },
  {
   "cell_type": "code",
   "execution_count": null,
   "metadata": {
    "polyglot_notebook": {
     "kernelName": "csharp"
    }
   },
   "outputs": [],
   "source": []
  },
  {
   "cell_type": "markdown",
   "metadata": {},
   "source": [
    "### Uitdaging 5: Lijsten samenvoegen\n",
    "Gegeven twee `List<int>`-objecten, schrijf code die een derde lijst creëert die alle elementen van de eerste lijst bevat, gevolgd door alle elementen van de tweede lijst. Gebruik hiervoor de `AddRange()`-methode."
   ]
  },
  {
   "cell_type": "code",
   "execution_count": null,
   "metadata": {
    "polyglot_notebook": {
     "kernelName": "csharp"
    }
   },
   "outputs": [],
   "source": []
  }
 ],
 "metadata": {
  "kernelspec": {
   "display_name": ".NET (C#)",
   "language": "C#",
   "name": ".net-csharp"
  },
  "language_info": {
   "name": "polyglot-notebook"
  },
  "polyglot_notebook": {
   "kernelInfo": {
    "defaultKernelName": "csharp",
    "items": [
     {
      "aliases": [],
      "name": "csharp"
     }
    ]
   }
  }
 },
 "nbformat": 4,
 "nbformat_minor": 2
}
