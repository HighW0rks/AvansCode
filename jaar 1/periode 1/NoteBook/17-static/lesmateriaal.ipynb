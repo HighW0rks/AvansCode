{
 "cells": [
  {
   "cell_type": "markdown",
   "metadata": {},
   "source": [
    "# Static Klassen en leden\n",
    "\n",
    "In de vorige les hebben we gezien hoe klassen dienen als blauwdrukken voor objecten. Elk object (elke 'instantie') heeft zijn eigen, unieke set van data. De `HuidigeSnelheid` van de ene auto is onafhankelijk van de andere. \n",
    "\n",
    "Maar wat als we data of gedrag willen hebben dat niet bij één specifiek object hoort, maar bij de klasse als geheel? Denk aan een teller die bijhoudt hoeveel auto-objecten er in totaal zijn gemaakt, of een conversiefunctie die altijd hetzelfde werkt, ongeacht het object. Voor deze scenario's introduceert C# het `static` keyword."
   ]
  },
  {
   "cell_type": "markdown",
   "metadata": {},
   "source": [
    "## Static vs. instance leden: het verschil\n",
    "\n",
    "Binnen een klasse kunnen we leden (properties en methodes) op twee manieren definiëren:\n",
    "\n",
    "- **Instance leden (Niet-static)**: Dit is wat we tot nu toe hebben gezien. Deze leden 'horen' bij een specifieke **instantie** (object) van een klasse. Elke `Auto` heeft zijn eigen `Kleur` en `HuidigeSnelheid`. Je hebt een object nodig om deze leden aan te spreken (`mijnAuto.GeefGas()`).\n",
    "\n",
    "- **Static leden**: Deze leden horen bij de **klasse zelf**, niet bij een individueel object. Er is maar één kopie van een static lid, die wordt gedeeld door alle objecten van die klasse. Je roept ze aan via de klassenaam, niet via een object (`Math.PI`, `Console.WriteLine()`)."
   ]
  },
  {
   "cell_type": "markdown",
   "metadata": {},
   "source": [
    "### Voorbeeld: Autoteller\n",
    "Laten we onze `Auto` klasse uitbreiden met een static teller die bijhoudt hoeveel auto's er zijn gemaakt."
   ]
  },
  {
   "cell_type": "code",
   "execution_count": 1,
   "metadata": {
    "polyglot_notebook": {
     "kernelName": "csharp"
    }
   },
   "outputs": [
    {
     "name": "stdout",
     "output_type": "stream",
     "text": [
      "Aantal auto's in het begin: 0\n",
      "Aantal auto's nu: 2\n"
     ]
    }
   ],
   "source": [
    "public class Auto\n",
    "{\n",
    "    // Instance property: elke auto heeft zijn eigen merk.\n",
    "    public string Merk { get; set; }\n",
    "\n",
    "    // Static field: deze wordt gedeeld door ALLE Auto objecten.\n",
    "    public static int AantalGemaakteAutos = 0;\n",
    "\n",
    "    public Auto(string merk)\n",
    "    {\n",
    "        Merk = merk;\n",
    "        // Verhoog de static teller elke keer als een nieuwe auto wordt gemaakt.\n",
    "        AantalGemaakteAutos++;\n",
    "    }\n",
    "}\n",
    "\n",
    "Console.WriteLine(\"Aantal auto's in het begin: \" + Auto.AantalGemaakteAutos); // Output: 0\n",
    "\n",
    "Auto bmw = new Auto(\"BMW\");\n",
    "Auto vw = new Auto(\"Volkswagen\");\n",
    "\n",
    "// We benaderen de static variabele via de KLASSENAAM.\n",
    "Console.WriteLine(\"Aantal auto's nu: \" + Auto.AantalGemaakteAutos); // Output: 2"
   ]
  },
  {
   "cell_type": "markdown",
   "metadata": {},
   "source": [
    "## Static methodes en klassen\n",
    "\n",
    "### Static methodes\n",
    "Een **static methode** werkt op dezelfde manier: je roept hem aan via de klassenaam. De `Math` klasse is het perfecte voorbeeld. Je schrijft `Math.Sqrt(25)`, niet `new Math().Sqrt(25)`. Static methodes hebben **geen toegang** tot instance-leden (zoals `Merk` of `HuidigeSnelheid`), omdat ze niet aan een specifiek object gekoppeld zijn. Ze kunnen alleen werken met andere static leden of met de parameters die je ze meegeeft.\n",
    "\n",
    "### Static klassen\n",
    "Als een klasse *uitsluitend* uit static leden bestaat en geen staat (instance fields/properties) heeft, kun je de klasse zelf `static` maken. Een static klasse is een soort 'gereedschapskist' met functies die geen eigen data hoeven bij te houden. Denk aan de `Math` klasse: deze heeft geen 'huidige berekening' als eigenschap, het biedt alleen de functies.\n",
    "\n",
    "Een static klasse:\n",
    "- Kan alleen static leden bevatten.\n",
    "- Kan niet geïnstantieerd worden (je kunt er geen object van maken met `new`).\n",
    "- Is 'sealed', wat betekent dat je er niet van kunt erven.\n",
    "\n",
    "Statische klassen zijn ideaal voor het groeperen van zogenoemde helper- of utility-functies: functies waarvan de uitkomst uitsluitend wordt bepaald door de meegegeven argumenten en/of statische velden of eigenschappen binnen de statische klasse, en die dus deterministisch zijn."
   ]
  },
  {
   "cell_type": "code",
   "execution_count": 2,
   "metadata": {
    "polyglot_notebook": {
     "kernelName": "csharp"
    }
   },
   "outputs": [
    {
     "name": "stdout",
     "output_type": "stream",
     "text": [
      "Aantal woorden: 4\r\n"
     ]
    }
   ],
   "source": [
    "public static class TextHelper\n",
    "{\n",
    "    public static int TelWoorden(string zin)\n",
    "    {\n",
    "        if (string.IsNullOrEmpty(zin)) return 0;\n",
    "        return zin.Split(' ').Length;\n",
    "    }\n",
    "}\n",
    "\n",
    "// Je roept de methode direct aan op de klasse\n",
    "int aantal = TextHelper.TelWoorden(\"Dit is een test.\");\n",
    "Console.WriteLine(\"Aantal woorden: \" + aantal);"
   ]
  },
  {
   "cell_type": "markdown",
   "metadata": {},
   "source": [
    "## Lazy evaluation (Short-Circuiting)\n",
    "\n",
    "Een belangrijk concept, dat vaak subtiel wordt toegepast in C#, is **lazy evaluation**. Dit is een programmeertechniek waarbij een expressie pas wordt geëvalueerd wanneer de waarde daadwerkelijk nodig is. In de context van logische operatoren zoals `||` (logische OF) en `&&` (logische EN), wordt dit ook wel **short-circuit evaluatie** genoemd.\n",
    "\n",
    "### Logische OF (`||`)\n",
    "Bij de `||`-operator stopt de evaluatie zodra een van de expressies `true` is. De uiteindelijke uitkomst is dan immers al bekend (het wordt sowieso `true`), ongeacht de waarde van de overige expressies.\n",
    "- `true || x` evalueert direct naar `true` zonder `x` te evalueren.\n",
    "- `false || x` moet `x` evalueren om de uiteindelijke waarde te bepalen."
   ]
  },
  {
   "cell_type": "code",
   "execution_count": 3,
   "metadata": {
    "polyglot_notebook": {
     "kernelName": "csharp"
    }
   },
   "outputs": [
    {
     "name": "stdout",
     "output_type": "stream",
     "text": [
      "Controleer of persoon beheerder is...\n",
      "Toegang verleend.\n"
     ]
    }
   ],
   "source": [
    "bool HeeftToegang(bool isBeheerder)\n",
    "{\n",
    "    Console.WriteLine(\"Controleer of persoon beheerder is...\");\n",
    "    return isBeheerder;\n",
    "}\n",
    "bool HeeftSleutel(bool heeftSleutel)\n",
    "{\n",
    "    // Deze methode wordt NOOIT aangeroepen in het onderstaande voorbeeld!\n",
    "    Console.WriteLine(\"Controleer of persoon een sleutel heeft...\");\n",
    "    return heeftSleutel;\n",
    "}\n",
    "\n",
    "// Omdat HeeftToegang(true) al 'true' teruggeeft, wordt HeeftSleutel() niet meer uitgevoerd.\n",
    "if (HeeftToegang(true) || HeeftSleutel(false))\n",
    "{\n",
    "    Console.WriteLine(\"Toegang verleend.\");\n",
    "}"
   ]
  },
  {
   "cell_type": "markdown",
   "metadata": {},
   "source": [
    "### Logische EN (`&&`)\n",
    "Bij de `&&`-operator stopt de evaluatie zodra een van de operanden `false` is. De uitkomst is dan namelijk al bekend (het wordt sowieso `false`).\n",
    "\n",
    "- `false && x` evalueert direct naar `false` zonder `x` te evalueren.\n",
    "- `true && x` moet `x` evalueren om de uiteindelijke waarde te bepalen.\n",
    "\n",
    "Dit is nuttig om fouten te voorkomen, bijvoorbeeld door eerst te controleren of een object niet `null` is, voordat je een property ervan probeert te benaderen:\n",
    "```csharp\n",
    "if (mijnObject != null && mijnObject.HeeftToegang)\n",
    "{ \n",
    "    // Deze code wordt alleen bereikt als mijnObject NIET null is.\n",
    "}\n",
    "```"
   ]
  },
  {
   "cell_type": "markdown",
   "metadata": {},
   "source": [
    "# Vragen"
   ]
  },
  {
   "cell_type": "markdown",
   "metadata": {},
   "source": [
    "### Vraag 1: Conversie helper\n",
    "Maak een `static` klasse `ValutaConverter` met daarin een `static` methode `EuroNaarDollar` die een `decimal` bedrag in euro's accepteert en dit teruggeeft in dollars. Gebruik een wisselkoers van 1.08."
   ]
  },
  {
   "cell_type": "code",
   "execution_count": null,
   "metadata": {
    "polyglot_notebook": {
     "kernelName": "csharp"
    }
   },
   "outputs": [],
   "source": []
  },
  {
   "cell_type": "markdown",
   "metadata": {},
   "source": [
    "### Vraag 2: Static property\n",
    "Maak een klasse `Game`. Voeg een `static` property `MaxScore` toe van het type `int` en geef deze een waarde van 10000. Maak vervolgens een object van de `Game` klasse en print de waarde van de static property via de klassenaam."
   ]
  },
  {
   "cell_type": "code",
   "execution_count": null,
   "metadata": {
    "polyglot_notebook": {
     "kernelName": "csharp"
    }
   },
   "outputs": [],
   "source": []
  },
  {
   "cell_type": "markdown",
   "metadata": {},
   "source": [
    "### Vraag 3: Lazy evaluation voorspellen\n",
    "Wat zal de onderstaande code printen en waarom? Leg het concept 'short-circuiting' uit in je antwoord."
   ]
  },
  {
   "cell_type": "code",
   "execution_count": null,
   "metadata": {
    "polyglot_notebook": {
     "kernelName": "csharp"
    }
   },
   "outputs": [],
   "source": [
    "bool FunctieA()\n",
    "{\n",
    "    Console.WriteLine(\"Functie A uitgevoerd\");\n",
    "    return false;\n",
    "}\n",
    "\n",
    "bool FunctieB()\n",
    "{\n",
    "    Console.WriteLine(\"Functie B uitgevoerd\");\n",
    "    return true;\n",
    "}\n",
    "\n",
    "Console.WriteLine(\"Testen met &&:\");\n",
    "if (FunctieA() && FunctieB())\n",
    "{\n",
    "    // Doe niets\n",
    "}\n"
   ]
  },
  {
   "cell_type": "markdown",
   "metadata": {},
   "source": [
    "# Uitdagingen"
   ]
  },
  {
   "cell_type": "markdown",
   "metadata": {},
   "source": [
    "### Uitdaging 1: Configuratie klasse met static constructor\n",
    "Maak een `static` klasse `Configuratie` die de instellingen voor een applicatie bevat. Deze klasse moet de volgende `static` properties hebben:\n",
    "- `ApplicatieNaam` (string, `get` only)\n",
    "- `MaxGebruikers` (int, `get` only)\n",
    "- `DatabaseConnectieString` (string, `get` only)\n",
    "\n",
    "Gebruik een **static constructor** om deze properties eenmalig te initialiseren wanneer de klasse voor het eerst wordt gebruikt. Een static constructor heeft geen `public` modifier en geen parameters. Roep vanuit je hoofdprogramma de properties aan om de configuratie te tonen."
   ]
  },
  {
   "cell_type": "code",
   "execution_count": null,
   "metadata": {
    "polyglot_notebook": {
     "kernelName": "csharp"
    }
   },
   "outputs": [],
   "source": []
  }
 ],
 "metadata": {
  "kernelspec": {
   "display_name": ".NET (C#)",
   "language": "C#",
   "name": ".net-csharp"
  },
  "language_info": {
   "name": "polyglot-notebook"
  },
  "polyglot_notebook": {
   "kernelInfo": {
    "defaultKernelName": "csharp",
    "items": [
     {
      "aliases": [],
      "name": "csharp"
     }
    ]
   }
  }
 },
 "nbformat": 4,
 "nbformat_minor": 2
}
