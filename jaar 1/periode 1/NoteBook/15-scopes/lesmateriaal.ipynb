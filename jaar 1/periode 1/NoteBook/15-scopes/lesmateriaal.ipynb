{
 "cells": [
  {
   "cell_type": "markdown",
   "metadata": {},
   "source": [
    "# Scope en de levensduur van variabelen\n",
    "\n",
    "Nu we methodes kunnen schrijven en aanroepen, stuiten we op een fundamenteel concept in bijna elke programmeertaal: **scope**. Scope bepaalt de 'leefomgeving' of context waarin een variabele bestaat en toegankelijk is. Begrijpen hoe scope werkt is essentieel om fouten te voorkomen en om te bepalen waar je variabelen het beste kunt declareren.\n",
    "\n",
    "In dit lesmateriaal onderzoeken we de verschillende niveaus van scope in C# en het concept 'shadowing'."
   ]
  },
  {
   "cell_type": "markdown",
   "metadata": {},
   "source": [
    "## Wat is scope?\n",
    "\n",
    "Een **scope** definieert de grenzen waarbinnen een variabele, methode of ander C#-element herkend en gebruikt kan worden. Buiten deze grenzen 'bestaat' de variabele effectief niet en zal de compiler een foutmelding geven als je deze probeert aan te spreken.\n",
    "\n",
    "In C# wordt een nieuwe scope bijna altijd gedefinieerd door een set accolades `{}`. Alles wat binnen deze accolades wordt gedeclareerd, is in principe alleen toegankelijk binnen diezelfde accolades.\n",
    "\n",
    "### Method scope\n",
    "De meest voorkomende vorm van scope is de **method scope**. Variabelen die je binnen een methode declareert (inclusief de parameters) zijn *lokaal* voor die methode. Ze worden gecreëerd wanneer de methode wordt aangeroepen en worden vernietigd zodra de methode eindigt. Ze zijn dus niet toegankelijk van buitenaf.\n",
    "\n",
    "```csharp\n",
    "public void ToonBericht()\n",
    "{\n",
    "    // 'bericht' heeft een method scope, het bestaat alleen hierbinnen.\n",
    "    string bericht = \"Dit is een lokaal bericht\";\n",
    "    Console.WriteLine(bericht);\n",
    "}\n",
    "\n",
    "// De volgende regel geeft een compileerfout:\n",
    "// Console.WriteLine(bericht); // Fout: 'bericht' is niet bekend in deze scope.\n",
    "```\n",
    "\n",
    "### Block scope\n",
    "Binnen een methode kun je nog kleinere scopes creëren. Elke `if`, `for`, `while`, of `switch` creëert met zijn accolades een eigen **block scope**. Een variabele die je binnen zo'n blok declareert, is alleen geldig tot de sluitende accolade `}` van dat blok.\n",
    "\n",
    "```csharp\n",
    "if (x > 5)\n",
    "{\n",
    "    int j = 10; // 'j' heeft een block scope, het bestaat alleen hier.\n",
    "    Console.WriteLine(j);\n",
    "}\n",
    "// Console.WriteLine(j); // Fout! 'j' is hier buiten zijn scope.\n",
    "```\n",
    "Ook de initialisatievariabele van een `for`-lus (`for (int i = ... )`) heeft een scope die beperkt is tot de lus zelf."
   ]
  },
  {
   "cell_type": "code",
   "execution_count": null,
   "metadata": {
    "polyglot_notebook": {
     "kernelName": "csharp"
    }
   },
   "outputs": [],
   "source": [
    "for (int x = 0; x < 4; x++)\n",
    "{\n",
    "    Console.WriteLine(\"x binnen de lus = \"+ x);\n",
    "}\n",
    "// Console.WriteLine(\"x buiten de lus = \"+ x); // Fout! 'x' bestaat hier niet meer."
   ]
  },
  {
   "cell_type": "markdown",
   "metadata": {},
   "source": [
    "## Geneste scopes en shadowing\n",
    "\n",
    "Scopes kunnen genest worden. Een innerlijke scope heeft toegang tot de variabelen van de omliggende, uiterlijke scope. Andersom geldt dit niet.\n",
    "\n",
    "```csharp\n",
    "string programmaVariabele = \"Ik ben globaal beschikbaar (binnen de class)\";\n",
    "\n",
    "void ToonData()\n",
    "{\n",
    "    // Toegang tot de uiterlijke scope is mogelijk.\n",
    "    Console.WriteLine(programmaVariabele);\n",
    "\n",
    "    string methodeVariabele = \"Ik ben lokaal voor deze methode\";\n",
    "}\n",
    "\n",
    "// Console.WriteLine(methodeVariabele); // Fout! Uiterlijke scope kan niet bij innerlijke scope.\n",
    "```\n",
    "\n",
    "### Shadowing\n",
    "Wat gebeurt er als je in een innerlijke scope een variabele declareert met exact dezelfde naam als een variabele in een uiterlijke scope? In dat geval zal de innerlijke variabele de uiterlijke **overschaduwen** (shadowing). Binnen die innerlijke scope zal elke verwijzing naar die naam de lokale variabele aanspreken. De uiterlijke variabele blijft ongewijzigd.\n",
    "\n",
    "Dit kan een bron van verwarrende bugs zijn en wordt over het algemeen als slechte programmeerstijl beschouwd. Probeer variabelenamen uniek te houden binnen hun context om dit te vermijden."
   ]
  },
  {
   "cell_type": "code",
   "execution_count": null,
   "metadata": {
    "polyglot_notebook": {
     "kernelName": "csharp"
    }
   },
   "outputs": [],
   "source": [
    "// Variabele met een brede (class) scope\n",
    "double valversnelling = 9.81; \n",
    "\n",
    "double berekenKracht(double massa)\n",
    "{\n",
    "    // Deze lokale 'valversnelling' OVERSCHADUWT de globale.\n",
    "    double valversnelling = 11.0;\n",
    "    return massa * valversnelling; // Gebruikt de lokale waarde (11.0)\n",
    "}\n",
    "\n",
    "Console.WriteLine(\"De berekende kracht is: \" + berekenKracht(10)); // Output: 110\n",
    "Console.WriteLine(\"De globale valversnelling is nog steeds: \" + valversnelling); // Output: 9.81"
   ]
  },
  {
   "cell_type": "markdown",
   "metadata": {},
   "source": [
    "# Vragen"
   ]
  },
  {
   "cell_type": "markdown",
   "metadata": {},
   "source": [
    "### Vraag 1: Scope fout analyseren\n",
    "De onderstaande code geeft een compileerfout. Leg uit wat de **scope** is van de variabele `totaal` en waarom de laatste `Console.WriteLine` niet werkt. Pas de code aan zodat deze correct de som van de getallen print."
   ]
  },
  {
   "cell_type": "code",
   "execution_count": null,
   "metadata": {
    "polyglot_notebook": {
     "kernelName": "csharp"
    }
   },
   "outputs": [],
   "source": [
    "int[] getallen = [ 10, 20, 30 ];\n",
    "\n",
    "if (getallen.Length > 0)\n",
    "{\n",
    "    int totaal = 0;\n",
    "    foreach (int getal in getallen)\n",
    "    {\n",
    "        totaal += getal;\n",
    "    }\n",
    "}\n",
    "\n",
    "// Console.WriteLine(\"De som is: \" + totaal); // Waarom werkt dit niet?"
   ]
  },
  {
   "cell_type": "markdown",
   "metadata": {},
   "source": [
    "### Vraag 2: Shadowing voorspellen\n",
    "Wat zal de onderstaande code naar de console schrijven? Leg per `WriteLine` uit welke `bericht` variabele (de globale of de lokale) wordt gebruikt en waarom."
   ]
  },
  {
   "cell_type": "code",
   "execution_count": null,
   "metadata": {
    "polyglot_notebook": {
     "kernelName": "csharp"
    }
   },
   "outputs": [],
   "source": [
    "string bericht = \"Globaal bericht\";\n",
    "\n",
    "void ToonNieuwBericht()\n",
    "{\n",
    "    string bericht = \"Lokaal bericht\";\n",
    "    Console.WriteLine(bericht);\n",
    "}\n",
    "\n",
    "Console.WriteLine(bericht);\n",
    "ToonNieuwBericht();\n",
    "Console.WriteLine(bericht);"
   ]
  },
  {
   "cell_type": "markdown",
   "metadata": {},
   "source": [
    "### Vraag 3: Parameter scope\n",
    "In de methode `VerhoogGetal` hieronder wordt geprobeerd de originele variabele `mijnGetal` aan te passen. Werkt dit? Leg uit wat de **scope** van de parameter `getal` is en waarom de waarde van `mijnGetal` na de methodeaanroep niet veranderd is."
   ]
  },
  {
   "cell_type": "code",
   "execution_count": null,
   "metadata": {
    "polyglot_notebook": {
     "kernelName": "csharp"
    }
   },
   "outputs": [],
   "source": [
    "void VerhoogGetal(int getal)\n",
    "{\n",
    "    getal = getal + 10;\n",
    "    Console.WriteLine(\"Waarde binnen methode: \" + getal);\n",
    "}\n",
    "\n",
    "int mijnGetal = 5;\n",
    "VerhoogGetal(mijnGetal);\n",
    "Console.WriteLine(\"Waarde buiten methode: \" + mijnGetal);"
   ]
  },
  {
   "cell_type": "markdown",
   "metadata": {},
   "source": [
    "# Uitdagingen"
   ]
  },
  {
   "cell_type": "markdown",
   "metadata": {},
   "source": [
    "### Uitdaging 1: Gedeelde teller\n",
    "Schrijf een programma met een 'globale' teller (een `int` variabele gedeclareerd buiten de methodes). Maak twee `void` methodes:\n",
    "1. `VerhoogTeller(int hoeveelheid)`: Verhoogt de globale teller met de opgegeven hoeveelheid.\n",
    "2. `ToonTeller()`: Print de huidige waarde van de globale teller.\n",
    "Roep vanuit je hoofdprogramma beide methodes een paar keer aan om te laten zien dat ze dezelfde variabele beïnvloeden."
   ]
  },
  {
   "cell_type": "code",
   "execution_count": null,
   "metadata": {
    "polyglot_notebook": {
     "kernelName": "csharp"
    }
   },
   "outputs": [],
   "source": []
  },
  {
   "cell_type": "markdown",
   "metadata": {},
   "source": [
    "### Uitdaging 2: Herfactoriseren voor betere scope\n",
    "De code hieronder is functioneel, maar slecht gestructureerd. De logica voor het berekenen van de prijs en het bepalen van de korting staat allemaal door elkaar. Herschrijf de code door twee aparte methodes te maken:\n",
    "1. Een `decimal BerekenKorting(decimal bedrag)` methode die de korting berekent en teruggeeft.\n",
    "2. Een `void ToonPrijsDetails(decimal bedrag)` methode die de eerste methode aanroept en alle prijsdetails (origineel, korting, totaal) netjes print.\n",
    "Denk goed na over welke variabelen lokaal kunnen blijven en welke eventueel als 'globale' constante gedefinieerd kunnen worden."
   ]
  },
  {
   "cell_type": "code",
   "execution_count": null,
   "metadata": {
    "polyglot_notebook": {
     "kernelName": "csharp"
    }
   },
   "outputs": [],
   "source": [
    "// Oorspronkelijke, ongestructureerde code:\n",
    "decimal aankoopBedrag = 120.00m;\n",
    "decimal kortingPercentage = 0.10m; // 10%\n",
    "decimal kortingGrens = 100.00m;\n",
    "decimal berekendeKorting = 0;\n",
    "\n",
    "if (aankoopBedrag > kortingGrens)\n",
    "{\n",
    "    berekendeKorting = aankoopBedrag * kortingPercentage;\n",
    "}\n",
    "\n",
    "decimal eindBedrag = aankoopBedrag - berekendeKorting;\n",
    "Console.WriteLine($\"Origineel: {aankoopBedrag:C}\");\n",
    "Console.WriteLine($\"Korting: {berekendeKorting:C}\");\n",
    "Console.WriteLine($\"Totaal: {eindBedrag:C}\");"
   ]
  }
 ],
 "metadata": {
  "kernelspec": {
   "display_name": ".NET (C#)",
   "language": "C#",
   "name": ".net-csharp"
  },
  "language_info": {
   "name": "polyglot-notebook"
  },
  "polyglot_notebook": {
   "kernelInfo": {
    "defaultKernelName": "csharp",
    "items": [
     {
      "aliases": [],
      "name": "csharp"
     }
    ]
   }
  }
 },
 "nbformat": 4,
 "nbformat_minor": 2
}
